{
 "cells": [
  {
   "cell_type": "code",
   "execution_count": 1,
   "id": "edcb4657",
   "metadata": {},
   "outputs": [],
   "source": [
    "import pandas as pd\n",
    "import numpy as np\n",
    "import matplotlib.pyplot as plt\n",
    "import seaborn as sns"
   ]
  },
  {
   "cell_type": "code",
   "execution_count": 2,
   "id": "572804ff",
   "metadata": {},
   "outputs": [],
   "source": [
    "car=pd.read_csv(\"C:/Users/Mano/Downloads/auto-mpg.data\",delim_whitespace=True,header=None,names=[\"mpg\",\"cylinders\",\"displacement\",\"horsepower\",\"weight\",\"acceleration\",\"modelyear\",\"origin\",\"carname\"],na_values=\"?\")"
   ]
  },
  {
   "cell_type": "code",
   "execution_count": 3,
   "id": "152040b0",
   "metadata": {},
   "outputs": [
    {
     "data": {
      "text/html": [
       "<div>\n",
       "<style scoped>\n",
       "    .dataframe tbody tr th:only-of-type {\n",
       "        vertical-align: middle;\n",
       "    }\n",
       "\n",
       "    .dataframe tbody tr th {\n",
       "        vertical-align: top;\n",
       "    }\n",
       "\n",
       "    .dataframe thead th {\n",
       "        text-align: right;\n",
       "    }\n",
       "</style>\n",
       "<table border=\"1\" class=\"dataframe\">\n",
       "  <thead>\n",
       "    <tr style=\"text-align: right;\">\n",
       "      <th></th>\n",
       "      <th>mpg</th>\n",
       "      <th>cylinders</th>\n",
       "      <th>displacement</th>\n",
       "      <th>horsepower</th>\n",
       "      <th>weight</th>\n",
       "      <th>acceleration</th>\n",
       "      <th>modelyear</th>\n",
       "      <th>origin</th>\n",
       "      <th>carname</th>\n",
       "    </tr>\n",
       "  </thead>\n",
       "  <tbody>\n",
       "    <tr>\n",
       "      <th>0</th>\n",
       "      <td>18.0</td>\n",
       "      <td>8</td>\n",
       "      <td>307.0</td>\n",
       "      <td>130.0</td>\n",
       "      <td>3504.0</td>\n",
       "      <td>12.0</td>\n",
       "      <td>70</td>\n",
       "      <td>1</td>\n",
       "      <td>chevrolet chevelle malibu</td>\n",
       "    </tr>\n",
       "    <tr>\n",
       "      <th>1</th>\n",
       "      <td>15.0</td>\n",
       "      <td>8</td>\n",
       "      <td>350.0</td>\n",
       "      <td>165.0</td>\n",
       "      <td>3693.0</td>\n",
       "      <td>11.5</td>\n",
       "      <td>70</td>\n",
       "      <td>1</td>\n",
       "      <td>buick skylark 320</td>\n",
       "    </tr>\n",
       "    <tr>\n",
       "      <th>2</th>\n",
       "      <td>18.0</td>\n",
       "      <td>8</td>\n",
       "      <td>318.0</td>\n",
       "      <td>150.0</td>\n",
       "      <td>3436.0</td>\n",
       "      <td>11.0</td>\n",
       "      <td>70</td>\n",
       "      <td>1</td>\n",
       "      <td>plymouth satellite</td>\n",
       "    </tr>\n",
       "    <tr>\n",
       "      <th>3</th>\n",
       "      <td>16.0</td>\n",
       "      <td>8</td>\n",
       "      <td>304.0</td>\n",
       "      <td>150.0</td>\n",
       "      <td>3433.0</td>\n",
       "      <td>12.0</td>\n",
       "      <td>70</td>\n",
       "      <td>1</td>\n",
       "      <td>amc rebel sst</td>\n",
       "    </tr>\n",
       "    <tr>\n",
       "      <th>4</th>\n",
       "      <td>17.0</td>\n",
       "      <td>8</td>\n",
       "      <td>302.0</td>\n",
       "      <td>140.0</td>\n",
       "      <td>3449.0</td>\n",
       "      <td>10.5</td>\n",
       "      <td>70</td>\n",
       "      <td>1</td>\n",
       "      <td>ford torino</td>\n",
       "    </tr>\n",
       "  </tbody>\n",
       "</table>\n",
       "</div>"
      ],
      "text/plain": [
       "    mpg  cylinders  displacement  horsepower  weight  acceleration  modelyear  \\\n",
       "0  18.0          8         307.0       130.0  3504.0          12.0         70   \n",
       "1  15.0          8         350.0       165.0  3693.0          11.5         70   \n",
       "2  18.0          8         318.0       150.0  3436.0          11.0         70   \n",
       "3  16.0          8         304.0       150.0  3433.0          12.0         70   \n",
       "4  17.0          8         302.0       140.0  3449.0          10.5         70   \n",
       "\n",
       "   origin                    carname  \n",
       "0       1  chevrolet chevelle malibu  \n",
       "1       1          buick skylark 320  \n",
       "2       1         plymouth satellite  \n",
       "3       1              amc rebel sst  \n",
       "4       1                ford torino  "
      ]
     },
     "execution_count": 3,
     "metadata": {},
     "output_type": "execute_result"
    }
   ],
   "source": [
    "car.head()"
   ]
  },
  {
   "cell_type": "code",
   "execution_count": 4,
   "id": "d439d6c4",
   "metadata": {
    "scrolled": true
   },
   "outputs": [
    {
     "data": {
      "text/html": [
       "<div>\n",
       "<style scoped>\n",
       "    .dataframe tbody tr th:only-of-type {\n",
       "        vertical-align: middle;\n",
       "    }\n",
       "\n",
       "    .dataframe tbody tr th {\n",
       "        vertical-align: top;\n",
       "    }\n",
       "\n",
       "    .dataframe thead th {\n",
       "        text-align: right;\n",
       "    }\n",
       "</style>\n",
       "<table border=\"1\" class=\"dataframe\">\n",
       "  <thead>\n",
       "    <tr style=\"text-align: right;\">\n",
       "      <th></th>\n",
       "      <th>mpg</th>\n",
       "      <th>cylinders</th>\n",
       "      <th>displacement</th>\n",
       "      <th>horsepower</th>\n",
       "      <th>weight</th>\n",
       "      <th>acceleration</th>\n",
       "      <th>modelyear</th>\n",
       "      <th>origin</th>\n",
       "    </tr>\n",
       "  </thead>\n",
       "  <tbody>\n",
       "    <tr>\n",
       "      <th>count</th>\n",
       "      <td>398.000000</td>\n",
       "      <td>398.000000</td>\n",
       "      <td>398.000000</td>\n",
       "      <td>392.000000</td>\n",
       "      <td>398.000000</td>\n",
       "      <td>398.000000</td>\n",
       "      <td>398.000000</td>\n",
       "      <td>398.000000</td>\n",
       "    </tr>\n",
       "    <tr>\n",
       "      <th>mean</th>\n",
       "      <td>23.514573</td>\n",
       "      <td>5.454774</td>\n",
       "      <td>193.425879</td>\n",
       "      <td>104.469388</td>\n",
       "      <td>2970.424623</td>\n",
       "      <td>15.568090</td>\n",
       "      <td>76.010050</td>\n",
       "      <td>1.572864</td>\n",
       "    </tr>\n",
       "    <tr>\n",
       "      <th>std</th>\n",
       "      <td>7.815984</td>\n",
       "      <td>1.701004</td>\n",
       "      <td>104.269838</td>\n",
       "      <td>38.491160</td>\n",
       "      <td>846.841774</td>\n",
       "      <td>2.757689</td>\n",
       "      <td>3.697627</td>\n",
       "      <td>0.802055</td>\n",
       "    </tr>\n",
       "    <tr>\n",
       "      <th>min</th>\n",
       "      <td>9.000000</td>\n",
       "      <td>3.000000</td>\n",
       "      <td>68.000000</td>\n",
       "      <td>46.000000</td>\n",
       "      <td>1613.000000</td>\n",
       "      <td>8.000000</td>\n",
       "      <td>70.000000</td>\n",
       "      <td>1.000000</td>\n",
       "    </tr>\n",
       "    <tr>\n",
       "      <th>25%</th>\n",
       "      <td>17.500000</td>\n",
       "      <td>4.000000</td>\n",
       "      <td>104.250000</td>\n",
       "      <td>75.000000</td>\n",
       "      <td>2223.750000</td>\n",
       "      <td>13.825000</td>\n",
       "      <td>73.000000</td>\n",
       "      <td>1.000000</td>\n",
       "    </tr>\n",
       "    <tr>\n",
       "      <th>50%</th>\n",
       "      <td>23.000000</td>\n",
       "      <td>4.000000</td>\n",
       "      <td>148.500000</td>\n",
       "      <td>93.500000</td>\n",
       "      <td>2803.500000</td>\n",
       "      <td>15.500000</td>\n",
       "      <td>76.000000</td>\n",
       "      <td>1.000000</td>\n",
       "    </tr>\n",
       "    <tr>\n",
       "      <th>75%</th>\n",
       "      <td>29.000000</td>\n",
       "      <td>8.000000</td>\n",
       "      <td>262.000000</td>\n",
       "      <td>126.000000</td>\n",
       "      <td>3608.000000</td>\n",
       "      <td>17.175000</td>\n",
       "      <td>79.000000</td>\n",
       "      <td>2.000000</td>\n",
       "    </tr>\n",
       "    <tr>\n",
       "      <th>max</th>\n",
       "      <td>46.600000</td>\n",
       "      <td>8.000000</td>\n",
       "      <td>455.000000</td>\n",
       "      <td>230.000000</td>\n",
       "      <td>5140.000000</td>\n",
       "      <td>24.800000</td>\n",
       "      <td>82.000000</td>\n",
       "      <td>3.000000</td>\n",
       "    </tr>\n",
       "  </tbody>\n",
       "</table>\n",
       "</div>"
      ],
      "text/plain": [
       "              mpg   cylinders  displacement  horsepower       weight  \\\n",
       "count  398.000000  398.000000    398.000000  392.000000   398.000000   \n",
       "mean    23.514573    5.454774    193.425879  104.469388  2970.424623   \n",
       "std      7.815984    1.701004    104.269838   38.491160   846.841774   \n",
       "min      9.000000    3.000000     68.000000   46.000000  1613.000000   \n",
       "25%     17.500000    4.000000    104.250000   75.000000  2223.750000   \n",
       "50%     23.000000    4.000000    148.500000   93.500000  2803.500000   \n",
       "75%     29.000000    8.000000    262.000000  126.000000  3608.000000   \n",
       "max     46.600000    8.000000    455.000000  230.000000  5140.000000   \n",
       "\n",
       "       acceleration   modelyear      origin  \n",
       "count    398.000000  398.000000  398.000000  \n",
       "mean      15.568090   76.010050    1.572864  \n",
       "std        2.757689    3.697627    0.802055  \n",
       "min        8.000000   70.000000    1.000000  \n",
       "25%       13.825000   73.000000    1.000000  \n",
       "50%       15.500000   76.000000    1.000000  \n",
       "75%       17.175000   79.000000    2.000000  \n",
       "max       24.800000   82.000000    3.000000  "
      ]
     },
     "execution_count": 4,
     "metadata": {},
     "output_type": "execute_result"
    }
   ],
   "source": [
    "\n",
    "car=pd.read_csv(\"C:/Users/Mano/Downloads/auto-mpg.data\",delim_whitespace=True,header=None,names=[\"mpg\",\"cylinders\",\"displacement\",\"horsepower\",\"weight\",\"acceleration\",\"modelyear\",\"origin\",\"carname\"],na_values=\"?\")\n",
    "car.describe()"
   ]
  },
  {
   "cell_type": "code",
   "execution_count": 5,
   "id": "572352a9",
   "metadata": {},
   "outputs": [
    {
     "data": {
      "text/plain": [
       "(398, 9)"
      ]
     },
     "execution_count": 5,
     "metadata": {},
     "output_type": "execute_result"
    }
   ],
   "source": [
    "car.shape"
   ]
  },
  {
   "cell_type": "code",
   "execution_count": 6,
   "id": "56e42490",
   "metadata": {},
   "outputs": [],
   "source": [
    "car.columns=[\"mpg\",\"cylinders\",\"displacement\",\"horsepower\",\"weight\",\"acceleration\",\"modelyear\",\"origin\",\"carname\"]"
   ]
  },
  {
   "cell_type": "code",
   "execution_count": 7,
   "id": "f0c3c8c5",
   "metadata": {},
   "outputs": [
    {
     "data": {
      "text/plain": [
       "Index(['mpg', 'cylinders', 'displacement', 'horsepower', 'weight',\n",
       "       'acceleration', 'modelyear', 'origin', 'carname'],\n",
       "      dtype='object')"
      ]
     },
     "execution_count": 7,
     "metadata": {},
     "output_type": "execute_result"
    }
   ],
   "source": [
    "car.columns"
   ]
  },
  {
   "cell_type": "code",
   "execution_count": 8,
   "id": "d75b38cb",
   "metadata": {},
   "outputs": [
    {
     "data": {
      "text/plain": [
       "mpg             0\n",
       "cylinders       0\n",
       "displacement    0\n",
       "horsepower      6\n",
       "weight          0\n",
       "acceleration    0\n",
       "modelyear       0\n",
       "origin          0\n",
       "carname         0\n",
       "dtype: int64"
      ]
     },
     "execution_count": 8,
     "metadata": {},
     "output_type": "execute_result"
    }
   ],
   "source": [
    "car.isnull().sum()"
   ]
  },
  {
   "cell_type": "code",
   "execution_count": 9,
   "id": "3cbf6f2e",
   "metadata": {
    "scrolled": true
   },
   "outputs": [
    {
     "data": {
      "text/plain": [
       "{'whiskers': [<matplotlib.lines.Line2D at 0x231de49c490>,\n",
       "  <matplotlib.lines.Line2D at 0x231de49c760>],\n",
       " 'caps': [<matplotlib.lines.Line2D at 0x231de49caf0>,\n",
       "  <matplotlib.lines.Line2D at 0x231de49cd00>],\n",
       " 'boxes': [<matplotlib.lines.Line2D at 0x231de49c1c0>],\n",
       " 'medians': [<matplotlib.lines.Line2D at 0x231de49cfd0>],\n",
       " 'fliers': [<matplotlib.lines.Line2D at 0x231de4ad2e0>],\n",
       " 'means': []}"
      ]
     },
     "execution_count": 9,
     "metadata": {},
     "output_type": "execute_result"
    },
    {
     "data": {
      "image/png": "[encoded data removed]",
      "text/plain": [
       "<Figure size 432x288 with 1 Axes>"
      ]
     },
     "metadata": {
      "needs_background": "light"
     },
     "output_type": "display_data"
    }
   ],
   "source": [
    "plt.boxplot(car.mpg)"
   ]
  },
  {
   "cell_type": "code",
   "execution_count": 10,
   "id": "38ab1b83",
   "metadata": {},
   "outputs": [
    {
     "data": {
      "text/plain": [
       "{'whiskers': [<matplotlib.lines.Line2D at 0x231de597280>,\n",
       "  <matplotlib.lines.Line2D at 0x231de597550>],\n",
       " 'caps': [<matplotlib.lines.Line2D at 0x231de597820>,\n",
       "  <matplotlib.lines.Line2D at 0x231de597af0>],\n",
       " 'boxes': [<matplotlib.lines.Line2D at 0x231de588f70>],\n",
       " 'medians': [<matplotlib.lines.Line2D at 0x231de597dc0>],\n",
       " 'fliers': [<matplotlib.lines.Line2D at 0x231de5a40d0>],\n",
       " 'means': []}"
      ]
     },
     "execution_count": 10,
     "metadata": {},
     "output_type": "execute_result"
    },
    {
     "data": {
      "image/png": "[encoded data removed]",
      "text/plain": [
       "<Figure size 432x288 with 1 Axes>"
      ]
     },
     "metadata": {
      "needs_background": "light"
     },
     "output_type": "display_data"
    }
   ],
   "source": [
    "plt.boxplot(car.cylinders)"
   ]
  },
  {
   "cell_type": "code",
   "execution_count": 11,
   "id": "1a69f64d",
   "metadata": {},
   "outputs": [
    {
     "data": {
      "text/plain": [
       "array([[<AxesSubplot:title={'center':'mpg'}>,\n",
       "        <AxesSubplot:title={'center':'cylinders'}>,\n",
       "        <AxesSubplot:title={'center':'displacement'}>],\n",
       "       [<AxesSubplot:title={'center':'horsepower'}>,\n",
       "        <AxesSubplot:title={'center':'weight'}>,\n",
       "        <AxesSubplot:title={'center':'acceleration'}>],\n",
       "       [<AxesSubplot:title={'center':'modelyear'}>,\n",
       "        <AxesSubplot:title={'center':'origin'}>, <AxesSubplot:>]],\n",
       "      dtype=object)"
      ]
     },
     "execution_count": 11,
     "metadata": {},
     "output_type": "execute_result"
    },
    {
     "data": {
      "image/png": "[encoded data removed]",
      "text/plain": [
       "<Figure size 432x288 with 9 Axes>"
      ]
     },
     "metadata": {
      "needs_background": "light"
     },
     "output_type": "display_data"
    }
   ],
   "source": [
    "car.hist()"
   ]
  },
  {
   "cell_type": "code",
   "execution_count": 12,
   "id": "3c6ccb7b",
   "metadata": {},
   "outputs": [
    {
     "data": {
      "text/plain": [
       "<AxesSubplot:xlabel='mpg', ylabel='horsepower'>"
      ]
     },
     "execution_count": 12,
     "metadata": {},
     "output_type": "execute_result"
    },
    {
     "data": {
      "image/png": "[encoded data removed]",
      "text/plain": [
       "<Figure size 432x288 with 1 Axes>"
      ]
     },
     "metadata": {
      "needs_background": "light"
     },
     "output_type": "display_data"
    }
   ],
   "source": [
    "sns.scatterplot(x=car.mpg,y=car.horsepower)"
   ]
  },
  {
   "cell_type": "code",
   "execution_count": 13,
   "id": "addbb093",
   "metadata": {},
   "outputs": [
    {
     "data": {
      "text/plain": [
       "(array([ 27.,  95., 120.,  44.,  19.,  47.,  13.,  14.,   5.,   8.]),\n",
       " array([ 46. ,  64.4,  82.8, 101.2, 119.6, 138. , 156.4, 174.8, 193.2,\n",
       "        211.6, 230. ]),\n",
       " <BarContainer object of 10 artists>)"
      ]
     },
     "execution_count": 13,
     "metadata": {},
     "output_type": "execute_result"
    },
    {
     "data": {
      "image/png": "[encoded data removed]",
      "text/plain": [
       "<Figure size 432x288 with 1 Axes>"
      ]
     },
     "metadata": {
      "needs_background": "light"
     },
     "output_type": "display_data"
    }
   ],
   "source": [
    "plt.hist(car.horsepower)"
   ]
  },
  {
   "cell_type": "code",
   "execution_count": 14,
   "id": "e7a0bb65",
   "metadata": {},
   "outputs": [
    {
     "name": "stdout",
     "output_type": "stream",
     "text": [
      "<class 'pandas.core.frame.DataFrame'>\n",
      "RangeIndex: 398 entries, 0 to 397\n",
      "Data columns (total 9 columns):\n",
      " #   Column        Non-Null Count  Dtype  \n",
      "---  ------        --------------  -----  \n",
      " 0   mpg           398 non-null    float64\n",
      " 1   cylinders     398 non-null    int64  \n",
      " 2   displacement  398 non-null    float64\n",
      " 3   horsepower    392 non-null    float64\n",
      " 4   weight        398 non-null    float64\n",
      " 5   acceleration  398 non-null    float64\n",
      " 6   modelyear     398 non-null    int64  \n",
      " 7   origin        398 non-null    int64  \n",
      " 8   carname       398 non-null    object \n",
      "dtypes: float64(5), int64(3), object(1)\n",
      "memory usage: 28.1+ KB\n"
     ]
    }
   ],
   "source": [
    "car.info()"
   ]
  },
  {
   "cell_type": "code",
   "execution_count": 15,
   "id": "0f87ef91",
   "metadata": {},
   "outputs": [
    {
     "data": {
      "text/plain": [
       "array([130., 165., 150., 140., 198., 220., 215., 225., 190., 170., 160.,\n",
       "        95.,  97.,  85.,  88.,  46.,  87.,  90., 113., 200., 210., 193.,\n",
       "        nan, 100., 105., 175., 153., 180., 110.,  72.,  86.,  70.,  76.,\n",
       "        65.,  69.,  60.,  80.,  54., 208., 155., 112.,  92., 145., 137.,\n",
       "       158., 167.,  94., 107., 230.,  49.,  75.,  91., 122.,  67.,  83.,\n",
       "        78.,  52.,  61.,  93., 148., 129.,  96.,  71.,  98., 115.,  53.,\n",
       "        81.,  79., 120., 152., 102., 108.,  68.,  58., 149.,  89.,  63.,\n",
       "        48.,  66., 139., 103., 125., 133., 138., 135., 142.,  77.,  62.,\n",
       "       132.,  84.,  64.,  74., 116.,  82.])"
      ]
     },
     "execution_count": 15,
     "metadata": {},
     "output_type": "execute_result"
    }
   ],
   "source": [
    "car.horsepower.unique()"
   ]
  },
  {
   "cell_type": "code",
   "execution_count": 16,
   "id": "84b56ced",
   "metadata": {},
   "outputs": [],
   "source": [
    "car.horsepower.fillna(car.horsepower.mean(),inplace=True)"
   ]
  },
  {
   "cell_type": "code",
   "execution_count": 17,
   "id": "7ee3ac0c",
   "metadata": {},
   "outputs": [
    {
     "data": {
      "text/plain": [
       "mpg             0\n",
       "cylinders       0\n",
       "displacement    0\n",
       "horsepower      0\n",
       "weight          0\n",
       "acceleration    0\n",
       "modelyear       0\n",
       "origin          0\n",
       "carname         0\n",
       "dtype: int64"
      ]
     },
     "execution_count": 17,
     "metadata": {},
     "output_type": "execute_result"
    }
   ],
   "source": [
    "car.isnull().sum()"
   ]
  },
  {
   "cell_type": "code",
   "execution_count": 18,
   "id": "72320a7e",
   "metadata": {},
   "outputs": [
    {
     "data": {
      "text/plain": [
       "{'whiskers': [<matplotlib.lines.Line2D at 0x231deaa7c70>,\n",
       "  <matplotlib.lines.Line2D at 0x231deaa7f40>],\n",
       " 'caps': [<matplotlib.lines.Line2D at 0x231deab6250>,\n",
       "  <matplotlib.lines.Line2D at 0x231deab6520>],\n",
       " 'boxes': [<matplotlib.lines.Line2D at 0x231deaa79a0>],\n",
       " 'medians': [<matplotlib.lines.Line2D at 0x231deab67f0>],\n",
       " 'fliers': [<matplotlib.lines.Line2D at 0x231deab6ac0>],\n",
       " 'means': []}"
      ]
     },
     "execution_count": 18,
     "metadata": {},
     "output_type": "execute_result"
    },
    {
     "data": {
      "image/png": "[encoded data removed]",
      "text/plain": [
       "<Figure size 432x288 with 1 Axes>"
      ]
     },
     "metadata": {
      "needs_background": "light"
     },
     "output_type": "display_data"
    }
   ],
   "source": [
    "plt.boxplot(car.mpg)"
   ]
  },
  {
   "cell_type": "code",
   "execution_count": 19,
   "id": "214193fe",
   "metadata": {},
   "outputs": [
    {
     "data": {
      "text/plain": [
       "{'whiskers': [<matplotlib.lines.Line2D at 0x231deb129d0>,\n",
       "  <matplotlib.lines.Line2D at 0x231deb12ca0>],\n",
       " 'caps': [<matplotlib.lines.Line2D at 0x231deb12f70>,\n",
       "  <matplotlib.lines.Line2D at 0x231deb20280>],\n",
       " 'boxes': [<matplotlib.lines.Line2D at 0x231deb12700>],\n",
       " 'medians': [<matplotlib.lines.Line2D at 0x231deb20550>],\n",
       " 'fliers': [<matplotlib.lines.Line2D at 0x231deb20820>],\n",
       " 'means': []}"
      ]
     },
     "execution_count": 19,
     "metadata": {},
     "output_type": "execute_result"
    },
    {
     "data": {
      "image/png": "[encoded data removed]",
      "text/plain": [
       "<Figure size 432x288 with 1 Axes>"
      ]
     },
     "metadata": {
      "needs_background": "light"
     },
     "output_type": "display_data"
    }
   ],
   "source": [
    "plt.boxplot(car.horsepower)"
   ]
  },
  {
   "cell_type": "code",
   "execution_count": 20,
   "id": "3f7e638d",
   "metadata": {},
   "outputs": [
    {
     "name": "stdout",
     "output_type": "stream",
     "text": [
      "<class 'pandas.core.frame.DataFrame'>\n",
      "RangeIndex: 398 entries, 0 to 397\n",
      "Data columns (total 9 columns):\n",
      " #   Column        Non-Null Count  Dtype  \n",
      "---  ------        --------------  -----  \n",
      " 0   mpg           398 non-null    float64\n",
      " 1   cylinders     398 non-null    int64  \n",
      " 2   displacement  398 non-null    float64\n",
      " 3   horsepower    398 non-null    float64\n",
      " 4   weight        398 non-null    float64\n",
      " 5   acceleration  398 non-null    float64\n",
      " 6   modelyear     398 non-null    int64  \n",
      " 7   origin        398 non-null    int64  \n",
      " 8   carname       398 non-null    object \n",
      "dtypes: float64(5), int64(3), object(1)\n",
      "memory usage: 28.1+ KB\n"
     ]
    }
   ],
   "source": [
    "car.info()"
   ]
  },
  {
   "cell_type": "code",
   "execution_count": 21,
   "id": "570fa9a7",
   "metadata": {},
   "outputs": [
    {
     "data": {
      "text/plain": [
       "<BarContainer object of 398 artists>"
      ]
     },
     "execution_count": 21,
     "metadata": {},
     "output_type": "execute_result"
    },
    {
     "data": {
      "image/png": "[encoded data removed]",
      "text/plain": [
       "<Figure size 432x288 with 1 Axes>"
      ]
     },
     "metadata": {
      "needs_background": "light"
     },
     "output_type": "display_data"
    }
   ],
   "source": [
    "plt.bar(car.carname,car.cylinders,color=\"yellow\")"
   ]
  },
  {
   "cell_type": "code",
   "execution_count": 22,
   "id": "73b439da",
   "metadata": {},
   "outputs": [
    {
     "data": {
      "text/plain": [
       "4    204\n",
       "8    103\n",
       "6     84\n",
       "3      4\n",
       "5      3\n",
       "Name: cylinders, dtype: int64"
      ]
     },
     "execution_count": 22,
     "metadata": {},
     "output_type": "execute_result"
    }
   ],
   "source": [
    "car.cylinders.value_counts()"
   ]
  },
  {
   "cell_type": "code",
   "execution_count": 23,
   "id": "582802ec",
   "metadata": {},
   "outputs": [
    {
     "data": {
      "text/plain": [
       "(array([  4.,   0., 204.,   0.,   3.,   0.,  84.,   0.,   0., 103.]),\n",
       " array([3. , 3.5, 4. , 4.5, 5. , 5.5, 6. , 6.5, 7. , 7.5, 8. ]),\n",
       " <BarContainer object of 10 artists>)"
      ]
     },
     "execution_count": 23,
     "metadata": {},
     "output_type": "execute_result"
    },
    {
     "data": {
      "image/png": "[encoded data removed]",
      "text/plain": [
       "<Figure size 432x288 with 1 Axes>"
      ]
     },
     "metadata": {
      "needs_background": "light"
     },
     "output_type": "display_data"
    }
   ],
   "source": [
    "plt.hist(car.cylinders)"
   ]
  },
  {
   "cell_type": "code",
   "execution_count": 24,
   "id": "1d74ecd9",
   "metadata": {},
   "outputs": [
    {
     "data": {
      "image/png": "[encoded data removed]",
      "text/plain": [
       "<Figure size 432x288 with 1 Axes>"
      ]
     },
     "metadata": {
      "needs_background": "light"
     },
     "output_type": "display_data"
    }
   ],
   "source": [
    "d=sns.countplot(x=\"cylinders\",data=car)"
   ]
  },
  {
   "cell_type": "code",
   "execution_count": 25,
   "id": "07186e09",
   "metadata": {},
   "outputs": [],
   "source": [
    "car.cylinders=car.cylinders.replace(3,'below_5')\n",
    "car.cylinders=car.cylinders.replace(4,'below_5')\n",
    "car.cylinders=car.cylinders.replace(5,'below_5')"
   ]
  },
  {
   "cell_type": "code",
   "execution_count": 26,
   "id": "3fd1a880",
   "metadata": {},
   "outputs": [
    {
     "data": {
      "text/plain": [
       "<AxesSubplot:xlabel='cylinders', ylabel='count'>"
      ]
     },
     "execution_count": 26,
     "metadata": {},
     "output_type": "execute_result"
    },
    {
     "data": {
      "image/png": "[encoded data removed]",
      "text/plain": [
       "<Figure size 432x288 with 1 Axes>"
      ]
     },
     "metadata": {
      "needs_background": "light"
     },
     "output_type": "display_data"
    }
   ],
   "source": [
    "sns.countplot(x=car.cylinders)"
   ]
  },
  {
   "cell_type": "code",
   "execution_count": 27,
   "id": "d0d404d5",
   "metadata": {},
   "outputs": [
    {
     "data": {
      "text/plain": [
       "<AxesSubplot:xlabel='cylinders', ylabel='count'>"
      ]
     },
     "execution_count": 27,
     "metadata": {},
     "output_type": "execute_result"
    },
    {
     "data": {
      "image/png": "[encoded data removed]",
      "text/plain": [
       "<Figure size 432x288 with 1 Axes>"
      ]
     },
     "metadata": {
      "needs_background": "light"
     },
     "output_type": "display_data"
    }
   ],
   "source": [
    "sns.countplot(x=car.cylinders,order=['below_5',6,8])"
   ]
  },
  {
   "cell_type": "code",
   "execution_count": 28,
   "id": "3ca36253",
   "metadata": {},
   "outputs": [
    {
     "data": {
      "text/plain": [
       "{'whiskers': [<matplotlib.lines.Line2D at 0x231e03dfa60>,\n",
       "  <matplotlib.lines.Line2D at 0x231e03dfd30>],\n",
       " 'caps': [<matplotlib.lines.Line2D at 0x231e03dfee0>,\n",
       "  <matplotlib.lines.Line2D at 0x231e03ef1f0>],\n",
       " 'boxes': [<matplotlib.lines.Line2D at 0x231e03df790>],\n",
       " 'medians': [<matplotlib.lines.Line2D at 0x231e03ef4c0>],\n",
       " 'fliers': [<matplotlib.lines.Line2D at 0x231e03ef790>],\n",
       " 'means': []}"
      ]
     },
     "execution_count": 28,
     "metadata": {},
     "output_type": "execute_result"
    },
    {
     "data": {
      "image/png": "[encoded data removed]",
      "text/plain": [
       "<Figure size 432x288 with 1 Axes>"
      ]
     },
     "metadata": {
      "needs_background": "light"
     },
     "output_type": "display_data"
    }
   ],
   "source": [
    "plt.boxplot(car.displacement)"
   ]
  },
  {
   "cell_type": "code",
   "execution_count": 29,
   "id": "5e71aff0",
   "metadata": {},
   "outputs": [],
   "source": [
    "from scipy import stats\n",
    "from statsmodels.stats.proportion import proportions_ztest"
   ]
  },
  {
   "cell_type": "code",
   "execution_count": 30,
   "id": "4abdb961",
   "metadata": {},
   "outputs": [
    {
     "data": {
      "text/plain": [
       "ShapiroResult(statistic=0.8804193139076233, pvalue=5.1434173206608516e-17)"
      ]
     },
     "execution_count": 30,
     "metadata": {},
     "output_type": "execute_result"
    }
   ],
   "source": [
    "stats.shapiro(car.displacement)\n"
   ]
  },
  {
   "cell_type": "code",
   "execution_count": 31,
   "id": "3c35730f",
   "metadata": {},
   "outputs": [
    {
     "data": {
      "text/plain": [
       "(array([107.,  89.,  31.,  13.,  57.,   3.,  42.,  31.,  16.,   9.]),\n",
       " array([ 68. , 106.7, 145.4, 184.1, 222.8, 261.5, 300.2, 338.9, 377.6,\n",
       "        416.3, 455. ]),\n",
       " <BarContainer object of 10 artists>)"
      ]
     },
     "execution_count": 31,
     "metadata": {},
     "output_type": "execute_result"
    },
    {
     "data": {
      "image/png": "[encoded data removed]",
      "text/plain": [
       "<Figure size 432x288 with 1 Axes>"
      ]
     },
     "metadata": {
      "needs_background": "light"
     },
     "output_type": "display_data"
    }
   ],
   "source": [
    "plt.hist(car.displacement)"
   ]
  },
  {
   "cell_type": "code",
   "execution_count": 32,
   "id": "d26b9c2e",
   "metadata": {},
   "outputs": [
    {
     "data": {
      "text/plain": [
       "{'whiskers': [<matplotlib.lines.Line2D at 0x231e050bca0>,\n",
       "  <matplotlib.lines.Line2D at 0x231e050bf70>],\n",
       " 'caps': [<matplotlib.lines.Line2D at 0x231e051b280>,\n",
       "  <matplotlib.lines.Line2D at 0x231e051b550>],\n",
       " 'boxes': [<matplotlib.lines.Line2D at 0x231e050b9d0>],\n",
       " 'medians': [<matplotlib.lines.Line2D at 0x231e051b820>],\n",
       " 'fliers': [<matplotlib.lines.Line2D at 0x231e051baf0>],\n",
       " 'means': []}"
      ]
     },
     "execution_count": 32,
     "metadata": {},
     "output_type": "execute_result"
    },
    {
     "data": {
      "image/png": "[encoded data removed]",
      "text/plain": [
       "<Figure size 432x288 with 1 Axes>"
      ]
     },
     "metadata": {
      "needs_background": "light"
     },
     "output_type": "display_data"
    }
   ],
   "source": [
    "plt.boxplot(car.weight)"
   ]
  },
  {
   "cell_type": "code",
   "execution_count": 33,
   "id": "9cc34246",
   "metadata": {},
   "outputs": [
    {
     "data": {
      "text/plain": [
       "ShapiroResult(statistic=0.9413594603538513, pvalue=1.9702153103429154e-11)"
      ]
     },
     "execution_count": 33,
     "metadata": {},
     "output_type": "execute_result"
    }
   ],
   "source": [
    "stats.shapiro(car.weight)\n"
   ]
  },
  {
   "cell_type": "code",
   "execution_count": 34,
   "id": "fa823618",
   "metadata": {},
   "outputs": [
    {
     "data": {
      "text/plain": [
       "(array([31., 90., 59., 54., 37., 40., 29., 34., 18.,  6.]),\n",
       " array([1613. , 1965.7, 2318.4, 2671.1, 3023.8, 3376.5, 3729.2, 4081.9,\n",
       "        4434.6, 4787.3, 5140. ]),\n",
       " <BarContainer object of 10 artists>)"
      ]
     },
     "execution_count": 34,
     "metadata": {},
     "output_type": "execute_result"
    },
    {
     "data": {
      "image/png": "[encoded data removed]",
      "text/plain": [
       "<Figure size 432x288 with 1 Axes>"
      ]
     },
     "metadata": {
      "needs_background": "light"
     },
     "output_type": "display_data"
    }
   ],
   "source": [
    "plt.hist(car.weight)"
   ]
  },
  {
   "cell_type": "code",
   "execution_count": 35,
   "id": "4cbed0fc",
   "metadata": {},
   "outputs": [
    {
     "data": {
      "text/plain": [
       "{'whiskers': [<matplotlib.lines.Line2D at 0x231e05f7250>,\n",
       "  <matplotlib.lines.Line2D at 0x231e05f7520>],\n",
       " 'caps': [<matplotlib.lines.Line2D at 0x231e05f77f0>,\n",
       "  <matplotlib.lines.Line2D at 0x231e05f7ac0>],\n",
       " 'boxes': [<matplotlib.lines.Line2D at 0x231e05e8f40>],\n",
       " 'medians': [<matplotlib.lines.Line2D at 0x231e05f7d90>],\n",
       " 'fliers': [<matplotlib.lines.Line2D at 0x231e06060a0>],\n",
       " 'means': []}"
      ]
     },
     "execution_count": 35,
     "metadata": {},
     "output_type": "execute_result"
    },
    {
     "data": {
      "image/png": "[encoded data removed]",
      "text/plain": [
       "<Figure size 432x288 with 1 Axes>"
      ]
     },
     "metadata": {
      "needs_background": "light"
     },
     "output_type": "display_data"
    }
   ],
   "source": [
    "plt.boxplot(car.acceleration)"
   ]
  },
  {
   "cell_type": "code",
   "execution_count": 36,
   "id": "5ceae4d4",
   "metadata": {},
   "outputs": [
    {
     "data": {
      "text/plain": [
       "ShapiroResult(statistic=0.9923787713050842, pvalue=0.039872437715530396)"
      ]
     },
     "execution_count": 36,
     "metadata": {},
     "output_type": "execute_result"
    }
   ],
   "source": [
    "stats.shapiro(car.acceleration)"
   ]
  },
  {
   "cell_type": "code",
   "execution_count": 37,
   "id": "e7d53dc1",
   "metadata": {},
   "outputs": [
    {
     "data": {
      "text/plain": [
       "(array([ 6., 15., 50., 86., 92., 80., 45., 13.,  7.,  4.]),\n",
       " array([ 8.  ,  9.68, 11.36, 13.04, 14.72, 16.4 , 18.08, 19.76, 21.44,\n",
       "        23.12, 24.8 ]),\n",
       " <BarContainer object of 10 artists>)"
      ]
     },
     "execution_count": 37,
     "metadata": {},
     "output_type": "execute_result"
    },
    {
     "data": {
      "image/png": "[encoded data removed]",
      "text/plain": [
       "<Figure size 432x288 with 1 Axes>"
      ]
     },
     "metadata": {
      "needs_background": "light"
     },
     "output_type": "display_data"
    }
   ],
   "source": [
    "plt.hist(car.acceleration)"
   ]
  },
  {
   "cell_type": "code",
   "execution_count": 38,
   "id": "10c215e5",
   "metadata": {},
   "outputs": [
    {
     "data": {
      "text/plain": [
       "{'whiskers': [<matplotlib.lines.Line2D at 0x231e06cf790>,\n",
       "  <matplotlib.lines.Line2D at 0x231e06cfa60>],\n",
       " 'caps': [<matplotlib.lines.Line2D at 0x231e06cfd30>,\n",
       "  <matplotlib.lines.Line2D at 0x231e06dd040>],\n",
       " 'boxes': [<matplotlib.lines.Line2D at 0x231e06cf4c0>],\n",
       " 'medians': [<matplotlib.lines.Line2D at 0x231e06dd310>],\n",
       " 'fliers': [<matplotlib.lines.Line2D at 0x231e06dd5e0>],\n",
       " 'means': []}"
      ]
     },
     "execution_count": 38,
     "metadata": {},
     "output_type": "execute_result"
    },
    {
     "data": {
      "image/png": "[encoded data removed]",
      "text/plain": [
       "<Figure size 432x288 with 1 Axes>"
      ]
     },
     "metadata": {
      "needs_background": "light"
     },
     "output_type": "display_data"
    }
   ],
   "source": [
    "plt.boxplot(car.modelyear)"
   ]
  },
  {
   "cell_type": "code",
   "execution_count": 39,
   "id": "11c20fb0",
   "metadata": {},
   "outputs": [
    {
     "data": {
      "text/plain": [
       "ShapiroResult(statistic=0.9458516240119934, pvalue=6.962785209507771e-11)"
      ]
     },
     "execution_count": 39,
     "metadata": {},
     "output_type": "execute_result"
    }
   ],
   "source": [
    "stats.shapiro(car.modelyear)"
   ]
  },
  {
   "cell_type": "code",
   "execution_count": 40,
   "id": "2ec4424a",
   "metadata": {},
   "outputs": [
    {
     "name": "stderr",
     "output_type": "stream",
     "text": [
      "C:\\anancoda\\lib\\site-packages\\seaborn\\_decorators.py:36: FutureWarning: Pass the following variable as a keyword arg: x. From version 0.12, the only valid positional argument will be `data`, and passing other arguments without an explicit keyword will result in an error or misinterpretation.\n",
      "  warnings.warn(\n"
     ]
    },
    {
     "data": {
      "text/plain": [
       "<AxesSubplot:xlabel='modelyear', ylabel='count'>"
      ]
     },
     "execution_count": 40,
     "metadata": {},
     "output_type": "execute_result"
    },
    {
     "data": {
      "image/png": "[encoded data removed]",
      "text/plain": [
       "<Figure size 432x288 with 1 Axes>"
      ]
     },
     "metadata": {
      "needs_background": "light"
     },
     "output_type": "display_data"
    }
   ],
   "source": [
    "sns.countplot(car.modelyear,data=car)"
   ]
  },
  {
   "cell_type": "code",
   "execution_count": 41,
   "id": "8544e351",
   "metadata": {
    "scrolled": true
   },
   "outputs": [
    {
     "data": {
      "text/plain": [
       "{'whiskers': [<matplotlib.lines.Line2D at 0x231e07cb910>,\n",
       "  <matplotlib.lines.Line2D at 0x231e07cbbe0>],\n",
       " 'caps': [<matplotlib.lines.Line2D at 0x231e07cbeb0>,\n",
       "  <matplotlib.lines.Line2D at 0x231e07db1c0>],\n",
       " 'boxes': [<matplotlib.lines.Line2D at 0x231e07cb640>],\n",
       " 'medians': [<matplotlib.lines.Line2D at 0x231e07db490>],\n",
       " 'fliers': [<matplotlib.lines.Line2D at 0x231e07db700>],\n",
       " 'means': []}"
      ]
     },
     "execution_count": 41,
     "metadata": {},
     "output_type": "execute_result"
    },
    {
     "data": {
      "image/png": "[encoded data removed]",
      "text/plain": [
       "<Figure size 432x288 with 1 Axes>"
      ]
     },
     "metadata": {
      "needs_background": "light"
     },
     "output_type": "display_data"
    }
   ],
   "source": [
    "plt.boxplot(car.origin)"
   ]
  },
  {
   "cell_type": "code",
   "execution_count": 42,
   "id": "ca4dddbd",
   "metadata": {},
   "outputs": [
    {
     "data": {
      "text/plain": [
       "ShapiroResult(statistic=0.6739088296890259, pvalue=5.797658882025973e-27)"
      ]
     },
     "execution_count": 42,
     "metadata": {},
     "output_type": "execute_result"
    }
   ],
   "source": [
    "stats.shapiro(car.origin)"
   ]
  },
  {
   "cell_type": "code",
   "execution_count": 43,
   "id": "72edf176",
   "metadata": {
    "scrolled": true
   },
   "outputs": [
    {
     "name": "stderr",
     "output_type": "stream",
     "text": [
      "C:\\anancoda\\lib\\site-packages\\seaborn\\_decorators.py:36: FutureWarning: Pass the following variable as a keyword arg: x. From version 0.12, the only valid positional argument will be `data`, and passing other arguments without an explicit keyword will result in an error or misinterpretation.\n",
      "  warnings.warn(\n"
     ]
    },
    {
     "data": {
      "text/plain": [
       "<AxesSubplot:xlabel='origin', ylabel='count'>"
      ]
     },
     "execution_count": 43,
     "metadata": {},
     "output_type": "execute_result"
    },
    {
     "data": {
      "image/png": "[encoded data removed]",
      "text/plain": [
       "<Figure size 432x288 with 1 Axes>"
      ]
     },
     "metadata": {
      "needs_background": "light"
     },
     "output_type": "display_data"
    }
   ],
   "source": [
    "sns.countplot(car.origin,data=car)"
   ]
  },
  {
   "cell_type": "code",
   "execution_count": 44,
   "id": "ee71bd13",
   "metadata": {},
   "outputs": [
    {
     "data": {
      "text/plain": [
       "F_onewayResult(statistic=29.021777566579576, pvalue=1.7389414133646237e-12)"
      ]
     },
     "execution_count": 44,
     "metadata": {},
     "output_type": "execute_result"
    }
   ],
   "source": [
    "stats.f_oneway(car.modelyear[car.cylinders=='below_5'],car.modelyear[car.cylinders==6],car.modelyear[car.cylinders==8])"
   ]
  },
  {
   "cell_type": "code",
   "execution_count": 45,
   "id": "d6113632",
   "metadata": {},
   "outputs": [
    {
     "data": {
      "text/plain": [
       "F_onewayResult(statistic=99.29093583417232, pvalue=1.1627923993965917e-35)"
      ]
     },
     "execution_count": 45,
     "metadata": {},
     "output_type": "execute_result"
    }
   ],
   "source": [
    "stats.f_oneway(car.origin[car.cylinders=='below_5'],car.origin[car.cylinders==6],car.origin[car.cylinders==8])"
   ]
  },
  {
   "cell_type": "code",
   "execution_count": 46,
   "id": "51da5c38",
   "metadata": {},
   "outputs": [
    {
     "data": {
      "text/plain": [
       "F_onewayResult(statistic=328.4941105950235, pvalue=9.567052215635294e-85)"
      ]
     },
     "execution_count": 46,
     "metadata": {},
     "output_type": "execute_result"
    }
   ],
   "source": [
    "stats.f_oneway(car.mpg[car.cylinders=='below_5'],car.mpg[car.cylinders==6],car.mpg[car.cylinders==8])"
   ]
  },
  {
   "cell_type": "code",
   "execution_count": 47,
   "id": "ed4234f6",
   "metadata": {},
   "outputs": [],
   "source": [
    "car.drop([\"cylinders\",\"modelyear\",\"origin\",\"carname\"],axis=1,inplace=True)"
   ]
  },
  {
   "cell_type": "code",
   "execution_count": 48,
   "id": "7451aeb0",
   "metadata": {},
   "outputs": [
    {
     "data": {
      "text/plain": [
       "Index(['mpg', 'displacement', 'horsepower', 'weight', 'acceleration'], dtype='object')"
      ]
     },
     "execution_count": 48,
     "metadata": {},
     "output_type": "execute_result"
    }
   ],
   "source": [
    "car.columns"
   ]
  },
  {
   "cell_type": "code",
   "execution_count": 49,
   "id": "609f356b",
   "metadata": {},
   "outputs": [],
   "source": [
    "data = car.drop(columns=['displacement', 'acceleration'])\n",
    "X = data.iloc[:, 1:]\n",
    "Y = data['mpg']"
   ]
  },
  {
   "cell_type": "code",
   "execution_count": 50,
   "id": "e41f9466",
   "metadata": {},
   "outputs": [
    {
     "data": {
      "text/plain": [
       "array([[0.45652174, 0.5361497 ],\n",
       "       [0.64673913, 0.58973632],\n",
       "       [0.56521739, 0.51686986],\n",
       "       [0.56521739, 0.51601928],\n",
       "       [0.51086957, 0.52055571],\n",
       "       [0.82608696, 0.77346187],\n",
       "       [0.94565217, 0.77714772],\n",
       "       [0.91847826, 0.76523958],\n",
       "       [0.97282609, 0.79727814],\n",
       "       [0.7826087 , 0.63425007],\n",
       "       [0.67391304, 0.5528778 ],\n",
       "       [0.61956522, 0.56592005],\n",
       "       [0.56521739, 0.60901616],\n",
       "       [0.97282609, 0.41763538],\n",
       "       [0.26630435, 0.21519705],\n",
       "       [0.26630435, 0.34590303],\n",
       "       [0.27717391, 0.32917494],\n",
       "       [0.21195652, 0.27615537],\n",
       "       [0.22826087, 0.1465835 ],\n",
       "       [0.        , 0.06294301],\n",
       "       [0.22282609, 0.30025517],\n",
       "       [0.23913043, 0.23164162],\n",
       "       [0.26630435, 0.21604763],\n",
       "       [0.36413043, 0.17607031],\n",
       "       [0.23913043, 0.29345052],\n",
       "       [0.91847826, 0.85114828],\n",
       "       [0.83695652, 0.78338531],\n",
       "       [0.89130435, 0.78508648],\n",
       "       [0.79891304, 0.88432095],\n",
       "       [0.22826087, 0.1465835 ],\n",
       "       [0.23913043, 0.18457613],\n",
       "       [0.26630435, 0.17436915],\n",
       "       [0.31776841, 0.12276722],\n",
       "       [0.29347826, 0.28948115],\n",
       "       [0.32065217, 0.51772044],\n",
       "       [0.29347826, 0.48653246],\n",
       "       [0.22826087, 0.47887723],\n",
       "       [0.29347826, 0.47490785],\n",
       "       [0.64673913, 0.73603629],\n",
       "       [0.70108696, 0.8083357 ],\n",
       "       [0.58152174, 0.7204423 ],\n",
       "       [0.56521739, 0.70399773],\n",
       "       [0.72826087, 0.94754749],\n",
       "       [0.67391304, 0.88829033],\n",
       "       [0.70108696, 1.        ],\n",
       "       [0.34782609, 0.38247803],\n",
       "       [0.14130435, 0.22540403],\n",
       "       [0.29347826, 0.47320669],\n",
       "       [0.22826087, 0.43266232],\n",
       "       [0.2173913 , 0.17210094],\n",
       "       [0.23913043, 0.14459881],\n",
       "       [0.13043478, 0.13070598],\n",
       "       [0.16304348, 0.12815424],\n",
       "       [0.10326087, 0.04536433],\n",
       "       [0.125     , 0.        ],\n",
       "       [0.07608696, 0.06265948],\n",
       "       [0.13043478, 0.09696626],\n",
       "       [0.26630435, 0.18854551],\n",
       "       [0.18478261, 0.14544939],\n",
       "       [0.04347826, 0.18174086],\n",
       "       [0.23913043, 0.22540403],\n",
       "       [0.2173913 , 0.1738021 ],\n",
       "       [0.64673913, 0.75446555],\n",
       "       [0.70108696, 0.78593706],\n",
       "       [0.56521739, 0.71505529],\n",
       "       [0.58152174, 0.71335413],\n",
       "       [0.56521739, 0.58378225],\n",
       "       [0.88043478, 0.85625177],\n",
       "       [0.5923913 , 0.81910972],\n",
       "       [0.61956522, 0.80606748],\n",
       "       [0.7826087 , 0.79642756],\n",
       "       [0.27717391, 0.20328891],\n",
       "       [0.56521739, 0.64615821],\n",
       "       [0.45652174, 0.70456479],\n",
       "       [0.51086957, 0.76013609],\n",
       "       [0.56521739, 0.69861072],\n",
       "       [0.35869565, 0.37425574],\n",
       "       [0.16304348, 0.25460731],\n",
       "       [0.22282609, 0.38729799],\n",
       "       [0.125     , 0.1633116 ],\n",
       "       [0.2173913 , 0.22171817],\n",
       "       [0.25      , 0.19138078],\n",
       "       [0.27717391, 0.25318968],\n",
       "       [0.18478261, 0.15622342],\n",
       "       [0.22826087, 0.13807769],\n",
       "       [0.70108696, 0.70513184],\n",
       "       [0.56521739, 0.58378225],\n",
       "       [0.53804348, 0.67337681],\n",
       "       [0.49456522, 0.68868727],\n",
       "       [0.56521739, 0.61355259],\n",
       "       [0.82608696, 0.94669691],\n",
       "       [0.56521739, 0.8083357 ],\n",
       "       [0.60869565, 0.77969946],\n",
       "       [0.56521739, 0.74397505],\n",
       "       [0.91847826, 0.88517153],\n",
       "       [0.97282609, 0.94641338],\n",
       "       [0.70108696, 0.62602779],\n",
       "       [0.32065217, 0.42755883],\n",
       "       [0.29347826, 0.47207258],\n",
       "       [0.29347826, 0.37765807],\n",
       "       [0.22826087, 0.39920612],\n",
       "       [0.26630435, 0.36603346],\n",
       "       [0.        , 0.09554862],\n",
       "       [0.56521739, 0.95945563],\n",
       "       [0.6576087 , 0.93365466],\n",
       "       [0.67391304, 0.86220584],\n",
       "       [0.72826087, 0.81825914],\n",
       "       [0.29347826, 0.33342784],\n",
       "       [0.22826087, 0.18882903],\n",
       "       [0.14130435, 0.22341934],\n",
       "       [0.26086957, 0.21718174],\n",
       "       [0.23913043, 0.14488234],\n",
       "       [0.21195652, 0.19761837],\n",
       "       [0.33152174, 0.24354976],\n",
       "       [0.23913043, 0.18485965],\n",
       "       [0.53804348, 0.70002835],\n",
       "       [1.        , 0.75559966],\n",
       "       [0.01630435, 0.07201588],\n",
       "       [0.1576087 , 0.15452226],\n",
       "       [0.24456522, 0.27473774],\n",
       "       [0.35869565, 0.35582648],\n",
       "       [0.56521739, 0.50637936],\n",
       "       [0.34782609, 0.29685285],\n",
       "       [0.41304348, 0.33853133],\n",
       "       [0.72826087, 0.58151403],\n",
       "       [0.26630435, 0.42217182],\n",
       "       [0.31776841, 0.35781117],\n",
       "       [0.29347826, 0.36518287],\n",
       "       [0.29347826, 0.48851715],\n",
       "       [0.11413043, 0.09554862],\n",
       "       [0.18478261, 0.23759569],\n",
       "       [0.10326087, 0.06322654],\n",
       "       [0.1576087 , 0.26339665],\n",
       "       [0.29347826, 0.6146867 ],\n",
       "       [0.34782609, 0.57244117],\n",
       "       [0.32065217, 0.56705415],\n",
       "       [0.51086957, 0.71675645],\n",
       "       [0.56521739, 0.87496456],\n",
       "       [0.56521739, 0.80635101],\n",
       "       [0.51086957, 0.85766941],\n",
       "       [0.56521739, 0.74964559],\n",
       "       [0.20108696, 0.17181741],\n",
       "       [0.11413043, 0.09923448],\n",
       "       [0.17391304, 0.1947831 ],\n",
       "       [0.0326087 , 0.01020697],\n",
       "       [0.08152174, 0.11057556],\n",
       "       [0.1576087 , 0.14516586],\n",
       "       [0.1576087 , 0.1403459 ],\n",
       "       [0.1576087 , 0.17947264],\n",
       "       [0.27717391, 0.24836972],\n",
       "       [0.25543478, 0.22058407],\n",
       "       [0.11413043, 0.10972498],\n",
       "       [0.26630435, 0.4681032 ],\n",
       "       [0.32065217, 0.52339098],\n",
       "       [0.14130435, 0.51573575],\n",
       "       [0.14130435, 0.43804933],\n",
       "       [0.67391304, 0.86617522],\n",
       "       [0.53804348, 0.80153105],\n",
       "       [0.56521739, 0.81797562],\n",
       "       [0.55434783, 0.86305642],\n",
       "       [0.34782609, 0.65041111],\n",
       "       [0.32065217, 0.64757584],\n",
       "       [0.34782609, 0.60022682],\n",
       "       [0.26630435, 0.61582081],\n",
       "       [0.34782609, 0.40430961],\n",
       "       [0.34782609, 0.45591154],\n",
       "       [0.45108696, 0.44116813],\n",
       "       [0.1576087 , 0.15820811],\n",
       "       [0.20108696, 0.29089878],\n",
       "       [0.29347826, 0.36886873],\n",
       "       [0.17391304, 0.27757301],\n",
       "       [0.27173913, 0.30876099],\n",
       "       [0.13586957, 0.17295152],\n",
       "       [0.27717391, 0.26424724],\n",
       "       [0.27717391, 0.38871562],\n",
       "       [0.13043478, 0.09186277],\n",
       "       [0.23913043, 0.45307627],\n",
       "       [0.26630435, 0.30649277],\n",
       "       [0.22826087, 0.38106039],\n",
       "       [0.2826087 , 0.37765807],\n",
       "       [0.375     , 0.29997165],\n",
       "       [0.03804348, 0.05160193],\n",
       "       [0.2173913 , 0.24128154],\n",
       "       [0.19021739, 0.17210094],\n",
       "       [0.25      , 0.27190247],\n",
       "       [0.17934783, 0.18202438],\n",
       "       [0.20108696, 0.16699745],\n",
       "       [0.51086957, 0.73773745],\n",
       "       [0.56521739, 0.73064928],\n",
       "       [0.40217391, 0.6660051 ],\n",
       "       [0.57608696, 0.73773745],\n",
       "       [0.29347826, 0.45931386],\n",
       "       [0.32065217, 0.49333711],\n",
       "       [0.19021739, 0.39665438],\n",
       "       [0.23913043, 0.41735186],\n",
       "       [0.0326087 , 0.11964843],\n",
       "       [0.07608696, 0.15622342],\n",
       "       [0.13043478, 0.09186277],\n",
       "       [0.03804348, 0.05160193],\n",
       "       [0.29347826, 0.57782818],\n",
       "       [0.17391304, 0.5559966 ],\n",
       "       [0.34782609, 0.57612702],\n",
       "       [0.26630435, 0.44797278],\n",
       "       [0.13586957, 0.06010774],\n",
       "       [0.13043478, 0.10688971],\n",
       "       [0.1576087 , 0.15367168],\n",
       "       [0.14130435, 0.26991778],\n",
       "       [0.30434783, 0.43578112],\n",
       "       [0.56521739, 0.65976751],\n",
       "       [0.22826087, 0.46980437],\n",
       "       [0.33695652, 0.37340516],\n",
       "       [0.40217391, 0.62574426],\n",
       "       [0.72826087, 0.78451942],\n",
       "       [0.53804348, 0.69237312],\n",
       "       [0.45652174, 0.63992061],\n",
       "       [0.56521739, 0.607315  ],\n",
       "       [0.11956522, 0.1224837 ],\n",
       "       [0.18478261, 0.15367168],\n",
       "       [0.06521739, 0.06010774],\n",
       "       [0.27173913, 0.1947831 ],\n",
       "       [0.13043478, 0.09413099],\n",
       "       [0.53804348, 0.64275588],\n",
       "       [0.34782609, 0.69379076],\n",
       "       [0.53804348, 0.71647292],\n",
       "       [0.45652174, 0.76041962],\n",
       "       [0.34782609, 0.54068614],\n",
       "       [0.32065217, 0.51375106],\n",
       "       [0.29347826, 0.57187411],\n",
       "       [0.2826087 , 0.54210377],\n",
       "       [0.72826087, 0.73915509],\n",
       "       [0.67391304, 0.7235611 ],\n",
       "       [0.7826087 , 0.76892543],\n",
       "       [0.55978261, 0.7717607 ],\n",
       "       [0.17391304, 0.09271335],\n",
       "       [0.22826087, 0.31953502],\n",
       "       [0.1576087 , 0.18485965],\n",
       "       [0.23369565, 0.32378792],\n",
       "       [0.0923913 , 0.12418486],\n",
       "       [0.20108696, 0.13098951],\n",
       "       [0.11413043, 0.10547207],\n",
       "       [0.17391304, 0.16359512],\n",
       "       [0.27717391, 0.34079955],\n",
       "       [0.34782609, 0.27984122],\n",
       "       [0.34782609, 0.31386447],\n",
       "       [0.01086957, 0.10547207],\n",
       "       [0.10869565, 0.05301956],\n",
       "       [0.0326087 , 0.10547207],\n",
       "       [0.13043478, 0.12957187],\n",
       "       [0.07608696, 0.05301956],\n",
       "       [0.34782609, 0.49673944],\n",
       "       [0.51086957, 0.60164446],\n",
       "       [0.50543478, 0.55486249],\n",
       "       [0.32065217, 0.54493904],\n",
       "       [0.26630435, 0.43719875],\n",
       "       [0.21195652, 0.38332861],\n",
       "       [0.22826087, 0.31386447],\n",
       "       [0.29347826, 0.5151687 ],\n",
       "       [0.23913043, 0.45279274],\n",
       "       [0.32065217, 0.50099234],\n",
       "       [0.21195652, 0.41309895],\n",
       "       [0.34782609, 0.56903884],\n",
       "       [0.40217391, 0.50949816],\n",
       "       [0.53804348, 0.51375106],\n",
       "       [0.64673913, 0.5194216 ],\n",
       "       [0.50543478, 0.45137511],\n",
       "       [0.51086957, 0.6994613 ],\n",
       "       [0.11956522, 0.15367168],\n",
       "       [0.26630435, 0.26850014],\n",
       "       [0.27717391, 0.1947831 ],\n",
       "       [0.1576087 , 0.17493621],\n",
       "       [0.26630435, 0.25574142],\n",
       "       [0.32065217, 0.32095265],\n",
       "       [0.21195652, 0.35214063],\n",
       "       [0.27717391, 0.22455344],\n",
       "       [0.30978261, 0.34505245],\n",
       "       [0.42934783, 0.43294585],\n",
       "       [0.375     , 0.335129  ],\n",
       "       [0.47282609, 0.50949816],\n",
       "       [0.13586957, 0.10688971],\n",
       "       [0.11956522, 0.14800113],\n",
       "       [0.375     , 0.46271619],\n",
       "       [0.21195652, 0.39041678],\n",
       "       [0.22826087, 0.36206408],\n",
       "       [0.23913043, 0.46838673],\n",
       "       [0.34782609, 0.4953218 ],\n",
       "       [0.45652174, 0.6314148 ],\n",
       "       [0.45108696, 0.59880919],\n",
       "       [0.5       , 0.66402041],\n",
       "       [0.48369565, 0.62857953],\n",
       "       [0.5923913 , 0.77884888],\n",
       "       [0.52173913, 0.69208959],\n",
       "       [0.42934783, 0.56478594],\n",
       "       [0.56521739, 0.65976751],\n",
       "       [0.13586957, 0.08846045],\n",
       "       [0.10326087, 0.1026368 ],\n",
       "       [0.18478261, 0.08562518],\n",
       "       [0.18478261, 0.29968812],\n",
       "       [0.16847826, 0.54352141],\n",
       "       [0.42934783, 0.64842642],\n",
       "       [0.13586957, 0.4471222 ],\n",
       "       [0.23913043, 0.51233343],\n",
       "       [0.13043478, 0.16643039],\n",
       "       [0.13043478, 0.15225404],\n",
       "       [0.10326087, 0.11539552],\n",
       "       [0.125     , 0.1465835 ],\n",
       "       [0.23913043, 0.29968812],\n",
       "       [0.375     , 0.27842359],\n",
       "       [0.375     , 0.30819393],\n",
       "       [0.23913043, 0.26736603],\n",
       "       [0.16304348, 0.15055288],\n",
       "       [0.07608696, 0.10065211],\n",
       "       [0.13043478, 0.14374823],\n",
       "       [0.10326087, 0.11511199],\n",
       "       [0.23913043, 0.30195634],\n",
       "       [0.22826087, 0.35639354],\n",
       "       [0.23913043, 0.39410264],\n",
       "       [0.23913043, 0.50127587],\n",
       "       [0.17391304, 0.16302807],\n",
       "       [0.23913043, 0.31131273],\n",
       "       [0.1576087 , 0.26339665],\n",
       "       [0.25      , 0.23277573],\n",
       "       [0.1576087 , 0.18485965],\n",
       "       [0.10326087, 0.14091296],\n",
       "       [0.32065217, 0.33654664],\n",
       "       [0.10326087, 0.14091296],\n",
       "       [0.01086957, 0.13382478],\n",
       "       [0.01086957, 0.20470655],\n",
       "       [0.11413043, 0.3790757 ],\n",
       "       [0.11413043, 0.46413382],\n",
       "       [0.11413043, 0.06719592],\n",
       "       [0.31776841, 0.06294301],\n",
       "       [0.11413043, 0.1508364 ],\n",
       "       [0.08695652, 0.06577828],\n",
       "       [0.4673913 , 0.36773462],\n",
       "       [0.29347826, 0.22880635],\n",
       "       [0.22826087, 0.25148852],\n",
       "       [0.31776841, 0.36631698],\n",
       "       [0.14130435, 0.19194783],\n",
       "       [0.20652174, 0.24865325],\n",
       "       [0.20652174, 0.28976467],\n",
       "       [0.25      , 0.28551177],\n",
       "       [0.34782609, 0.31528211],\n",
       "       [0.20652174, 0.2188829 ],\n",
       "       [0.06521739, 0.04026084],\n",
       "       [0.09782609, 0.07428409],\n",
       "       [0.07608696, 0.04167848],\n",
       "       [0.11413043, 0.12815424],\n",
       "       [0.10326087, 0.1026368 ],\n",
       "       [0.08695652, 0.12390133],\n",
       "       [0.11956522, 0.10547207],\n",
       "       [0.0923913 , 0.1706833 ],\n",
       "       [0.10326087, 0.1224837 ],\n",
       "       [0.10326087, 0.21746527],\n",
       "       [0.15217391, 0.16359512],\n",
       "       [0.31776841, 0.20045364],\n",
       "       [0.1576087 , 0.16926566],\n",
       "       [0.1576087 , 0.20895946],\n",
       "       [0.29347826, 0.28409413],\n",
       "       [0.15217391, 0.28976467],\n",
       "       [0.18478261, 0.45846328],\n",
       "       [0.16304348, 0.43861639],\n",
       "       [0.38043478, 0.36489935],\n",
       "       [0.40217391, 0.37340516],\n",
       "       [0.34782609, 0.51091579],\n",
       "       [0.32065217, 0.59880919],\n",
       "       [0.22826087, 0.41026368],\n",
       "       [0.21195652, 0.52509215],\n",
       "       [0.22826087, 0.28125886],\n",
       "       [0.22826087, 0.29118231],\n",
       "       [0.22826087, 0.22171817],\n",
       "       [0.21195652, 0.27275305],\n",
       "       [0.20652174, 0.25857669],\n",
       "       [0.23913043, 0.31811738],\n",
       "       [0.25      , 0.3549759 ],\n",
       "       [0.31776841, 0.4031755 ],\n",
       "       [0.15217391, 0.10405444],\n",
       "       [0.11956522, 0.11681316],\n",
       "       [0.11956522, 0.10121917],\n",
       "       [0.0923913 , 0.14516586],\n",
       "       [0.13043478, 0.14516586],\n",
       "       [0.22826087, 0.15508931],\n",
       "       [0.1576087 , 0.16784803],\n",
       "       [0.13043478, 0.17918911],\n",
       "       [0.11413043, 0.09980153],\n",
       "       [0.11413043, 0.09980153],\n",
       "       [0.11413043, 0.10830734],\n",
       "       [0.34782609, 0.37765807],\n",
       "       [0.21195652, 0.39750496],\n",
       "       [0.25      , 0.27558832],\n",
       "       [0.35869565, 0.34647009],\n",
       "       [0.27173913, 0.29827048],\n",
       "       [0.20652174, 0.21463   ],\n",
       "       [0.23913043, 0.3790757 ],\n",
       "       [0.2173913 , 0.33371137],\n",
       "       [0.0326087 , 0.1465835 ],\n",
       "       [0.20652174, 0.19336547],\n",
       "       [0.17934783, 0.2869294 ],\n",
       "       [0.19565217, 0.31386447]])"
      ]
     },
     "execution_count": 50,
     "metadata": {},
     "output_type": "execute_result"
    }
   ],
   "source": [
    "from sklearn.preprocessing import MinMaxScaler\n",
    "mms = MinMaxScaler()\n",
    "X = mms.fit_transform(X)\n",
    "X"
   ]
  },
  {
   "cell_type": "code",
   "execution_count": 51,
   "id": "bf30f792",
   "metadata": {},
   "outputs": [],
   "source": [
    "from sklearn.model_selection import train_test_split\n",
    "X_train,X_test,Y_train,Y_test=train_test_split(X,Y,test_size=0.2)"
   ]
  },
  {
   "cell_type": "code",
   "execution_count": 52,
   "id": "3fe58bc1",
   "metadata": {},
   "outputs": [],
   "source": [
    "from sklearn.linear_model import LinearRegression\n",
    "regressor=LinearRegression()"
   ]
  },
  {
   "cell_type": "code",
   "execution_count": 53,
   "id": "68aa5b5c",
   "metadata": {},
   "outputs": [
    {
     "data": {
      "text/plain": [
       "LinearRegression()"
      ]
     },
     "execution_count": 53,
     "metadata": {},
     "output_type": "execute_result"
    }
   ],
   "source": [
    "regressor.fit(X_train,Y_train)"
   ]
  },
  {
   "cell_type": "code",
   "execution_count": 54,
   "id": "0c9d00a5",
   "metadata": {},
   "outputs": [
    {
     "data": {
      "text/plain": [
       "array([29.94012421, 20.79394128, 18.61445369, 28.98141517, 19.05573622])"
      ]
     },
     "execution_count": 54,
     "metadata": {},
     "output_type": "execute_result"
    }
   ],
   "source": [
    "pred = regressor.predict(X_test)\n",
    "pred[:5]"
   ]
  },
  {
   "cell_type": "code",
   "execution_count": 55,
   "id": "030e38c5",
   "metadata": {},
   "outputs": [
    {
     "data": {
      "text/plain": [
       "0.71362568080248"
      ]
     },
     "execution_count": 55,
     "metadata": {},
     "output_type": "execute_result"
    }
   ],
   "source": [
    "from sklearn.metrics import r2_score\n",
    "r2_score(Y_test, pred)"
   ]
  },
  {
   "cell_type": "markdown",
   "id": "705321bd",
   "metadata": {},
   "source": [
    "# RandomForestRegression"
   ]
  },
  {
   "cell_type": "code",
   "execution_count": 56,
   "id": "e7792e8c",
   "metadata": {},
   "outputs": [],
   "source": [
    "from sklearn.ensemble import RandomForestRegressor"
   ]
  },
  {
   "cell_type": "code",
   "execution_count": 57,
   "id": "79dbda75",
   "metadata": {},
   "outputs": [],
   "source": [
    "rf = RandomForestRegressor(n_estimators=30,random_state=0)"
   ]
  },
  {
   "cell_type": "code",
   "execution_count": 58,
   "id": "3fb9bf37",
   "metadata": {
    "scrolled": true
   },
   "outputs": [
    {
     "data": {
      "text/plain": [
       "RandomForestRegressor(n_estimators=30, random_state=0)"
      ]
     },
     "execution_count": 58,
     "metadata": {},
     "output_type": "execute_result"
    }
   ],
   "source": [
    "rf.fit(X_train,Y_train)"
   ]
  },
  {
   "cell_type": "code",
   "execution_count": 59,
   "id": "5ff9cc9b",
   "metadata": {},
   "outputs": [],
   "source": [
    "y_pred = rf.predict(X_test)"
   ]
  },
  {
   "cell_type": "code",
   "execution_count": 60,
   "id": "76f8e60b",
   "metadata": {},
   "outputs": [
    {
     "data": {
      "text/plain": [
       "array([31.76333333, 20.16666667, 16.80333333, 26.9       , 16.97333333,\n",
       "       12.96666667, 33.22      , 25.43666667, 25.66666667, 24.77333333,\n",
       "       18.84333333, 26.66111111, 34.62666667, 13.48333333, 20.56      ,\n",
       "       38.10333333, 38.35      , 29.76666667, 18.41333333, 35.12333333,\n",
       "       27.45333333, 24.02666667, 25.58666667, 31.63      , 26.61      ,\n",
       "       19.39666667, 25.69777778, 18.37666667, 16.08      , 15.78333333,\n",
       "       13.8       , 10.86666667, 15.21      , 26.92      , 25.56444444,\n",
       "       33.22333333, 22.91      , 34.47      , 34.12333333, 29.05666667,\n",
       "       34.27      , 32.72333333, 23.99333333, 19.56666667, 17.88666667,\n",
       "       30.43333333, 16.31055556, 29.38666667, 18.23666667, 26.21666667,\n",
       "       30.83      , 31.78333333, 15.89      , 34.45055556, 20.47666667,\n",
       "       15.68333333, 32.61666667, 30.09      , 30.81333333, 32.1       ,\n",
       "       13.46666667, 20.        , 14.26666667, 21.19      , 25.93666667,\n",
       "       13.43333333, 32.19      , 14.51666667, 13.36666667, 33.97      ,\n",
       "       14.53333333, 27.45777778, 25.88333333, 19.70666667, 13.3       ,\n",
       "       26.08333333, 18.98666667, 11.73333333, 16.07333333, 30.45333333])"
      ]
     },
     "execution_count": 60,
     "metadata": {},
     "output_type": "execute_result"
    }
   ],
   "source": [
    "\n",
    "y_pred"
   ]
  },
  {
   "cell_type": "markdown",
   "id": "9e91909f",
   "metadata": {},
   "source": [
    "#  Model Evaluation"
   ]
  },
  {
   "cell_type": "code",
   "execution_count": 61,
   "id": "eea2cfe4",
   "metadata": {},
   "outputs": [],
   "source": [
    "\n",
    "from sklearn.metrics import r2_score,mean_squared_error"
   ]
  },
  {
   "cell_type": "code",
   "execution_count": 62,
   "id": "37afdf40",
   "metadata": {},
   "outputs": [],
   "source": [
    "value = r2_score(Y_test, y_pred)"
   ]
  },
  {
   "cell_type": "code",
   "execution_count": 63,
   "id": "e5042386",
   "metadata": {},
   "outputs": [
    {
     "data": {
      "text/plain": [
       "0.7383542267115502"
      ]
     },
     "execution_count": 63,
     "metadata": {},
     "output_type": "execute_result"
    }
   ],
   "source": [
    "\n",
    "value"
   ]
  },
  {
   "cell_type": "code",
   "execution_count": 64,
   "id": "3d72795c",
   "metadata": {},
   "outputs": [],
   "source": [
    "\n",
    "err=np.sqrt(mean_squared_error(Y_test,y_pred))"
   ]
  },
  {
   "cell_type": "code",
   "execution_count": 65,
   "id": "f6efd65c",
   "metadata": {},
   "outputs": [
    {
     "data": {
      "text/plain": [
       "4.248689272282384"
      ]
     },
     "execution_count": 65,
     "metadata": {},
     "output_type": "execute_result"
    }
   ],
   "source": [
    "\n",
    "err"
   ]
  },
  {
   "cell_type": "markdown",
   "id": "ff68a0ae",
   "metadata": {},
   "source": [
    "# Exporting the model"
   ]
  },
  {
   "cell_type": "code",
   "execution_count": 66,
   "id": "57bfe621",
   "metadata": {},
   "outputs": [],
   "source": [
    "import pickle"
   ]
  },
  {
   "cell_type": "code",
   "execution_count": 67,
   "id": "49030406",
   "metadata": {},
   "outputs": [],
   "source": [
    "pickle.dump(rf,open('RFregression.pkl','wb'))"
   ]
  },
  {
   "cell_type": "code",
   "execution_count": null,
   "id": "046fcb70",
   "metadata": {},
   "outputs": [],
   "source": []
  }
 ],
 "metadata": {
  "kernelspec": {
   "display_name": "Python 3 (ipykernel)",
   "language": "python",
   "name": "python3"
  },
  "language_info": {
   "codemirror_mode": {
    "name": "ipython",
    "version": 3
   },
   "file_extension": ".py",
   "mimetype": "text/x-python",
   "name": "python",
   "nbconvert_exporter": "python",
   "pygments_lexer": "ipython3",
   "version": "3.9.12"
  }
 },
 "nbformat": 4,
 "nbformat_minor": 5
}

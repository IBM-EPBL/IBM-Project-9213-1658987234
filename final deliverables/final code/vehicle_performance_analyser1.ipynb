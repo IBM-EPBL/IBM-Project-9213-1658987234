{
 "cells": [
  {
   "cell_type": "code",
   "execution_count": 1,
   "id": "edcb4657",
   "metadata": {},
   "outputs": [],
   "source": [
    "import pandas as pd\n",
    "import numpy as np\n",
    "import matplotlib.pyplot as plt\n",
    "import seaborn as sns"
   ]
  },
  {
   "cell_type": "code",
   "execution_count": 2,
   "id": "572804ff",
   "metadata": {},
   "outputs": [
    {
     "data": {
      "text/html": [
       "<div>\n",
       "<style scoped>\n",
       "    .dataframe tbody tr th:only-of-type {\n",
       "        vertical-align: middle;\n",
       "    }\n",
       "\n",
       "    .dataframe tbody tr th {\n",
       "        vertical-align: top;\n",
       "    }\n",
       "\n",
       "    .dataframe thead th {\n",
       "        text-align: right;\n",
       "    }\n",
       "</style>\n",
       "<table border=\"1\" class=\"dataframe\">\n",
       "  <thead>\n",
       "    <tr style=\"text-align: right;\">\n",
       "      <th></th>\n",
       "      <th>mpg</th>\n",
       "      <th>cylinders</th>\n",
       "      <th>displacement</th>\n",
       "      <th>horsepower</th>\n",
       "      <th>weight</th>\n",
       "      <th>acceleration</th>\n",
       "      <th>model year</th>\n",
       "      <th>origin</th>\n",
       "      <th>car name</th>\n",
       "    </tr>\n",
       "  </thead>\n",
       "  <tbody>\n",
       "    <tr>\n",
       "      <th>0</th>\n",
       "      <td>18.0</td>\n",
       "      <td>8</td>\n",
       "      <td>307.0</td>\n",
       "      <td>130</td>\n",
       "      <td>3504</td>\n",
       "      <td>12.0</td>\n",
       "      <td>70</td>\n",
       "      <td>1</td>\n",
       "      <td>chevrolet chevelle malibu</td>\n",
       "    </tr>\n",
       "    <tr>\n",
       "      <th>1</th>\n",
       "      <td>15.0</td>\n",
       "      <td>8</td>\n",
       "      <td>350.0</td>\n",
       "      <td>165</td>\n",
       "      <td>3693</td>\n",
       "      <td>11.5</td>\n",
       "      <td>70</td>\n",
       "      <td>1</td>\n",
       "      <td>buick skylark 320</td>\n",
       "    </tr>\n",
       "    <tr>\n",
       "      <th>2</th>\n",
       "      <td>18.0</td>\n",
       "      <td>8</td>\n",
       "      <td>318.0</td>\n",
       "      <td>150</td>\n",
       "      <td>3436</td>\n",
       "      <td>11.0</td>\n",
       "      <td>70</td>\n",
       "      <td>1</td>\n",
       "      <td>plymouth satellite</td>\n",
       "    </tr>\n",
       "    <tr>\n",
       "      <th>3</th>\n",
       "      <td>16.0</td>\n",
       "      <td>8</td>\n",
       "      <td>304.0</td>\n",
       "      <td>150</td>\n",
       "      <td>3433</td>\n",
       "      <td>12.0</td>\n",
       "      <td>70</td>\n",
       "      <td>1</td>\n",
       "      <td>amc rebel sst</td>\n",
       "    </tr>\n",
       "    <tr>\n",
       "      <th>4</th>\n",
       "      <td>17.0</td>\n",
       "      <td>8</td>\n",
       "      <td>302.0</td>\n",
       "      <td>140</td>\n",
       "      <td>3449</td>\n",
       "      <td>10.5</td>\n",
       "      <td>70</td>\n",
       "      <td>1</td>\n",
       "      <td>ford torino</td>\n",
       "    </tr>\n",
       "  </tbody>\n",
       "</table>\n",
       "</div>"
      ],
      "text/plain": [
       "    mpg  cylinders  displacement  horsepower  weight  acceleration  \\\n",
       "0  18.0          8         307.0         130    3504          12.0   \n",
       "1  15.0          8         350.0         165    3693          11.5   \n",
       "2  18.0          8         318.0         150    3436          11.0   \n",
       "3  16.0          8         304.0         150    3433          12.0   \n",
       "4  17.0          8         302.0         140    3449          10.5   \n",
       "\n",
       "   model year  origin                   car name  \n",
       "0          70       1  chevrolet chevelle malibu  \n",
       "1          70       1          buick skylark 320  \n",
       "2          70       1         plymouth satellite  \n",
       "3          70       1              amc rebel sst  \n",
       "4          70       1                ford torino  "
      ]
     },
     "execution_count": 2,
     "metadata": {},
     "output_type": "execute_result"
    }
   ],
   "source": [
    "\n",
    "import os, types\n",
    "import pandas as pd\n",
    "from botocore.client import Config\n",
    "import ibm_boto3\n",
    "\n",
    "def __iter__(self): return 0\n",
    "\n",
    "# @hidden_cell\n",
    "# The following code accesses a file in your IBM Cloud Object Storage. It includes your credentials.\n",
    "# You might want to remove those credentials before you share the notebook.\n",
    "cos_client = ibm_boto3.client(service_name='s3',\n",
    "    ibm_api_key_id='BBFSeDiV-o6Adj-VE1znyTDbgF2rydeLaDMA9S561xQk',\n",
    "    ibm_auth_endpoint=\"https://iam.cloud.ibm.com/oidc/token\",\n",
    "    config=Config(signature_version='oauth'),\n",
    "    endpoint_url='https://s3.private.us.cloud-object-storage.appdomain.cloud')\n",
    "\n",
    "bucket = 'modelbuildingmachinelearningbased-donotdelete-pr-oes3gfyjkahzot'\n",
    "object_key = 'carperformance.csv'\n",
    "\n",
    "body = cos_client.get_object(Bucket=bucket,Key=object_key)['Body']\n",
    "# add missing __iter__ method, so pandas accepts body as file-like object\n",
    "if not hasattr(body, \"__iter__\"): body.__iter__ = types.MethodType( __iter__, body )\n",
    "\n",
    "car = pd.read_csv(body)\n",
    "car.head()\n"
   ]
  },
  {
   "cell_type": "code",
   "execution_count": 3,
   "id": "572352a9",
   "metadata": {},
   "outputs": [
    {
     "data": {
      "text/plain": [
       "(398, 9)"
      ]
     },
     "execution_count": 3,
     "metadata": {},
     "output_type": "execute_result"
    }
   ],
   "source": [
    "car.shape"
   ]
  },
  {
   "cell_type": "code",
   "execution_count": 4,
   "id": "56e42490",
   "metadata": {},
   "outputs": [],
   "source": [
    "car.columns=[\"mpg\",\"cylinders\",\"displacement\",\"horsepower\",\"weight\",\"acceleration\",\"modelyear\",\"origin\",\"carname\"]"
   ]
  },
  {
   "cell_type": "code",
   "execution_count": 5,
   "id": "f0c3c8c5",
   "metadata": {},
   "outputs": [
    {
     "data": {
      "text/plain": [
       "Index(['mpg', 'cylinders', 'displacement', 'horsepower', 'weight',\n",
       "       'acceleration', 'modelyear', 'origin', 'carname'],\n",
       "      dtype='object')"
      ]
     },
     "execution_count": 5,
     "metadata": {},
     "output_type": "execute_result"
    }
   ],
   "source": [
    "car.columns"
   ]
  },
  {
   "cell_type": "code",
   "execution_count": 6,
   "id": "d75b38cb",
   "metadata": {},
   "outputs": [
    {
     "data": {
      "text/plain": [
       "mpg             0\n",
       "cylinders       0\n",
       "displacement    0\n",
       "horsepower      0\n",
       "weight          0\n",
       "acceleration    0\n",
       "modelyear       0\n",
       "origin          0\n",
       "carname         0\n",
       "dtype: int64"
      ]
     },
     "execution_count": 6,
     "metadata": {},
     "output_type": "execute_result"
    }
   ],
   "source": [
    "car.isnull().sum()"
   ]
  },
  {
   "cell_type": "code",
   "execution_count": 7,
   "id": "3cbf6f2e",
   "metadata": {
    "scrolled": true
   },
   "outputs": [
    {
     "data": {
      "text/plain": [
       "{'whiskers': [<matplotlib.lines.Line2D at 0x7f31cd3a19a0>,\n",
       "  <matplotlib.lines.Line2D at 0x7f31cd3a1c70>],\n",
       " 'caps': [<matplotlib.lines.Line2D at 0x7f31cd3a1fd0>,\n",
       "  <matplotlib.lines.Line2D at 0x7f31cd340250>],\n",
       " 'boxes': [<matplotlib.lines.Line2D at 0x7f31cd3a16d0>],\n",
       " 'medians': [<matplotlib.lines.Line2D at 0x7f31cd340520>],\n",
       " 'fliers': [<matplotlib.lines.Line2D at 0x7f31cd3407f0>],\n",
       " 'means': []}"
      ]
     },
     "execution_count": 7,
     "metadata": {},
     "output_type": "execute_result"
    },
    {
     "data": {
      "image/png": "[encoded data removed]",
      "text/plain": [
       "<Figure size 432x288 with 1 Axes>"
      ]
     },
     "metadata": {
      "needs_background": "light"
     },
     "output_type": "display_data"
    }
   ],
   "source": [
    "plt.boxplot(car.mpg)"
   ]
  },
  {
   "cell_type": "code",
   "execution_count": 8,
   "id": "38ab1b83",
   "metadata": {},
   "outputs": [
    {
     "data": {
      "text/plain": [
       "{'whiskers': [<matplotlib.lines.Line2D at 0x7f31cd2a4bb0>,\n",
       "  <matplotlib.lines.Line2D at 0x7f31cd2a4e80>],\n",
       " 'caps': [<matplotlib.lines.Line2D at 0x7f31cd233190>,\n",
       "  <matplotlib.lines.Line2D at 0x7f31cd233460>],\n",
       " 'boxes': [<matplotlib.lines.Line2D at 0x7f31cd2a48e0>],\n",
       " 'medians': [<matplotlib.lines.Line2D at 0x7f31cd233760>],\n",
       " 'fliers': [<matplotlib.lines.Line2D at 0x7f31cd233a60>],\n",
       " 'means': []}"
      ]
     },
     "execution_count": 8,
     "metadata": {},
     "output_type": "execute_result"
    },
    {
     "data": {
      "image/png": "[encoded data removed]",
      "text/plain": [
       "<Figure size 432x288 with 1 Axes>"
      ]
     },
     "metadata": {
      "needs_background": "light"
     },
     "output_type": "display_data"
    }
   ],
   "source": [
    "plt.boxplot(car.cylinders)"
   ]
  },
  {
   "cell_type": "code",
   "execution_count": 9,
   "id": "1a69f64d",
   "metadata": {},
   "outputs": [
    {
     "data": {
      "text/plain": [
       "array([[<AxesSubplot:title={'center':'mpg'}>,\n",
       "        <AxesSubplot:title={'center':'cylinders'}>,\n",
       "        <AxesSubplot:title={'center':'displacement'}>],\n",
       "       [<AxesSubplot:title={'center':'horsepower'}>,\n",
       "        <AxesSubplot:title={'center':'weight'}>,\n",
       "        <AxesSubplot:title={'center':'acceleration'}>],\n",
       "       [<AxesSubplot:title={'center':'modelyear'}>,\n",
       "        <AxesSubplot:title={'center':'origin'}>, <AxesSubplot:>]],\n",
       "      dtype=object)"
      ]
     },
     "execution_count": 9,
     "metadata": {},
     "output_type": "execute_result"
    },
    {
     "data": {
      "image/png": "[encoded data removed]",
      "text/plain": [
       "<Figure size 432x288 with 9 Axes>"
      ]
     },
     "metadata": {
      "needs_background": "light"
     },
     "output_type": "display_data"
    }
   ],
   "source": [
    "car.hist()"
   ]
  },
  {
   "cell_type": "code",
   "execution_count": 10,
   "id": "3c6ccb7b",
   "metadata": {},
   "outputs": [
    {
     "data": {
      "text/plain": [
       "<AxesSubplot:xlabel='mpg', ylabel='horsepower'>"
      ]
     },
     "execution_count": 10,
     "metadata": {},
     "output_type": "execute_result"
    },
    {
     "data": {
      "image/png": "[encoded data removed]",
      "text/plain": [
       "<Figure size 432x288 with 1 Axes>"
      ]
     },
     "metadata": {
      "needs_background": "light"
     },
     "output_type": "display_data"
    }
   ],
   "source": [
    "sns.scatterplot(x=car.mpg,y=car.horsepower)"
   ]
  },
  {
   "cell_type": "code",
   "execution_count": 11,
   "id": "addbb093",
   "metadata": {},
   "outputs": [
    {
     "data": {
      "text/plain": [
       "(array([ 27.,  97., 124.,  44.,  19.,  47.,  13.,  14.,   5.,   8.]),\n",
       " array([ 46. ,  64.4,  82.8, 101.2, 119.6, 138. , 156.4, 174.8, 193.2,\n",
       "        211.6, 230. ]),\n",
       " <BarContainer object of 10 artists>)"
      ]
     },
     "execution_count": 11,
     "metadata": {},
     "output_type": "execute_result"
    },
    {
     "data": {
      "image/png": "[encoded data removed]",
      "text/plain": [
       "<Figure size 432x288 with 1 Axes>"
      ]
     },
     "metadata": {
      "needs_background": "light"
     },
     "output_type": "display_data"
    }
   ],
   "source": [
    "plt.hist(car.horsepower)"
   ]
  },
  {
   "cell_type": "code",
   "execution_count": 12,
   "id": "e7a0bb65",
   "metadata": {},
   "outputs": [
    {
     "name": "stdout",
     "output_type": "stream",
     "text": [
      "<class 'pandas.core.frame.DataFrame'>\n",
      "RangeIndex: 398 entries, 0 to 397\n",
      "Data columns (total 9 columns):\n",
      " #   Column        Non-Null Count  Dtype  \n",
      "---  ------        --------------  -----  \n",
      " 0   mpg           398 non-null    float64\n",
      " 1   cylinders     398 non-null    int64  \n",
      " 2   displacement  398 non-null    float64\n",
      " 3   horsepower    398 non-null    int64  \n",
      " 4   weight        398 non-null    int64  \n",
      " 5   acceleration  398 non-null    float64\n",
      " 6   modelyear     398 non-null    int64  \n",
      " 7   origin        398 non-null    int64  \n",
      " 8   carname       398 non-null    object \n",
      "dtypes: float64(3), int64(5), object(1)\n",
      "memory usage: 28.1+ KB\n"
     ]
    }
   ],
   "source": [
    "car.info()"
   ]
  },
  {
   "cell_type": "code",
   "execution_count": 13,
   "id": "0f87ef91",
   "metadata": {},
   "outputs": [
    {
     "data": {
      "text/plain": [
       "array([130, 165, 150, 140, 198, 220, 215, 225, 190, 170, 160,  95,  97,\n",
       "        85,  88,  46,  87,  90, 113, 200, 210, 193, 100, 105, 175, 153,\n",
       "       180, 110,  72,  86,  70,  76,  65,  69,  60,  80,  54, 208, 155,\n",
       "       112,  92, 145, 137, 158, 167,  94, 107, 230,  49,  75,  91, 122,\n",
       "        67,  83,  78,  52,  61,  93, 148, 129,  96,  71,  98, 115,  53,\n",
       "        81,  79, 120, 152, 102, 108,  68,  58, 149,  89,  63,  48,  66,\n",
       "       139, 103, 125, 133, 138, 135, 142,  77,  62, 132,  84,  64,  74,\n",
       "       116,  82])"
      ]
     },
     "execution_count": 13,
     "metadata": {},
     "output_type": "execute_result"
    }
   ],
   "source": [
    "car.horsepower.unique()"
   ]
  },
  {
   "cell_type": "code",
   "execution_count": 14,
   "id": "84b56ced",
   "metadata": {},
   "outputs": [],
   "source": [
    "car.horsepower.fillna(car.horsepower.mean(),inplace=True)"
   ]
  },
  {
   "cell_type": "code",
   "execution_count": 15,
   "id": "7ee3ac0c",
   "metadata": {},
   "outputs": [
    {
     "data": {
      "text/plain": [
       "mpg             0\n",
       "cylinders       0\n",
       "displacement    0\n",
       "horsepower      0\n",
       "weight          0\n",
       "acceleration    0\n",
       "modelyear       0\n",
       "origin          0\n",
       "carname         0\n",
       "dtype: int64"
      ]
     },
     "execution_count": 15,
     "metadata": {},
     "output_type": "execute_result"
    }
   ],
   "source": [
    "car.isnull().sum()"
   ]
  },
  {
   "cell_type": "code",
   "execution_count": 16,
   "id": "72320a7e",
   "metadata": {},
   "outputs": [
    {
     "data": {
      "text/plain": [
       "{'whiskers': [<matplotlib.lines.Line2D at 0x7f31e4cee1c0>,\n",
       "  <matplotlib.lines.Line2D at 0x7f31e4cee490>],\n",
       " 'caps': [<matplotlib.lines.Line2D at 0x7f31e4cee640>,\n",
       "  <matplotlib.lines.Line2D at 0x7f31e4cee910>],\n",
       " 'boxes': [<matplotlib.lines.Line2D at 0x7f31e4cdbeb0>],\n",
       " 'medians': [<matplotlib.lines.Line2D at 0x7f31e4ceebe0>],\n",
       " 'fliers': [<matplotlib.lines.Line2D at 0x7f31e4ceeeb0>],\n",
       " 'means': []}"
      ]
     },
     "execution_count": 16,
     "metadata": {},
     "output_type": "execute_result"
    },
    {
     "data": {
      "image/png": "[encoded data removed]",
      "text/plain": [
       "<Figure size 432x288 with 1 Axes>"
      ]
     },
     "metadata": {
      "needs_background": "light"
     },
     "output_type": "display_data"
    }
   ],
   "source": [
    "plt.boxplot(car.mpg)"
   ]
  },
  {
   "cell_type": "code",
   "execution_count": 17,
   "id": "214193fe",
   "metadata": {},
   "outputs": [
    {
     "data": {
      "text/plain": [
       "{'whiskers': [<matplotlib.lines.Line2D at 0x7f31e4c46c40>,\n",
       "  <matplotlib.lines.Line2D at 0x7f31e4c46f10>],\n",
       " 'caps': [<matplotlib.lines.Line2D at 0x7f31e4c56220>,\n",
       "  <matplotlib.lines.Line2D at 0x7f31e4c564f0>],\n",
       " 'boxes': [<matplotlib.lines.Line2D at 0x7f31e4c46970>],\n",
       " 'medians': [<matplotlib.lines.Line2D at 0x7f31e4c567c0>],\n",
       " 'fliers': [<matplotlib.lines.Line2D at 0x7f31e4c56a90>],\n",
       " 'means': []}"
      ]
     },
     "execution_count": 17,
     "metadata": {},
     "output_type": "execute_result"
    },
    {
     "data": {
      "image/png": "[encoded data removed]",
      "text/plain": [
       "<Figure size 432x288 with 1 Axes>"
      ]
     },
     "metadata": {
      "needs_background": "light"
     },
     "output_type": "display_data"
    }
   ],
   "source": [
    "plt.boxplot(car.horsepower)"
   ]
  },
  {
   "cell_type": "code",
   "execution_count": 18,
   "id": "3f7e638d",
   "metadata": {},
   "outputs": [
    {
     "name": "stdout",
     "output_type": "stream",
     "text": [
      "<class 'pandas.core.frame.DataFrame'>\n",
      "RangeIndex: 398 entries, 0 to 397\n",
      "Data columns (total 9 columns):\n",
      " #   Column        Non-Null Count  Dtype  \n",
      "---  ------        --------------  -----  \n",
      " 0   mpg           398 non-null    float64\n",
      " 1   cylinders     398 non-null    int64  \n",
      " 2   displacement  398 non-null    float64\n",
      " 3   horsepower    398 non-null    int64  \n",
      " 4   weight        398 non-null    int64  \n",
      " 5   acceleration  398 non-null    float64\n",
      " 6   modelyear     398 non-null    int64  \n",
      " 7   origin        398 non-null    int64  \n",
      " 8   carname       398 non-null    object \n",
      "dtypes: float64(3), int64(5), object(1)\n",
      "memory usage: 28.1+ KB\n"
     ]
    }
   ],
   "source": [
    "car.info()"
   ]
  },
  {
   "cell_type": "code",
   "execution_count": 19,
   "id": "570fa9a7",
   "metadata": {},
   "outputs": [
    {
     "data": {
      "text/plain": [
       "<BarContainer object of 398 artists>"
      ]
     },
     "execution_count": 19,
     "metadata": {},
     "output_type": "execute_result"
    },
    {
     "data": {
      "image/png": "[encoded data removed]",
      "text/plain": [
       "<Figure size 432x288 with 1 Axes>"
      ]
     },
     "metadata": {
      "needs_background": "light"
     },
     "output_type": "display_data"
    }
   ],
   "source": [
    "plt.bar(car.carname,car.cylinders,color=\"yellow\")"
   ]
  },
  {
   "cell_type": "code",
   "execution_count": 20,
   "id": "73b439da",
   "metadata": {},
   "outputs": [
    {
     "data": {
      "text/plain": [
       "4    204\n",
       "8    103\n",
       "6     84\n",
       "3      4\n",
       "5      3\n",
       "Name: cylinders, dtype: int64"
      ]
     },
     "execution_count": 20,
     "metadata": {},
     "output_type": "execute_result"
    }
   ],
   "source": [
    "car.cylinders.value_counts()"
   ]
  },
  {
   "cell_type": "code",
   "execution_count": 21,
   "id": "582802ec",
   "metadata": {},
   "outputs": [
    {
     "data": {
      "text/plain": [
       "(array([  4.,   0., 204.,   0.,   3.,   0.,  84.,   0.,   0., 103.]),\n",
       " array([3. , 3.5, 4. , 4.5, 5. , 5.5, 6. , 6.5, 7. , 7.5, 8. ]),\n",
       " <BarContainer object of 10 artists>)"
      ]
     },
     "execution_count": 21,
     "metadata": {},
     "output_type": "execute_result"
    },
    {
     "data": {
      "image/png": "[encoded data removed]",
      "text/plain": [
       "<Figure size 432x288 with 1 Axes>"
      ]
     },
     "metadata": {
      "needs_background": "light"
     },
     "output_type": "display_data"
    }
   ],
   "source": [
    "plt.hist(car.cylinders)"
   ]
  },
  {
   "cell_type": "code",
   "execution_count": 22,
   "id": "1d74ecd9",
   "metadata": {},
   "outputs": [
    {
     "data": {
      "image/png": "[encoded data removed]",
      "text/plain": [
       "<Figure size 432x288 with 1 Axes>"
      ]
     },
     "metadata": {
      "needs_background": "light"
     },
     "output_type": "display_data"
    }
   ],
   "source": [
    "d=sns.countplot(x=\"cylinders\",data=car)"
   ]
  },
  {
   "cell_type": "code",
   "execution_count": 23,
   "id": "07186e09",
   "metadata": {},
   "outputs": [],
   "source": [
    "car.cylinders=car.cylinders.replace(3,'below_5')\n",
    "car.cylinders=car.cylinders.replace(4,'below_5')\n",
    "car.cylinders=car.cylinders.replace(5,'below_5')"
   ]
  },
  {
   "cell_type": "code",
   "execution_count": 24,
   "id": "3fd1a880",
   "metadata": {},
   "outputs": [
    {
     "data": {
      "text/plain": [
       "<AxesSubplot:xlabel='cylinders', ylabel='count'>"
      ]
     },
     "execution_count": 24,
     "metadata": {},
     "output_type": "execute_result"
    },
    {
     "data": {
      "image/png": "[encoded data removed]",
      "text/plain": [
       "<Figure size 432x288 with 1 Axes>"
      ]
     },
     "metadata": {
      "needs_background": "light"
     },
     "output_type": "display_data"
    }
   ],
   "source": [
    "sns.countplot(x=car.cylinders)"
   ]
  },
  {
   "cell_type": "code",
   "execution_count": 25,
   "id": "d0d404d5",
   "metadata": {},
   "outputs": [
    {
     "data": {
      "text/plain": [
       "<AxesSubplot:xlabel='cylinders', ylabel='count'>"
      ]
     },
     "execution_count": 25,
     "metadata": {},
     "output_type": "execute_result"
    },
    {
     "data": {
      "image/png": "[encoded data removed]",
      "text/plain": [
       "<Figure size 432x288 with 1 Axes>"
      ]
     },
     "metadata": {
      "needs_background": "light"
     },
     "output_type": "display_data"
    }
   ],
   "source": [
    "sns.countplot(x=car.cylinders,order=['below_5',6,8])"
   ]
  },
  {
   "cell_type": "code",
   "execution_count": 26,
   "id": "3ca36253",
   "metadata": {},
   "outputs": [
    {
     "data": {
      "text/plain": [
       "{'whiskers': [<matplotlib.lines.Line2D at 0x7f31cc13d640>,\n",
       "  <matplotlib.lines.Line2D at 0x7f31cc13d910>],\n",
       " 'caps': [<matplotlib.lines.Line2D at 0x7f31cc13dbe0>,\n",
       "  <matplotlib.lines.Line2D at 0x7f31cc13deb0>],\n",
       " 'boxes': [<matplotlib.lines.Line2D at 0x7f31cc13d370>],\n",
       " 'medians': [<matplotlib.lines.Line2D at 0x7f31cc14a1c0>],\n",
       " 'fliers': [<matplotlib.lines.Line2D at 0x7f31cc14a490>],\n",
       " 'means': []}"
      ]
     },
     "execution_count": 26,
     "metadata": {},
     "output_type": "execute_result"
    },
    {
     "data": {
      "image/png": "[encoded data removed]",
      "text/plain": [
       "<Figure size 432x288 with 1 Axes>"
      ]
     },
     "metadata": {
      "needs_background": "light"
     },
     "output_type": "display_data"
    }
   ],
   "source": [
    "plt.boxplot(car.displacement)"
   ]
  },
  {
   "cell_type": "code",
   "execution_count": 27,
   "id": "5e71aff0",
   "metadata": {},
   "outputs": [],
   "source": [
    "from scipy import stats\n",
    "from statsmodels.stats.proportion import proportions_ztest"
   ]
  },
  {
   "cell_type": "code",
   "execution_count": 28,
   "id": "4abdb961",
   "metadata": {},
   "outputs": [
    {
     "data": {
      "text/plain": [
       "ShapiroResult(statistic=0.8804193139076233, pvalue=5.1434173206608516e-17)"
      ]
     },
     "execution_count": 28,
     "metadata": {},
     "output_type": "execute_result"
    }
   ],
   "source": [
    "stats.shapiro(car.displacement)\n"
   ]
  },
  {
   "cell_type": "code",
   "execution_count": 29,
   "id": "3c35730f",
   "metadata": {},
   "outputs": [
    {
     "data": {
      "text/plain": [
       "(array([107.,  89.,  31.,  13.,  57.,   3.,  42.,  31.,  16.,   9.]),\n",
       " array([ 68. , 106.7, 145.4, 184.1, 222.8, 261.5, 300.2, 338.9, 377.6,\n",
       "        416.3, 455. ]),\n",
       " <BarContainer object of 10 artists>)"
      ]
     },
     "execution_count": 29,
     "metadata": {},
     "output_type": "execute_result"
    },
    {
     "data": {
      "image/png": "[encoded data removed]",
      "text/plain": [
       "<Figure size 432x288 with 1 Axes>"
      ]
     },
     "metadata": {
      "needs_background": "light"
     },
     "output_type": "display_data"
    }
   ],
   "source": [
    "plt.hist(car.displacement)"
   ]
  },
  {
   "cell_type": "code",
   "execution_count": 30,
   "id": "d26b9c2e",
   "metadata": {},
   "outputs": [
    {
     "data": {
      "text/plain": [
       "{'whiskers': [<matplotlib.lines.Line2D at 0x7f31bffe8220>,\n",
       "  <matplotlib.lines.Line2D at 0x7f31bffe84f0>],\n",
       " 'caps': [<matplotlib.lines.Line2D at 0x7f31bffe87c0>,\n",
       "  <matplotlib.lines.Line2D at 0x7f31bffe8a90>],\n",
       " 'boxes': [<matplotlib.lines.Line2D at 0x7f31bffdcf10>],\n",
       " 'medians': [<matplotlib.lines.Line2D at 0x7f31bffe8d60>],\n",
       " 'fliers': [<matplotlib.lines.Line2D at 0x7f31bfff8070>],\n",
       " 'means': []}"
      ]
     },
     "execution_count": 30,
     "metadata": {},
     "output_type": "execute_result"
    },
    {
     "data": {
      "image/png": "[encoded data removed]",
      "text/plain": [
       "<Figure size 432x288 with 1 Axes>"
      ]
     },
     "metadata": {
      "needs_background": "light"
     },
     "output_type": "display_data"
    }
   ],
   "source": [
    "plt.boxplot(car.weight)"
   ]
  },
  {
   "cell_type": "code",
   "execution_count": 31,
   "id": "9cc34246",
   "metadata": {},
   "outputs": [
    {
     "data": {
      "text/plain": [
       "ShapiroResult(statistic=0.9413594603538513, pvalue=1.9702153103429154e-11)"
      ]
     },
     "execution_count": 31,
     "metadata": {},
     "output_type": "execute_result"
    }
   ],
   "source": [
    "stats.shapiro(car.weight)\n"
   ]
  },
  {
   "cell_type": "code",
   "execution_count": 32,
   "id": "fa823618",
   "metadata": {},
   "outputs": [
    {
     "data": {
      "text/plain": [
       "(array([31., 90., 59., 54., 37., 40., 29., 34., 18.,  6.]),\n",
       " array([1613. , 1965.7, 2318.4, 2671.1, 3023.8, 3376.5, 3729.2, 4081.9,\n",
       "        4434.6, 4787.3, 5140. ]),\n",
       " <BarContainer object of 10 artists>)"
      ]
     },
     "execution_count": 32,
     "metadata": {},
     "output_type": "execute_result"
    },
    {
     "data": {
      "image/png": "[encoded data removed]",
      "text/plain": [
       "<Figure size 432x288 with 1 Axes>"
      ]
     },
     "metadata": {
      "needs_background": "light"
     },
     "output_type": "display_data"
    }
   ],
   "source": [
    "plt.hist(car.weight)"
   ]
  },
  {
   "cell_type": "code",
   "execution_count": 33,
   "id": "4cbed0fc",
   "metadata": {},
   "outputs": [
    {
     "data": {
      "text/plain": [
       "{'whiskers': [<matplotlib.lines.Line2D at 0x7f31bff3d730>,\n",
       "  <matplotlib.lines.Line2D at 0x7f31bff3da00>],\n",
       " 'caps': [<matplotlib.lines.Line2D at 0x7f31bff3dcd0>,\n",
       "  <matplotlib.lines.Line2D at 0x7f31bff3dfa0>],\n",
       " 'boxes': [<matplotlib.lines.Line2D at 0x7f31bff3d460>],\n",
       " 'medians': [<matplotlib.lines.Line2D at 0x7f31bfeca2b0>],\n",
       " 'fliers': [<matplotlib.lines.Line2D at 0x7f31bfeca580>],\n",
       " 'means': []}"
      ]
     },
     "execution_count": 33,
     "metadata": {},
     "output_type": "execute_result"
    },
    {
     "data": {
      "image/png": "[encoded data removed]",
      "text/plain": [
       "<Figure size 432x288 with 1 Axes>"
      ]
     },
     "metadata": {
      "needs_background": "light"
     },
     "output_type": "display_data"
    }
   ],
   "source": [
    "plt.boxplot(car.acceleration)"
   ]
  },
  {
   "cell_type": "code",
   "execution_count": 34,
   "id": "5ceae4d4",
   "metadata": {},
   "outputs": [
    {
     "data": {
      "text/plain": [
       "ShapiroResult(statistic=0.9923787713050842, pvalue=0.039872437715530396)"
      ]
     },
     "execution_count": 34,
     "metadata": {},
     "output_type": "execute_result"
    }
   ],
   "source": [
    "stats.shapiro(car.acceleration)"
   ]
  },
  {
   "cell_type": "code",
   "execution_count": 35,
   "id": "e7d53dc1",
   "metadata": {},
   "outputs": [
    {
     "data": {
      "text/plain": [
       "(array([ 6., 15., 50., 86., 92., 80., 45., 13.,  7.,  4.]),\n",
       " array([ 8.  ,  9.68, 11.36, 13.04, 14.72, 16.4 , 18.08, 19.76, 21.44,\n",
       "        23.12, 24.8 ]),\n",
       " <BarContainer object of 10 artists>)"
      ]
     },
     "execution_count": 35,
     "metadata": {},
     "output_type": "execute_result"
    },
    {
     "data": {
      "image/png": "[encoded data removed]",
      "text/plain": [
       "<Figure size 432x288 with 1 Axes>"
      ]
     },
     "metadata": {
      "needs_background": "light"
     },
     "output_type": "display_data"
    }
   ],
   "source": [
    "plt.hist(car.acceleration)"
   ]
  },
  {
   "cell_type": "code",
   "execution_count": 36,
   "id": "10c215e5",
   "metadata": {},
   "outputs": [
    {
     "data": {
      "text/plain": [
       "{'whiskers': [<matplotlib.lines.Line2D at 0x7f31bfe14b80>,\n",
       "  <matplotlib.lines.Line2D at 0x7f31bfe14e50>],\n",
       " 'caps': [<matplotlib.lines.Line2D at 0x7f31bfe25160>,\n",
       "  <matplotlib.lines.Line2D at 0x7f31bfe25430>],\n",
       " 'boxes': [<matplotlib.lines.Line2D at 0x7f31bfe148b0>],\n",
       " 'medians': [<matplotlib.lines.Line2D at 0x7f31bfe25700>],\n",
       " 'fliers': [<matplotlib.lines.Line2D at 0x7f31bfe259d0>],\n",
       " 'means': []}"
      ]
     },
     "execution_count": 36,
     "metadata": {},
     "output_type": "execute_result"
    },
    {
     "data": {
      "image/png": "[encoded data removed]",
      "text/plain": [
       "<Figure size 432x288 with 1 Axes>"
      ]
     },
     "metadata": {
      "needs_background": "light"
     },
     "output_type": "display_data"
    }
   ],
   "source": [
    "plt.boxplot(car.modelyear)"
   ]
  },
  {
   "cell_type": "code",
   "execution_count": 37,
   "id": "11c20fb0",
   "metadata": {},
   "outputs": [
    {
     "data": {
      "text/plain": [
       "ShapiroResult(statistic=0.9458516240119934, pvalue=6.962785209507771e-11)"
      ]
     },
     "execution_count": 37,
     "metadata": {},
     "output_type": "execute_result"
    }
   ],
   "source": [
    "stats.shapiro(car.modelyear)"
   ]
  },
  {
   "cell_type": "code",
   "execution_count": 38,
   "id": "2ec4424a",
   "metadata": {},
   "outputs": [
    {
     "name": "stderr",
     "output_type": "stream",
     "text": [
      "/opt/conda/envs/Python-3.9/lib/python3.9/site-packages/seaborn/_decorators.py:36: FutureWarning: Pass the following variable as a keyword arg: x. From version 0.12, the only valid positional argument will be `data`, and passing other arguments without an explicit keyword will result in an error or misinterpretation.\n",
      "  warnings.warn(\n"
     ]
    },
    {
     "data": {
      "text/plain": [
       "<AxesSubplot:xlabel='modelyear', ylabel='count'>"
      ]
     },
     "execution_count": 38,
     "metadata": {},
     "output_type": "execute_result"
    },
    {
     "data": {
      "image/png": "[encoded data removed]",
      "text/plain": [
       "<Figure size 432x288 with 1 Axes>"
      ]
     },
     "metadata": {
      "needs_background": "light"
     },
     "output_type": "display_data"
    }
   ],
   "source": [
    "sns.countplot(car.modelyear,data=car)"
   ]
  },
  {
   "cell_type": "code",
   "execution_count": 39,
   "id": "8544e351",
   "metadata": {
    "scrolled": true
   },
   "outputs": [
    {
     "data": {
      "text/plain": [
       "{'whiskers': [<matplotlib.lines.Line2D at 0x7f31bfd0fd00>,\n",
       "  <matplotlib.lines.Line2D at 0x7f31bfd0ffd0>],\n",
       " 'caps': [<matplotlib.lines.Line2D at 0x7f31bfd1f2e0>,\n",
       "  <matplotlib.lines.Line2D at 0x7f31bfd1f5b0>],\n",
       " 'boxes': [<matplotlib.lines.Line2D at 0x7f31bfd0fa30>],\n",
       " 'medians': [<matplotlib.lines.Line2D at 0x7f31bfd1f880>],\n",
       " 'fliers': [<matplotlib.lines.Line2D at 0x7f31bfd1fb50>],\n",
       " 'means': []}"
      ]
     },
     "execution_count": 39,
     "metadata": {},
     "output_type": "execute_result"
    },
    {
     "data": {
      "image/png": "[encoded data removed]",
      "text/plain": [
       "<Figure size 432x288 with 1 Axes>"
      ]
     },
     "metadata": {
      "needs_background": "light"
     },
     "output_type": "display_data"
    }
   ],
   "source": [
    "plt.boxplot(car.origin)"
   ]
  },
  {
   "cell_type": "code",
   "execution_count": 40,
   "id": "ca4dddbd",
   "metadata": {},
   "outputs": [
    {
     "data": {
      "text/plain": [
       "ShapiroResult(statistic=0.6739088296890259, pvalue=5.797658882025973e-27)"
      ]
     },
     "execution_count": 40,
     "metadata": {},
     "output_type": "execute_result"
    }
   ],
   "source": [
    "stats.shapiro(car.origin)"
   ]
  },
  {
   "cell_type": "code",
   "execution_count": 41,
   "id": "72edf176",
   "metadata": {
    "scrolled": true
   },
   "outputs": [
    {
     "name": "stderr",
     "output_type": "stream",
     "text": [
      "/opt/conda/envs/Python-3.9/lib/python3.9/site-packages/seaborn/_decorators.py:36: FutureWarning: Pass the following variable as a keyword arg: x. From version 0.12, the only valid positional argument will be `data`, and passing other arguments without an explicit keyword will result in an error or misinterpretation.\n",
      "  warnings.warn(\n"
     ]
    },
    {
     "data": {
      "text/plain": [
       "<AxesSubplot:xlabel='origin', ylabel='count'>"
      ]
     },
     "execution_count": 41,
     "metadata": {},
     "output_type": "execute_result"
    },
    {
     "data": {
      "image/png": "[encoded data removed]",
      "text/plain": [
       "<Figure size 432x288 with 1 Axes>"
      ]
     },
     "metadata": {
      "needs_background": "light"
     },
     "output_type": "display_data"
    }
   ],
   "source": [
    "sns.countplot(car.origin,data=car)"
   ]
  },
  {
   "cell_type": "code",
   "execution_count": 42,
   "id": "ee71bd13",
   "metadata": {},
   "outputs": [
    {
     "data": {
      "text/plain": [
       "F_onewayResult(statistic=29.021777566579576, pvalue=1.7389414133646237e-12)"
      ]
     },
     "execution_count": 42,
     "metadata": {},
     "output_type": "execute_result"
    }
   ],
   "source": [
    "stats.f_oneway(car.modelyear[car.cylinders=='below_5'],car.modelyear[car.cylinders==6],car.modelyear[car.cylinders==8])"
   ]
  },
  {
   "cell_type": "code",
   "execution_count": 43,
   "id": "d6113632",
   "metadata": {},
   "outputs": [
    {
     "data": {
      "text/plain": [
       "F_onewayResult(statistic=99.29093583417232, pvalue=1.1627923993965917e-35)"
      ]
     },
     "execution_count": 43,
     "metadata": {},
     "output_type": "execute_result"
    }
   ],
   "source": [
    "stats.f_oneway(car.origin[car.cylinders=='below_5'],car.origin[car.cylinders==6],car.origin[car.cylinders==8])"
   ]
  },
  {
   "cell_type": "code",
   "execution_count": 44,
   "id": "51da5c38",
   "metadata": {},
   "outputs": [
    {
     "data": {
      "text/plain": [
       "F_onewayResult(statistic=328.4941105950235, pvalue=9.567052215635294e-85)"
      ]
     },
     "execution_count": 44,
     "metadata": {},
     "output_type": "execute_result"
    }
   ],
   "source": [
    "stats.f_oneway(car.mpg[car.cylinders=='below_5'],car.mpg[car.cylinders==6],car.mpg[car.cylinders==8])"
   ]
  },
  {
   "cell_type": "code",
   "execution_count": 45,
   "id": "ed4234f6",
   "metadata": {},
   "outputs": [],
   "source": [
    "car.drop([\"cylinders\",\"modelyear\",\"origin\",\"carname\"],axis=1,inplace=True)"
   ]
  },
  {
   "cell_type": "code",
   "execution_count": 46,
   "id": "7451aeb0",
   "metadata": {},
   "outputs": [
    {
     "data": {
      "text/plain": [
       "Index(['mpg', 'displacement', 'horsepower', 'weight', 'acceleration'], dtype='object')"
      ]
     },
     "execution_count": 46,
     "metadata": {},
     "output_type": "execute_result"
    }
   ],
   "source": [
    "car.columns"
   ]
  },
  {
   "cell_type": "code",
   "execution_count": 47,
   "id": "609f356b",
   "metadata": {},
   "outputs": [],
   "source": [
    "data = car.drop(columns=['displacement', 'acceleration'])\n",
    "X = data.iloc[:, 1:]\n",
    "Y = data['mpg']"
   ]
  },
  {
   "cell_type": "code",
   "execution_count": 48,
   "id": "e41f9466",
   "metadata": {},
   "outputs": [
    {
     "data": {
      "text/plain": [
       "array([[0.45652174, 0.5361497 ],\n",
       "       [0.64673913, 0.58973632],\n",
       "       [0.56521739, 0.51686986],\n",
       "       [0.56521739, 0.51601928],\n",
       "       [0.51086957, 0.52055571],\n",
       "       [0.82608696, 0.77346187],\n",
       "       [0.94565217, 0.77714772],\n",
       "       [0.91847826, 0.76523958],\n",
       "       [0.97282609, 0.79727814],\n",
       "       [0.7826087 , 0.63425007],\n",
       "       [0.67391304, 0.5528778 ],\n",
       "       [0.61956522, 0.56592005],\n",
       "       [0.56521739, 0.60901616],\n",
       "       [0.97282609, 0.41763538],\n",
       "       [0.26630435, 0.21519705],\n",
       "       [0.26630435, 0.34590303],\n",
       "       [0.27717391, 0.32917494],\n",
       "       [0.21195652, 0.27615537],\n",
       "       [0.22826087, 0.1465835 ],\n",
       "       [0.        , 0.06294301],\n",
       "       [0.22282609, 0.30025517],\n",
       "       [0.23913043, 0.23164162],\n",
       "       [0.26630435, 0.21604763],\n",
       "       [0.36413043, 0.17607031],\n",
       "       [0.23913043, 0.29345052],\n",
       "       [0.91847826, 0.85114828],\n",
       "       [0.83695652, 0.78338531],\n",
       "       [0.89130435, 0.78508648],\n",
       "       [0.79891304, 0.88432095],\n",
       "       [0.22826087, 0.1465835 ],\n",
       "       [0.23913043, 0.18457613],\n",
       "       [0.26630435, 0.17436915],\n",
       "       [0.26630435, 0.12276722],\n",
       "       [0.29347826, 0.28948115],\n",
       "       [0.32065217, 0.51772044],\n",
       "       [0.29347826, 0.48653246],\n",
       "       [0.22826087, 0.47887723],\n",
       "       [0.29347826, 0.47490785],\n",
       "       [0.64673913, 0.73603629],\n",
       "       [0.70108696, 0.8083357 ],\n",
       "       [0.58152174, 0.7204423 ],\n",
       "       [0.56521739, 0.70399773],\n",
       "       [0.72826087, 0.94754749],\n",
       "       [0.67391304, 0.88829033],\n",
       "       [0.70108696, 1.        ],\n",
       "       [0.34782609, 0.38247803],\n",
       "       [0.14130435, 0.22540403],\n",
       "       [0.29347826, 0.47320669],\n",
       "       [0.22826087, 0.43266232],\n",
       "       [0.2173913 , 0.17210094],\n",
       "       [0.23913043, 0.14459881],\n",
       "       [0.13043478, 0.13070598],\n",
       "       [0.16304348, 0.12815424],\n",
       "       [0.10326087, 0.04536433],\n",
       "       [0.125     , 0.        ],\n",
       "       [0.07608696, 0.06265948],\n",
       "       [0.13043478, 0.09696626],\n",
       "       [0.26630435, 0.18854551],\n",
       "       [0.18478261, 0.14544939],\n",
       "       [0.04347826, 0.18174086],\n",
       "       [0.23913043, 0.22540403],\n",
       "       [0.2173913 , 0.1738021 ],\n",
       "       [0.64673913, 0.75446555],\n",
       "       [0.70108696, 0.78593706],\n",
       "       [0.56521739, 0.71505529],\n",
       "       [0.58152174, 0.71335413],\n",
       "       [0.56521739, 0.58378225],\n",
       "       [0.88043478, 0.85625177],\n",
       "       [0.5923913 , 0.81910972],\n",
       "       [0.61956522, 0.80606748],\n",
       "       [0.7826087 , 0.79642756],\n",
       "       [0.27717391, 0.20328891],\n",
       "       [0.56521739, 0.64615821],\n",
       "       [0.45652174, 0.70456479],\n",
       "       [0.51086957, 0.76013609],\n",
       "       [0.56521739, 0.69861072],\n",
       "       [0.35869565, 0.37425574],\n",
       "       [0.16304348, 0.25460731],\n",
       "       [0.22282609, 0.38729799],\n",
       "       [0.125     , 0.1633116 ],\n",
       "       [0.2173913 , 0.22171817],\n",
       "       [0.25      , 0.19138078],\n",
       "       [0.27717391, 0.25318968],\n",
       "       [0.18478261, 0.15622342],\n",
       "       [0.22826087, 0.13807769],\n",
       "       [0.70108696, 0.70513184],\n",
       "       [0.56521739, 0.58378225],\n",
       "       [0.53804348, 0.67337681],\n",
       "       [0.49456522, 0.68868727],\n",
       "       [0.56521739, 0.61355259],\n",
       "       [0.82608696, 0.94669691],\n",
       "       [0.56521739, 0.8083357 ],\n",
       "       [0.60869565, 0.77969946],\n",
       "       [0.56521739, 0.74397505],\n",
       "       [0.91847826, 0.88517153],\n",
       "       [0.97282609, 0.94641338],\n",
       "       [0.70108696, 0.62602779],\n",
       "       [0.32065217, 0.42755883],\n",
       "       [0.29347826, 0.47207258],\n",
       "       [0.29347826, 0.37765807],\n",
       "       [0.22826087, 0.39920612],\n",
       "       [0.26630435, 0.36603346],\n",
       "       [0.        , 0.09554862],\n",
       "       [0.56521739, 0.95945563],\n",
       "       [0.6576087 , 0.93365466],\n",
       "       [0.67391304, 0.86220584],\n",
       "       [0.72826087, 0.81825914],\n",
       "       [0.29347826, 0.33342784],\n",
       "       [0.22826087, 0.18882903],\n",
       "       [0.14130435, 0.22341934],\n",
       "       [0.26086957, 0.21718174],\n",
       "       [0.23913043, 0.14488234],\n",
       "       [0.21195652, 0.19761837],\n",
       "       [0.33152174, 0.24354976],\n",
       "       [0.23913043, 0.18485965],\n",
       "       [0.53804348, 0.70002835],\n",
       "       [1.        , 0.75559966],\n",
       "       [0.01630435, 0.07201588],\n",
       "       [0.1576087 , 0.15452226],\n",
       "       [0.24456522, 0.27473774],\n",
       "       [0.35869565, 0.35582648],\n",
       "       [0.56521739, 0.50637936],\n",
       "       [0.34782609, 0.29685285],\n",
       "       [0.41304348, 0.33853133],\n",
       "       [0.72826087, 0.58151403],\n",
       "       [0.26630435, 0.42217182],\n",
       "       [0.23913043, 0.35781117],\n",
       "       [0.29347826, 0.36518287],\n",
       "       [0.29347826, 0.48851715],\n",
       "       [0.11413043, 0.09554862],\n",
       "       [0.18478261, 0.23759569],\n",
       "       [0.10326087, 0.06322654],\n",
       "       [0.1576087 , 0.26339665],\n",
       "       [0.29347826, 0.6146867 ],\n",
       "       [0.34782609, 0.57244117],\n",
       "       [0.32065217, 0.56705415],\n",
       "       [0.51086957, 0.71675645],\n",
       "       [0.56521739, 0.87496456],\n",
       "       [0.56521739, 0.80635101],\n",
       "       [0.51086957, 0.85766941],\n",
       "       [0.56521739, 0.74964559],\n",
       "       [0.20108696, 0.17181741],\n",
       "       [0.11413043, 0.09923448],\n",
       "       [0.17391304, 0.1947831 ],\n",
       "       [0.0326087 , 0.01020697],\n",
       "       [0.08152174, 0.11057556],\n",
       "       [0.1576087 , 0.14516586],\n",
       "       [0.1576087 , 0.1403459 ],\n",
       "       [0.1576087 , 0.17947264],\n",
       "       [0.27717391, 0.24836972],\n",
       "       [0.25543478, 0.22058407],\n",
       "       [0.11413043, 0.10972498],\n",
       "       [0.26630435, 0.4681032 ],\n",
       "       [0.32065217, 0.52339098],\n",
       "       [0.14130435, 0.51573575],\n",
       "       [0.14130435, 0.43804933],\n",
       "       [0.67391304, 0.86617522],\n",
       "       [0.53804348, 0.80153105],\n",
       "       [0.56521739, 0.81797562],\n",
       "       [0.55434783, 0.86305642],\n",
       "       [0.34782609, 0.65041111],\n",
       "       [0.32065217, 0.64757584],\n",
       "       [0.34782609, 0.60022682],\n",
       "       [0.26630435, 0.61582081],\n",
       "       [0.34782609, 0.40430961],\n",
       "       [0.34782609, 0.45591154],\n",
       "       [0.45108696, 0.44116813],\n",
       "       [0.1576087 , 0.15820811],\n",
       "       [0.20108696, 0.29089878],\n",
       "       [0.29347826, 0.36886873],\n",
       "       [0.17391304, 0.27757301],\n",
       "       [0.27173913, 0.30876099],\n",
       "       [0.13586957, 0.17295152],\n",
       "       [0.27717391, 0.26424724],\n",
       "       [0.27717391, 0.38871562],\n",
       "       [0.13043478, 0.09186277],\n",
       "       [0.23913043, 0.45307627],\n",
       "       [0.26630435, 0.30649277],\n",
       "       [0.22826087, 0.38106039],\n",
       "       [0.2826087 , 0.37765807],\n",
       "       [0.375     , 0.29997165],\n",
       "       [0.03804348, 0.05160193],\n",
       "       [0.2173913 , 0.24128154],\n",
       "       [0.19021739, 0.17210094],\n",
       "       [0.25      , 0.27190247],\n",
       "       [0.17934783, 0.18202438],\n",
       "       [0.20108696, 0.16699745],\n",
       "       [0.51086957, 0.73773745],\n",
       "       [0.56521739, 0.73064928],\n",
       "       [0.40217391, 0.6660051 ],\n",
       "       [0.57608696, 0.73773745],\n",
       "       [0.29347826, 0.45931386],\n",
       "       [0.32065217, 0.49333711],\n",
       "       [0.19021739, 0.39665438],\n",
       "       [0.23913043, 0.41735186],\n",
       "       [0.0326087 , 0.11964843],\n",
       "       [0.07608696, 0.15622342],\n",
       "       [0.13043478, 0.09186277],\n",
       "       [0.03804348, 0.05160193],\n",
       "       [0.29347826, 0.57782818],\n",
       "       [0.17391304, 0.5559966 ],\n",
       "       [0.34782609, 0.57612702],\n",
       "       [0.26630435, 0.44797278],\n",
       "       [0.13586957, 0.06010774],\n",
       "       [0.13043478, 0.10688971],\n",
       "       [0.1576087 , 0.15367168],\n",
       "       [0.14130435, 0.26991778],\n",
       "       [0.30434783, 0.43578112],\n",
       "       [0.56521739, 0.65976751],\n",
       "       [0.22826087, 0.46980437],\n",
       "       [0.33695652, 0.37340516],\n",
       "       [0.40217391, 0.62574426],\n",
       "       [0.72826087, 0.78451942],\n",
       "       [0.53804348, 0.69237312],\n",
       "       [0.45652174, 0.63992061],\n",
       "       [0.56521739, 0.607315  ],\n",
       "       [0.11956522, 0.1224837 ],\n",
       "       [0.18478261, 0.15367168],\n",
       "       [0.06521739, 0.06010774],\n",
       "       [0.27173913, 0.1947831 ],\n",
       "       [0.13043478, 0.09413099],\n",
       "       [0.53804348, 0.64275588],\n",
       "       [0.34782609, 0.69379076],\n",
       "       [0.53804348, 0.71647292],\n",
       "       [0.45652174, 0.76041962],\n",
       "       [0.34782609, 0.54068614],\n",
       "       [0.32065217, 0.51375106],\n",
       "       [0.29347826, 0.57187411],\n",
       "       [0.2826087 , 0.54210377],\n",
       "       [0.72826087, 0.73915509],\n",
       "       [0.67391304, 0.7235611 ],\n",
       "       [0.7826087 , 0.76892543],\n",
       "       [0.55978261, 0.7717607 ],\n",
       "       [0.17391304, 0.09271335],\n",
       "       [0.22826087, 0.31953502],\n",
       "       [0.1576087 , 0.18485965],\n",
       "       [0.23369565, 0.32378792],\n",
       "       [0.0923913 , 0.12418486],\n",
       "       [0.20108696, 0.13098951],\n",
       "       [0.11413043, 0.10547207],\n",
       "       [0.17391304, 0.16359512],\n",
       "       [0.27717391, 0.34079955],\n",
       "       [0.34782609, 0.27984122],\n",
       "       [0.34782609, 0.31386447],\n",
       "       [0.01086957, 0.10547207],\n",
       "       [0.10869565, 0.05301956],\n",
       "       [0.0326087 , 0.10547207],\n",
       "       [0.13043478, 0.12957187],\n",
       "       [0.07608696, 0.05301956],\n",
       "       [0.34782609, 0.49673944],\n",
       "       [0.51086957, 0.60164446],\n",
       "       [0.50543478, 0.55486249],\n",
       "       [0.32065217, 0.54493904],\n",
       "       [0.26630435, 0.43719875],\n",
       "       [0.21195652, 0.38332861],\n",
       "       [0.22826087, 0.31386447],\n",
       "       [0.29347826, 0.5151687 ],\n",
       "       [0.23913043, 0.45279274],\n",
       "       [0.32065217, 0.50099234],\n",
       "       [0.21195652, 0.41309895],\n",
       "       [0.34782609, 0.56903884],\n",
       "       [0.40217391, 0.50949816],\n",
       "       [0.53804348, 0.51375106],\n",
       "       [0.64673913, 0.5194216 ],\n",
       "       [0.50543478, 0.45137511],\n",
       "       [0.51086957, 0.6994613 ],\n",
       "       [0.11956522, 0.15367168],\n",
       "       [0.26630435, 0.26850014],\n",
       "       [0.27717391, 0.1947831 ],\n",
       "       [0.1576087 , 0.17493621],\n",
       "       [0.26630435, 0.25574142],\n",
       "       [0.32065217, 0.32095265],\n",
       "       [0.21195652, 0.35214063],\n",
       "       [0.27717391, 0.22455344],\n",
       "       [0.30978261, 0.34505245],\n",
       "       [0.42934783, 0.43294585],\n",
       "       [0.375     , 0.335129  ],\n",
       "       [0.47282609, 0.50949816],\n",
       "       [0.13586957, 0.10688971],\n",
       "       [0.11956522, 0.14800113],\n",
       "       [0.375     , 0.46271619],\n",
       "       [0.21195652, 0.39041678],\n",
       "       [0.22826087, 0.36206408],\n",
       "       [0.23913043, 0.46838673],\n",
       "       [0.34782609, 0.4953218 ],\n",
       "       [0.45652174, 0.6314148 ],\n",
       "       [0.45108696, 0.59880919],\n",
       "       [0.5       , 0.66402041],\n",
       "       [0.48369565, 0.62857953],\n",
       "       [0.5923913 , 0.77884888],\n",
       "       [0.52173913, 0.69208959],\n",
       "       [0.42934783, 0.56478594],\n",
       "       [0.56521739, 0.65976751],\n",
       "       [0.13586957, 0.08846045],\n",
       "       [0.10326087, 0.1026368 ],\n",
       "       [0.18478261, 0.08562518],\n",
       "       [0.18478261, 0.29968812],\n",
       "       [0.16847826, 0.54352141],\n",
       "       [0.42934783, 0.64842642],\n",
       "       [0.13586957, 0.4471222 ],\n",
       "       [0.23913043, 0.51233343],\n",
       "       [0.13043478, 0.16643039],\n",
       "       [0.13043478, 0.15225404],\n",
       "       [0.10326087, 0.11539552],\n",
       "       [0.125     , 0.1465835 ],\n",
       "       [0.23913043, 0.29968812],\n",
       "       [0.375     , 0.27842359],\n",
       "       [0.375     , 0.30819393],\n",
       "       [0.23913043, 0.26736603],\n",
       "       [0.16304348, 0.15055288],\n",
       "       [0.07608696, 0.10065211],\n",
       "       [0.13043478, 0.14374823],\n",
       "       [0.10326087, 0.11511199],\n",
       "       [0.23913043, 0.30195634],\n",
       "       [0.22826087, 0.35639354],\n",
       "       [0.23913043, 0.39410264],\n",
       "       [0.23913043, 0.50127587],\n",
       "       [0.17391304, 0.16302807],\n",
       "       [0.23913043, 0.31131273],\n",
       "       [0.1576087 , 0.26339665],\n",
       "       [0.25      , 0.23277573],\n",
       "       [0.1576087 , 0.18485965],\n",
       "       [0.10326087, 0.14091296],\n",
       "       [0.32065217, 0.33654664],\n",
       "       [0.10326087, 0.14091296],\n",
       "       [0.01086957, 0.13382478],\n",
       "       [0.01086957, 0.20470655],\n",
       "       [0.11413043, 0.3790757 ],\n",
       "       [0.11413043, 0.46413382],\n",
       "       [0.11413043, 0.06719592],\n",
       "       [0.11413043, 0.06294301],\n",
       "       [0.11413043, 0.1508364 ],\n",
       "       [0.08695652, 0.06577828],\n",
       "       [0.4673913 , 0.36773462],\n",
       "       [0.29347826, 0.22880635],\n",
       "       [0.22826087, 0.25148852],\n",
       "       [0.22826087, 0.36631698],\n",
       "       [0.14130435, 0.19194783],\n",
       "       [0.20652174, 0.24865325],\n",
       "       [0.20652174, 0.28976467],\n",
       "       [0.25      , 0.28551177],\n",
       "       [0.34782609, 0.31528211],\n",
       "       [0.20652174, 0.2188829 ],\n",
       "       [0.06521739, 0.04026084],\n",
       "       [0.09782609, 0.07428409],\n",
       "       [0.07608696, 0.04167848],\n",
       "       [0.11413043, 0.12815424],\n",
       "       [0.10326087, 0.1026368 ],\n",
       "       [0.08695652, 0.12390133],\n",
       "       [0.11956522, 0.10547207],\n",
       "       [0.0923913 , 0.1706833 ],\n",
       "       [0.10326087, 0.1224837 ],\n",
       "       [0.10326087, 0.21746527],\n",
       "       [0.15217391, 0.16359512],\n",
       "       [0.15217391, 0.20045364],\n",
       "       [0.1576087 , 0.16926566],\n",
       "       [0.1576087 , 0.20895946],\n",
       "       [0.29347826, 0.28409413],\n",
       "       [0.15217391, 0.28976467],\n",
       "       [0.18478261, 0.45846328],\n",
       "       [0.16304348, 0.43861639],\n",
       "       [0.38043478, 0.36489935],\n",
       "       [0.40217391, 0.37340516],\n",
       "       [0.34782609, 0.51091579],\n",
       "       [0.32065217, 0.59880919],\n",
       "       [0.22826087, 0.41026368],\n",
       "       [0.21195652, 0.52509215],\n",
       "       [0.22826087, 0.28125886],\n",
       "       [0.22826087, 0.29118231],\n",
       "       [0.22826087, 0.22171817],\n",
       "       [0.21195652, 0.27275305],\n",
       "       [0.20652174, 0.25857669],\n",
       "       [0.23913043, 0.31811738],\n",
       "       [0.25      , 0.3549759 ],\n",
       "       [0.25      , 0.4031755 ],\n",
       "       [0.15217391, 0.10405444],\n",
       "       [0.11956522, 0.11681316],\n",
       "       [0.11956522, 0.10121917],\n",
       "       [0.0923913 , 0.14516586],\n",
       "       [0.13043478, 0.14516586],\n",
       "       [0.22826087, 0.15508931],\n",
       "       [0.1576087 , 0.16784803],\n",
       "       [0.13043478, 0.17918911],\n",
       "       [0.11413043, 0.09980153],\n",
       "       [0.11413043, 0.09980153],\n",
       "       [0.11413043, 0.10830734],\n",
       "       [0.34782609, 0.37765807],\n",
       "       [0.21195652, 0.39750496],\n",
       "       [0.25      , 0.27558832],\n",
       "       [0.35869565, 0.34647009],\n",
       "       [0.27173913, 0.29827048],\n",
       "       [0.20652174, 0.21463   ],\n",
       "       [0.23913043, 0.3790757 ],\n",
       "       [0.2173913 , 0.33371137],\n",
       "       [0.0326087 , 0.1465835 ],\n",
       "       [0.20652174, 0.19336547],\n",
       "       [0.17934783, 0.2869294 ],\n",
       "       [0.19565217, 0.31386447]])"
      ]
     },
     "execution_count": 48,
     "metadata": {},
     "output_type": "execute_result"
    }
   ],
   "source": [
    "from sklearn.preprocessing import MinMaxScaler\n",
    "mms = MinMaxScaler()\n",
    "X = mms.fit_transform(X)\n",
    "X"
   ]
  },
  {
   "cell_type": "code",
   "execution_count": 49,
   "id": "bf30f792",
   "metadata": {},
   "outputs": [],
   "source": [
    "from sklearn.model_selection import train_test_split\n",
    "X_train,X_test,Y_train,Y_test=train_test_split(X,Y,test_size=0.2)"
   ]
  },
  {
   "cell_type": "code",
   "execution_count": 50,
   "id": "3fe58bc1",
   "metadata": {},
   "outputs": [],
   "source": [
    "from sklearn.linear_model import LinearRegression\n",
    "regressor=LinearRegression()"
   ]
  },
  {
   "cell_type": "code",
   "execution_count": 51,
   "id": "68aa5b5c",
   "metadata": {},
   "outputs": [
    {
     "data": {
      "text/plain": [
       "LinearRegression()"
      ]
     },
     "execution_count": 51,
     "metadata": {},
     "output_type": "execute_result"
    }
   ],
   "source": [
    "regressor.fit(X_train,Y_train)"
   ]
  },
  {
   "cell_type": "code",
   "execution_count": 52,
   "id": "0c9d00a5",
   "metadata": {},
   "outputs": [
    {
     "data": {
      "text/plain": [
       "array([26.54263125, 23.18723849, 10.49922839, 25.92840865, 19.30533443])"
      ]
     },
     "execution_count": 52,
     "metadata": {},
     "output_type": "execute_result"
    }
   ],
   "source": [
    "pred = regressor.predict(X_test)\n",
    "pred[:5]"
   ]
  },
  {
   "cell_type": "code",
   "execution_count": 53,
   "id": "030e38c5",
   "metadata": {},
   "outputs": [
    {
     "data": {
      "text/plain": [
       "0.7101144551051928"
      ]
     },
     "execution_count": 53,
     "metadata": {},
     "output_type": "execute_result"
    }
   ],
   "source": [
    "from sklearn.metrics import r2_score\n",
    "r2_score(Y_test, pred)"
   ]
  },
  {
   "cell_type": "markdown",
   "id": "705321bd",
   "metadata": {},
   "source": [
    "# RandomForestRegression"
   ]
  },
  {
   "cell_type": "code",
   "execution_count": 54,
   "id": "e7792e8c",
   "metadata": {},
   "outputs": [],
   "source": [
    "from sklearn.ensemble import RandomForestRegressor"
   ]
  },
  {
   "cell_type": "code",
   "execution_count": 55,
   "id": "79dbda75",
   "metadata": {},
   "outputs": [],
   "source": [
    "rf = RandomForestRegressor(n_estimators=30,random_state=0)"
   ]
  },
  {
   "cell_type": "code",
   "execution_count": 56,
   "id": "3fb9bf37",
   "metadata": {
    "scrolled": true
   },
   "outputs": [
    {
     "data": {
      "text/plain": [
       "RandomForestRegressor(n_estimators=30, random_state=0)"
      ]
     },
     "execution_count": 56,
     "metadata": {},
     "output_type": "execute_result"
    }
   ],
   "source": [
    "rf.fit(X_train,Y_train)"
   ]
  },
  {
   "cell_type": "code",
   "execution_count": 57,
   "id": "5ff9cc9b",
   "metadata": {},
   "outputs": [],
   "source": [
    "y_pred = rf.predict(X_test)"
   ]
  },
  {
   "cell_type": "code",
   "execution_count": 58,
   "id": "76f8e60b",
   "metadata": {},
   "outputs": [
    {
     "data": {
      "text/plain": [
       "array([22.31333333, 18.66666667, 12.9       , 28.09      , 16.91333333,\n",
       "       18.69      , 27.88666667, 20.96666667, 20.63333333, 31.43      ,\n",
       "       15.9       , 15.81666667, 32.91      , 22.8       , 25.34      ,\n",
       "       31.04666667, 15.18333333, 40.38      , 13.56666667, 14.54666667,\n",
       "       31.02333333, 16.14666667, 16.07222222, 18.19666667, 31.22333333,\n",
       "       34.01      , 14.3       , 25.63666667, 29.63333333, 27.23333333,\n",
       "       24.93      , 19.33666667, 13.61666667, 29.07      , 10.7       ,\n",
       "       12.        , 19.71333333, 21.6       , 21.39666667, 25.27333333,\n",
       "       28.        , 16.86666667, 16.14666667, 28.        , 30.94333333,\n",
       "       21.22      , 14.55      , 20.1       , 26.38666667, 29.66666667,\n",
       "       15.9       , 16.73333333, 18.25      , 28.70333333, 27.83333333,\n",
       "       21.25333333, 28.49333333, 12.03333333, 19.34      , 14.6       ,\n",
       "       24.33333333, 13.28333333, 18.44      , 16.56666667, 32.15666667,\n",
       "       32.22666667, 30.63333333, 27.27      , 30.02333333, 26.38      ,\n",
       "       34.08333333, 26.53      , 28.1       , 31.35      , 12.98333333,\n",
       "       30.33333333, 18.61333333, 22.33333333, 13.48333333, 24.26333333])"
      ]
     },
     "execution_count": 58,
     "metadata": {},
     "output_type": "execute_result"
    }
   ],
   "source": [
    "\n",
    "y_pred"
   ]
  },
  {
   "cell_type": "markdown",
   "id": "9e91909f",
   "metadata": {},
   "source": [
    "#  Model Evaluation"
   ]
  },
  {
   "cell_type": "code",
   "execution_count": 59,
   "id": "eea2cfe4",
   "metadata": {},
   "outputs": [],
   "source": [
    "\n",
    "from sklearn.metrics import r2_score,mean_squared_error"
   ]
  },
  {
   "cell_type": "code",
   "execution_count": 60,
   "id": "37afdf40",
   "metadata": {},
   "outputs": [],
   "source": [
    "value = r2_score(Y_test, y_pred)"
   ]
  },
  {
   "cell_type": "code",
   "execution_count": 61,
   "id": "e5042386",
   "metadata": {},
   "outputs": [
    {
     "data": {
      "text/plain": [
       "0.7683700272734649"
      ]
     },
     "execution_count": 61,
     "metadata": {},
     "output_type": "execute_result"
    }
   ],
   "source": [
    "\n",
    "value"
   ]
  },
  {
   "cell_type": "code",
   "execution_count": 62,
   "id": "3d72795c",
   "metadata": {},
   "outputs": [],
   "source": [
    "\n",
    "err=np.sqrt(mean_squared_error(Y_test,y_pred))"
   ]
  },
  {
   "cell_type": "code",
   "execution_count": 63,
   "id": "f6efd65c",
   "metadata": {},
   "outputs": [
    {
     "data": {
      "text/plain": [
       "4.022677028844729"
      ]
     },
     "execution_count": 63,
     "metadata": {},
     "output_type": "execute_result"
    }
   ],
   "source": [
    "\n",
    "err"
   ]
  },
  {
   "cell_type": "markdown",
   "id": "ff68a0ae",
   "metadata": {},
   "source": [
    "# Exporting the model"
   ]
  },
  {
   "cell_type": "code",
   "execution_count": 64,
   "id": "57bfe621",
   "metadata": {},
   "outputs": [],
   "source": [
    "import pickle"
   ]
  },
  {
   "cell_type": "code",
   "execution_count": 65,
   "id": "49030406",
   "metadata": {},
   "outputs": [],
   "source": [
    "pickle.dump(rf,open('RFregression.pkl','wb'))"
   ]
  },
  {
   "cell_type": "code",
   "execution_count": 66,
   "id": "046fcb70",
   "metadata": {},
   "outputs": [
    {
     "name": "stdout",
     "output_type": "stream",
     "text": [
      "Requirement already satisfied: ibm-watson-machine-learning in /opt/conda/envs/Python-3.9/lib/python3.9/site-packages (1.0.257)\n",
      "Requirement already satisfied: pandas<1.5.0,>=0.24.2 in /opt/conda/envs/Python-3.9/lib/python3.9/site-packages (from ibm-watson-machine-learning) (1.3.4)\n",
      "Requirement already satisfied: urllib3 in /opt/conda/envs/Python-3.9/lib/python3.9/site-packages (from ibm-watson-machine-learning) (1.26.7)\n",
      "Requirement already satisfied: lomond in /opt/conda/envs/Python-3.9/lib/python3.9/site-packages (from ibm-watson-machine-learning) (0.3.3)\n",
      "Requirement already satisfied: importlib-metadata in /opt/conda/envs/Python-3.9/lib/python3.9/site-packages (from ibm-watson-machine-learning) (4.8.2)\n",
      "Requirement already satisfied: tabulate in /opt/conda/envs/Python-3.9/lib/python3.9/site-packages (from ibm-watson-machine-learning) (0.8.9)\n",
      "Requirement already satisfied: certifi in /opt/conda/envs/Python-3.9/lib/python3.9/site-packages (from ibm-watson-machine-learning) (2022.9.24)\n",
      "Requirement already satisfied: requests in /opt/conda/envs/Python-3.9/lib/python3.9/site-packages (from ibm-watson-machine-learning) (2.26.0)\n",
      "Requirement already satisfied: ibm-cos-sdk==2.11.* in /opt/conda/envs/Python-3.9/lib/python3.9/site-packages (from ibm-watson-machine-learning) (2.11.0)\n",
      "Requirement already satisfied: packaging in /opt/conda/envs/Python-3.9/lib/python3.9/site-packages (from ibm-watson-machine-learning) (21.3)\n",
      "Requirement already satisfied: ibm-cos-sdk-core==2.11.0 in /opt/conda/envs/Python-3.9/lib/python3.9/site-packages (from ibm-cos-sdk==2.11.*->ibm-watson-machine-learning) (2.11.0)\n",
      "Requirement already satisfied: ibm-cos-sdk-s3transfer==2.11.0 in /opt/conda/envs/Python-3.9/lib/python3.9/site-packages (from ibm-cos-sdk==2.11.*->ibm-watson-machine-learning) (2.11.0)\n",
      "Requirement already satisfied: jmespath<1.0.0,>=0.7.1 in /opt/conda/envs/Python-3.9/lib/python3.9/site-packages (from ibm-cos-sdk==2.11.*->ibm-watson-machine-learning) (0.10.0)\n",
      "Requirement already satisfied: python-dateutil<3.0.0,>=2.1 in /opt/conda/envs/Python-3.9/lib/python3.9/site-packages (from ibm-cos-sdk-core==2.11.0->ibm-cos-sdk==2.11.*->ibm-watson-machine-learning) (2.8.2)\n",
      "Requirement already satisfied: pytz>=2017.3 in /opt/conda/envs/Python-3.9/lib/python3.9/site-packages (from pandas<1.5.0,>=0.24.2->ibm-watson-machine-learning) (2021.3)\n",
      "Requirement already satisfied: numpy>=1.17.3 in /opt/conda/envs/Python-3.9/lib/python3.9/site-packages (from pandas<1.5.0,>=0.24.2->ibm-watson-machine-learning) (1.20.3)\n",
      "Requirement already satisfied: six>=1.5 in /opt/conda/envs/Python-3.9/lib/python3.9/site-packages (from python-dateutil<3.0.0,>=2.1->ibm-cos-sdk-core==2.11.0->ibm-cos-sdk==2.11.*->ibm-watson-machine-learning) (1.15.0)\n",
      "Requirement already satisfied: idna<4,>=2.5 in /opt/conda/envs/Python-3.9/lib/python3.9/site-packages (from requests->ibm-watson-machine-learning) (3.3)\n",
      "Requirement already satisfied: charset-normalizer~=2.0.0 in /opt/conda/envs/Python-3.9/lib/python3.9/site-packages (from requests->ibm-watson-machine-learning) (2.0.4)\n",
      "Requirement already satisfied: zipp>=0.5 in /opt/conda/envs/Python-3.9/lib/python3.9/site-packages (from importlib-metadata->ibm-watson-machine-learning) (3.6.0)\n",
      "Requirement already satisfied: pyparsing!=3.0.5,>=2.0.2 in /opt/conda/envs/Python-3.9/lib/python3.9/site-packages (from packaging->ibm-watson-machine-learning) (3.0.4)\n"
     ]
    }
   ],
   "source": [
    "!pip install ibm-watson-machine-learning"
   ]
  },
  {
   "cell_type": "code",
   "execution_count": 67,
   "id": "3bd28e44",
   "metadata": {},
   "outputs": [],
   "source": [
    "from ibm_watson_machine_learning import APIClient \n",
    "wml_credentials = {\n",
    "    \"url\":\"https://us-south.ml.cloud.ibm.com\",\n",
    "    \"apikey\":\"LM-mZCwYDKxaN4Kla8MIGWT84fA-tna3Jt7t-9xUJzqK\",\n",
    "                \n",
    "}\n",
    "client = APIClient(wml_credentials)"
   ]
  },
  {
   "cell_type": "code",
   "execution_count": 68,
   "id": "36efd9af",
   "metadata": {},
   "outputs": [],
   "source": [
    "def guid_from_space_name(client, space_name):\n",
    "    space = client.spaces.get_details()\n",
    "    print(space)\n",
    "    return(next(item for item in space['resources'] if item['entity'][\"name\"] == space_name)['metadata']['id'])"
   ]
  },
  {
   "cell_type": "code",
   "execution_count": 69,
   "id": "57a756f6",
   "metadata": {},
   "outputs": [
    {
     "name": "stdout",
     "output_type": "stream",
     "text": [
      "{'resources': [{'entity': {'description': 'project about car', 'name': 'project', 'scope': {'bss_account_id': '7f2fa21ee9c14df7b49d24d6efe4281f'}, 'stage': {'production': False}, 'status': {'state': 'active'}, 'storage': {'properties': {'bucket_name': 'ac1e1b01-8319-4526-a69c-3111f9069c6c', 'bucket_region': 'us-south', 'credentials': {'admin': {'access_key_id': 'd6185fe570334fc29ff6ba79667fb388', 'api_key': 'PdRcKlbYidxIdPHFjvl3VhEDpBJdnpnqzSbk3KMuITTV', 'secret_access_key': 'c27492539688ff745748598c7a914f08676ae760e23d70f1', 'service_id': 'ServiceId-90839a1f-bbba-4c5c-bfe6-df9450448124'}, 'editor': {'access_key_id': '77fa9b6a480b41049763de6e4c9c27c9', 'api_key': '6EFk6v6R7d00pyU6YJsUuoxBPmtTIhnCPBWf2DkZKyPF', 'resource_key_crn': 'crn:v1:bluemix:public:cloud-object-storage:global:a/7f2fa21ee9c14df7b49d24d6efe4281f:9f19efa6-472c-417a-9e62-8d96aed71b01::', 'secret_access_key': 'c6ff262d38b120b365b6d205c61e447d6071f348d4b8245d', 'service_id': 'ServiceId-672ec292-eba9-4343-bf9b-e636fd27d87a'}, 'viewer': {'access_key_id': '85ea2856b5ad490eb629b1f3d9d2bf55', 'api_key': 'O_FAMOz8QZV9F7S29P4Av-QgZB-lQanPoLSboNdeKX5P', 'resource_key_crn': 'crn:v1:bluemix:public:cloud-object-storage:global:a/7f2fa21ee9c14df7b49d24d6efe4281f:9f19efa6-472c-417a-9e62-8d96aed71b01::', 'secret_access_key': '770ffd7bca22ab93d45d8158bddf29ebd9476dd7fc94566f', 'service_id': 'ServiceId-aeb67724-4d96-41c9-9da8-b10c3f476e1b'}}, 'endpoint_url': 'https://s3.us-south.cloud-object-storage.appdomain.cloud', 'guid': '9f19efa6-472c-417a-9e62-8d96aed71b01', 'resource_crn': 'crn:v1:bluemix:public:cloud-object-storage:global:a/7f2fa21ee9c14df7b49d24d6efe4281f:9f19efa6-472c-417a-9e62-8d96aed71b01::'}, 'type': 'bmcos_object_storage'}}, 'metadata': {'created_at': '2022-11-18T10:09:43.595Z', 'creator_id': 'IBMid-667000G259', 'id': '81e8fff7-ef41-4232-a750-b02721029b9d', 'updated_at': '2022-11-18T10:10:02.874Z', 'url': '/v2/spaces/81e8fff7-ef41-4232-a750-b02721029b9d'}}]}\n",
      "Space UID-81e8fff7-ef41-4232-a750-b02721029b9d\n"
     ]
    }
   ],
   "source": [
    "space_uid = guid_from_space_name(client, 'project')\n",
    "print(\"Space UID-\" + space_uid)   "
   ]
  },
  {
   "cell_type": "code",
   "execution_count": 70,
   "id": "f2213273",
   "metadata": {},
   "outputs": [
    {
     "data": {
      "text/plain": [
       "'SUCCESS'"
      ]
     },
     "execution_count": 70,
     "metadata": {},
     "output_type": "execute_result"
    }
   ],
   "source": [
    "client.set.default_space(space_uid)"
   ]
  },
  {
   "cell_type": "code",
   "execution_count": 71,
   "id": "9dc850d1",
   "metadata": {},
   "outputs": [
    {
     "name": "stdout",
     "output_type": "stream",
     "text": [
      "-----------------------------  ------------------------------------  ----\n",
      "NAME                           ASSET_ID                              TYPE\n",
      "default_py3.6                  0062b8c9-8b7d-44a0-a9b9-46c416adcbd9  base\n",
      "kernel-spark3.2-scala2.12      020d69ce-7ac1-5e68-ac1a-31189867356a  base\n",
      "pytorch-onnx_1.3-py3.7-edt     069ea134-3346-5748-b513-49120e15d288  base\n",
      "scikit-learn_0.20-py3.6        09c5a1d0-9c1e-4473-a344-eb7b665ff687  base\n",
      "spark-mllib_3.0-scala_2.12     09f4cff0-90a7-5899-b9ed-1ef348aebdee  base\n",
      "pytorch-onnx_rt22.1-py3.9      0b848dd4-e681-5599-be41-b5f6fccc6471  base\n",
      "ai-function_0.1-py3.6          0cdb0f1e-5376-4f4d-92dd-da3b69aa9bda  base\n",
      "shiny-r3.6                     0e6e79df-875e-4f24-8ae9-62dcc2148306  base\n",
      "tensorflow_2.4-py3.7-horovod   1092590a-307d-563d-9b62-4eb7d64b3f22  base\n",
      "pytorch_1.1-py3.6              10ac12d6-6b30-4ccd-8392-3e922c096a92  base\n",
      "tensorflow_1.15-py3.6-ddl      111e41b3-de2d-5422-a4d6-bf776828c4b7  base\n",
      "autoai-kb_rt22.2-py3.10        125b6d9a-5b1f-5e8d-972a-b251688ccf40  base\n",
      "runtime-22.1-py3.9             12b83a17-24d8-5082-900f-0ab31fbfd3cb  base\n",
      "scikit-learn_0.22-py3.6        154010fa-5b3b-4ac1-82af-4d5ee5abbc85  base\n",
      "default_r3.6                   1b70aec3-ab34-4b87-8aa0-a4a3c8296a36  base\n",
      "pytorch-onnx_1.3-py3.6         1bc6029a-cc97-56da-b8e0-39c3880dbbe7  base\n",
      "kernel-spark3.3-r3.6           1c9e5454-f216-59dd-a20e-474a5cdf5988  base\n",
      "pytorch-onnx_rt22.1-py3.9-edt  1d362186-7ad5-5b59-8b6c-9d0880bde37f  base\n",
      "tensorflow_2.1-py3.6           1eb25b84-d6ed-5dde-b6a5-3fbdf1665666  base\n",
      "spark-mllib_3.2                20047f72-0a98-58c7-9ff5-a77b012eb8f5  base\n",
      "tensorflow_2.4-py3.8-horovod   217c16f6-178f-56bf-824a-b19f20564c49  base\n",
      "runtime-22.1-py3.9-cuda        26215f05-08c3-5a41-a1b0-da66306ce658  base\n",
      "do_py3.8                       295addb5-9ef9-547e-9bf4-92ae3563e720  base\n",
      "autoai-ts_3.8-py3.8            2aa0c932-798f-5ae9-abd6-15e0c2402fb5  base\n",
      "tensorflow_1.15-py3.6          2b73a275-7cbf-420b-a912-eae7f436e0bc  base\n",
      "kernel-spark3.3-py3.9          2b7961e2-e3b1-5a8c-a491-482c8368839a  base\n",
      "pytorch_1.2-py3.6              2c8ef57d-2687-4b7d-acce-01f94976dac1  base\n",
      "spark-mllib_2.3                2e51f700-bca0-4b0d-88dc-5c6791338875  base\n",
      "pytorch-onnx_1.1-py3.6-edt     32983cea-3f32-4400-8965-dde874a8d67e  base\n",
      "spark-mllib_3.0-py37           36507ebe-8770-55ba-ab2a-eafe787600e9  base\n",
      "spark-mllib_2.4                390d21f8-e58b-4fac-9c55-d7ceda621326  base\n",
      "autoai-ts_rt22.2-py3.10        396b2e83-0953-5b86-9a55-7ce1628a406f  base\n",
      "xgboost_0.82-py3.6             39e31acd-5f30-41dc-ae44-60233c80306e  base\n",
      "pytorch-onnx_1.2-py3.6-edt     40589d0e-7019-4e28-8daa-fb03b6f4fe12  base\n",
      "pytorch-onnx_rt22.2-py3.10     40e73f55-783a-5535-b3fa-0c8b94291431  base\n",
      "default_r36py38                41c247d3-45f8-5a71-b065-8580229facf0  base\n",
      "autoai-ts_rt22.1-py3.9         4269d26e-07ba-5d40-8f66-2d495b0c71f7  base\n",
      "autoai-obm_3.0                 42b92e18-d9ab-567f-988a-4240ba1ed5f7  base\n",
      "pmml-3.0_4.3                   493bcb95-16f1-5bc5-bee8-81b8af80e9c7  base\n",
      "spark-mllib_2.4-r_3.6          49403dff-92e9-4c87-a3d7-a42d0021c095  base\n",
      "xgboost_0.90-py3.6             4ff8d6c2-1343-4c18-85e1-689c965304d3  base\n",
      "pytorch-onnx_1.1-py3.6         50f95b2a-bc16-43bb-bc94-b0bed208c60b  base\n",
      "autoai-ts_3.9-py3.8            52c57136-80fa-572e-8728-a5e7cbb42cde  base\n",
      "spark-mllib_2.4-scala_2.11     55a70f99-7320-4be5-9fb9-9edb5a443af5  base\n",
      "spark-mllib_3.0                5c1b0ca2-4977-5c2e-9439-ffd44ea8ffe9  base\n",
      "autoai-obm_2.0                 5c2e37fa-80b8-5e77-840f-d912469614ee  base\n",
      "spss-modeler_18.1              5c3cad7e-507f-4b2a-a9a3-ab53a21dee8b  base\n",
      "cuda-py3.8                     5d3232bf-c86b-5df4-a2cd-7bb870a1cd4e  base\n",
      "runtime-22.2-py3.10-xc         5e8cddff-db4a-5a6a-b8aa-2d4af9864dab  base\n",
      "autoai-kb_3.1-py3.7            632d4b22-10aa-5180-88f0-f52dfb6444d7  base\n",
      "-----------------------------  ------------------------------------  ----\n",
      "Note: Only first 50 records were displayed. To display more use 'limit' parameter.\n"
     ]
    }
   ],
   "source": [
    "client.software_specifications.list()"
   ]
  },
  {
   "cell_type": "code",
   "execution_count": 72,
   "id": "98578060",
   "metadata": {},
   "outputs": [
    {
     "data": {
      "text/plain": [
       "'ab9e1b80-f2ce-592c-a7d2-4f2344f77194'"
      ]
     },
     "execution_count": 72,
     "metadata": {},
     "output_type": "execute_result"
    }
   ],
   "source": [
    "software_spec_uid = client.software_specifications.get_uid_by_name(\"default_py3.8\")\n",
    "software_spec_uid"
   ]
  },
  {
   "cell_type": "code",
   "execution_count": 73,
   "id": "ab4a3ed7",
   "metadata": {},
   "outputs": [
    {
     "name": "stdout",
     "output_type": "stream",
     "text": [
      "Requirement already satisfied: pyspark==2.1.2. in /opt/conda/envs/Python-3.9/lib/python3.9/site-packages (2.1.2)\n",
      "Requirement already satisfied: py4j==0.10.4 in /opt/conda/envs/Python-3.9/lib/python3.9/site-packages (from pyspark==2.1.2.) (0.10.4)\n"
     ]
    }
   ],
   "source": [
    "!pip install -U pyspark==2.1.2."
   ]
  },
  {
   "cell_type": "code",
   "execution_count": 74,
   "id": "478c06d2",
   "metadata": {},
   "outputs": [
    {
     "name": "stdout",
     "output_type": "stream",
     "text": [
      "--2022-11-18 10:40:35--  https://raw.githubusercontent.com/IBM/monitor-wml-model-with-watson-openscale/master/data/additional_feedback_data.json\n",
      "Resolving raw.githubusercontent.com (raw.githubusercontent.com)... 185.199.109.133, 185.199.110.133, 185.199.111.133, ...\n",
      "Connecting to raw.githubusercontent.com (raw.githubusercontent.com)|185.199.109.133|:443... connected.\n",
      "HTTP request sent, awaiting response... 200 OK\n",
      "Length: 16506 (16K) [text/plain]\n",
      "Saving to: ‘additional_feedback_data.json.3’\n",
      "\n",
      "additional_feedback 100%[===================>]  16.12K  --.-KB/s    in 0.001s  \n",
      "\n",
      "2022-11-18 10:40:36 (22.5 MB/s) - ‘additional_feedback_data.json.3’ saved [16506/16506]\n",
      "\n"
     ]
    }
   ],
   "source": [
    "!wget https://raw.githubusercontent.com/IBM/monitor-wml-model-with-watson-openscale/master/data/additional_feedback_data.json"
   ]
  },
  {
   "cell_type": "code",
   "execution_count": 87,
   "id": "8d4fcc12",
   "metadata": {},
   "outputs": [],
   "source": [
    "model_details = client.repository.store_model(model=rf,meta_props={\n",
    "client.repository.ModelMetaNames.NAME: 'random forest',\n",
    "            client.repository.ModelMetaNames.TYPE: 'scikit-learn_1.0',\n",
    "            client.repository.ModelMetaNames.SOFTWARE_SPEC_UID: sofware_spec_uid    \n",
    "})"
   ]
  },
  {
   "cell_type": "code",
   "execution_count": 89,
   "id": "2194e886",
   "metadata": {},
   "outputs": [
    {
     "name": "stdout",
     "output_type": "stream",
     "text": [
      "This method is deprecated, please use get_model_id()\n"
     ]
    }
   ],
   "source": [
    "model_id=client.repository.get_model_uid(model_details)"
   ]
  },
  {
   "cell_type": "code",
   "execution_count": 90,
   "id": "c78acb62",
   "metadata": {},
   "outputs": [
    {
     "data": {
      "text/plain": [
       "'8a24fa8a-6834-4ac0-a548-4d1f272066d6'"
      ]
     },
     "execution_count": 90,
     "metadata": {},
     "output_type": "execute_result"
    }
   ],
   "source": [
    "model_id"
   ]
  },
  {
   "cell_type": "code",
   "execution_count": 85,
   "id": "74c96578",
   "metadata": {},
   "outputs": [
    {
     "data": {
      "text/plain": [
       "array([0.27717391, 0.25318968])"
      ]
     },
     "execution_count": 85,
     "metadata": {},
     "output_type": "execute_result"
    }
   ],
   "source": [
    "X_train[0]"
   ]
  },
  {
   "cell_type": "raw",
   "id": "65a88bb4",
   "metadata": {},
   "source": []
  }
 ],
 "metadata": {
  "kernelspec": {
   "display_name": "Python 3.9",
   "language": "python",
   "name": "python3"
  },
  "language_info": {
   "codemirror_mode": {
    "name": "ipython",
    "version": 3
   },
   "file_extension": ".py",
   "mimetype": "text/x-python",
   "name": "python",
   "nbconvert_exporter": "python",
   "pygments_lexer": "ipython3",
   "version": "3.9.13"
  }
 },
 "nbformat": 4,
 "nbformat_minor": 5
}

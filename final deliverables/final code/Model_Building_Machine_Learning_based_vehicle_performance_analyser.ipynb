{
  "cells": [
    {
      "cell_type": "markdown",
      "id": "6304afb0",
      "metadata": {
        "id": "6304afb0"
      },
      "source": [
        "### Importing the Libraries"
      ]
    },
    {
      "cell_type": "code",
      "execution_count": 1,
      "id": "1754dada",
      "metadata": {
        "id": "1754dada"
      },
      "outputs": [],
      "source": [
        "import numpy as np\n",
        "import pandas as pd\n",
        "import matplotlib.pyplot as plt\n",
        "import seaborn as sns"
      ]
    },
    {
      "cell_type": "markdown",
      "id": "90c7f527",
      "metadata": {
        "id": "90c7f527"
      },
      "source": [
        "### Loading the Dataset"
      ]
    },
    {
      "cell_type": "code",
      "execution_count": 2,
      "id": "b2e2c645",
      "metadata": {
        "id": "b2e2c645"
      },
      "outputs": [],
      "source": [
        "df=pd.read_csv('https://raw.githubusercontent.com/DaRk-plays/blahblah/main/car%20performance.csv')"
      ]
    },
    {
      "cell_type": "markdown",
      "id": "8a177683",
      "metadata": {
        "id": "8a177683"
      },
      "source": [
        "### Data Analysis"
      ]
    },
    {
      "cell_type": "code",
      "execution_count": 3,
      "id": "dbeb2d9b",
      "metadata": {
        "colab": {
          "base_uri": "https://localhost:8080/",
          "height": 363
        },
        "id": "dbeb2d9b",
        "outputId": "fab704bc-d281-4465-a26c-b4ff6c65902f"
      },
      "outputs": [
        {
          "output_type": "execute_result",
          "data": {
            "text/plain": [
              "    mpg  cylinders  displacement  horsepower  weight  acceleration  \\\n",
              "0  18.0          8         307.0         130    3504          12.0   \n",
              "1  15.0          8         350.0         165    3693          11.5   \n",
              "2  18.0          8         318.0         150    3436          11.0   \n",
              "3  16.0          8         304.0         150    3433          12.0   \n",
              "4  17.0          8         302.0         140    3449          10.5   \n",
              "5  15.0          8         429.0         198    4341          10.0   \n",
              "6  14.0          8         454.0         220    4354           9.0   \n",
              "7  14.0          8         440.0         215    4312           8.5   \n",
              "8  14.0          8         455.0         225    4425          10.0   \n",
              "9  15.0          8         390.0         190    3850           8.5   \n",
              "\n",
              "   model year  origin                   car name  \n",
              "0          70       1  chevrolet chevelle malibu  \n",
              "1          70       1          buick skylark 320  \n",
              "2          70       1         plymouth satellite  \n",
              "3          70       1              amc rebel sst  \n",
              "4          70       1                ford torino  \n",
              "5          70       1           ford galaxie 500  \n",
              "6          70       1           chevrolet impala  \n",
              "7          70       1          plymouth fury iii  \n",
              "8          70       1           pontiac catalina  \n",
              "9          70       1         amc ambassador dpl  "
            ],
            "text/html": [
              "\n",
              "  <div id=\"df-08090604-cc27-412c-8465-a7607362f069\">\n",
              "    <div class=\"colab-df-container\">\n",
              "      <div>\n",
              "<style scoped>\n",
              "    .dataframe tbody tr th:only-of-type {\n",
              "        vertical-align: middle;\n",
              "    }\n",
              "\n",
              "    .dataframe tbody tr th {\n",
              "        vertical-align: top;\n",
              "    }\n",
              "\n",
              "    .dataframe thead th {\n",
              "        text-align: right;\n",
              "    }\n",
              "</style>\n",
              "<table border=\"1\" class=\"dataframe\">\n",
              "  <thead>\n",
              "    <tr style=\"text-align: right;\">\n",
              "      <th></th>\n",
              "      <th>mpg</th>\n",
              "      <th>cylinders</th>\n",
              "      <th>displacement</th>\n",
              "      <th>horsepower</th>\n",
              "      <th>weight</th>\n",
              "      <th>acceleration</th>\n",
              "      <th>model year</th>\n",
              "      <th>origin</th>\n",
              "      <th>car name</th>\n",
              "    </tr>\n",
              "  </thead>\n",
              "  <tbody>\n",
              "    <tr>\n",
              "      <th>0</th>\n",
              "      <td>18.0</td>\n",
              "      <td>8</td>\n",
              "      <td>307.0</td>\n",
              "      <td>130</td>\n",
              "      <td>3504</td>\n",
              "      <td>12.0</td>\n",
              "      <td>70</td>\n",
              "      <td>1</td>\n",
              "      <td>chevrolet chevelle malibu</td>\n",
              "    </tr>\n",
              "    <tr>\n",
              "      <th>1</th>\n",
              "      <td>15.0</td>\n",
              "      <td>8</td>\n",
              "      <td>350.0</td>\n",
              "      <td>165</td>\n",
              "      <td>3693</td>\n",
              "      <td>11.5</td>\n",
              "      <td>70</td>\n",
              "      <td>1</td>\n",
              "      <td>buick skylark 320</td>\n",
              "    </tr>\n",
              "    <tr>\n",
              "      <th>2</th>\n",
              "      <td>18.0</td>\n",
              "      <td>8</td>\n",
              "      <td>318.0</td>\n",
              "      <td>150</td>\n",
              "      <td>3436</td>\n",
              "      <td>11.0</td>\n",
              "      <td>70</td>\n",
              "      <td>1</td>\n",
              "      <td>plymouth satellite</td>\n",
              "    </tr>\n",
              "    <tr>\n",
              "      <th>3</th>\n",
              "      <td>16.0</td>\n",
              "      <td>8</td>\n",
              "      <td>304.0</td>\n",
              "      <td>150</td>\n",
              "      <td>3433</td>\n",
              "      <td>12.0</td>\n",
              "      <td>70</td>\n",
              "      <td>1</td>\n",
              "      <td>amc rebel sst</td>\n",
              "    </tr>\n",
              "    <tr>\n",
              "      <th>4</th>\n",
              "      <td>17.0</td>\n",
              "      <td>8</td>\n",
              "      <td>302.0</td>\n",
              "      <td>140</td>\n",
              "      <td>3449</td>\n",
              "      <td>10.5</td>\n",
              "      <td>70</td>\n",
              "      <td>1</td>\n",
              "      <td>ford torino</td>\n",
              "    </tr>\n",
              "    <tr>\n",
              "      <th>5</th>\n",
              "      <td>15.0</td>\n",
              "      <td>8</td>\n",
              "      <td>429.0</td>\n",
              "      <td>198</td>\n",
              "      <td>4341</td>\n",
              "      <td>10.0</td>\n",
              "      <td>70</td>\n",
              "      <td>1</td>\n",
              "      <td>ford galaxie 500</td>\n",
              "    </tr>\n",
              "    <tr>\n",
              "      <th>6</th>\n",
              "      <td>14.0</td>\n",
              "      <td>8</td>\n",
              "      <td>454.0</td>\n",
              "      <td>220</td>\n",
              "      <td>4354</td>\n",
              "      <td>9.0</td>\n",
              "      <td>70</td>\n",
              "      <td>1</td>\n",
              "      <td>chevrolet impala</td>\n",
              "    </tr>\n",
              "    <tr>\n",
              "      <th>7</th>\n",
              "      <td>14.0</td>\n",
              "      <td>8</td>\n",
              "      <td>440.0</td>\n",
              "      <td>215</td>\n",
              "      <td>4312</td>\n",
              "      <td>8.5</td>\n",
              "      <td>70</td>\n",
              "      <td>1</td>\n",
              "      <td>plymouth fury iii</td>\n",
              "    </tr>\n",
              "    <tr>\n",
              "      <th>8</th>\n",
              "      <td>14.0</td>\n",
              "      <td>8</td>\n",
              "      <td>455.0</td>\n",
              "      <td>225</td>\n",
              "      <td>4425</td>\n",
              "      <td>10.0</td>\n",
              "      <td>70</td>\n",
              "      <td>1</td>\n",
              "      <td>pontiac catalina</td>\n",
              "    </tr>\n",
              "    <tr>\n",
              "      <th>9</th>\n",
              "      <td>15.0</td>\n",
              "      <td>8</td>\n",
              "      <td>390.0</td>\n",
              "      <td>190</td>\n",
              "      <td>3850</td>\n",
              "      <td>8.5</td>\n",
              "      <td>70</td>\n",
              "      <td>1</td>\n",
              "      <td>amc ambassador dpl</td>\n",
              "    </tr>\n",
              "  </tbody>\n",
              "</table>\n",
              "</div>\n",
              "      <button class=\"colab-df-convert\" onclick=\"convertToInteractive('df-08090604-cc27-412c-8465-a7607362f069')\"\n",
              "              title=\"Convert this dataframe to an interactive table.\"\n",
              "              style=\"display:none;\">\n",
              "        \n",
              "  <svg xmlns=\"http://www.w3.org/2000/svg\" height=\"24px\"viewBox=\"0 0 24 24\"\n",
              "       width=\"24px\">\n",
              "    <path d=\"M0 0h24v24H0V0z\" fill=\"none\"/>\n",
              "    <path d=\"M18.56 5.44l.94 2.06.94-2.06 2.06-.94-2.06-.94-.94-2.06-.94 2.06-2.06.94zm-11 1L8.5 8.5l.94-2.06 2.06-.94-2.06-.94L8.5 2.5l-.94 2.06-2.06.94zm10 10l.94 2.06.94-2.06 2.06-.94-2.06-.94-.94-2.06-.94 2.06-2.06.94z\"/><path d=\"M17.41 7.96l-1.37-1.37c-.4-.4-.92-.59-1.43-.59-.52 0-1.04.2-1.43.59L10.3 9.45l-7.72 7.72c-.78.78-.78 2.05 0 2.83L4 21.41c.39.39.9.59 1.41.59.51 0 1.02-.2 1.41-.59l7.78-7.78 2.81-2.81c.8-.78.8-2.07 0-2.86zM5.41 20L4 18.59l7.72-7.72 1.47 1.35L5.41 20z\"/>\n",
              "  </svg>\n",
              "      </button>\n",
              "      \n",
              "  <style>\n",
              "    .colab-df-container {\n",
              "      display:flex;\n",
              "      flex-wrap:wrap;\n",
              "      gap: 12px;\n",
              "    }\n",
              "\n",
              "    .colab-df-convert {\n",
              "      background-color: #E8F0FE;\n",
              "      border: none;\n",
              "      border-radius: 50%;\n",
              "      cursor: pointer;\n",
              "      display: none;\n",
              "      fill: #1967D2;\n",
              "      height: 32px;\n",
              "      padding: 0 0 0 0;\n",
              "      width: 32px;\n",
              "    }\n",
              "\n",
              "    .colab-df-convert:hover {\n",
              "      background-color: #E2EBFA;\n",
              "      box-shadow: 0px 1px 2px rgba(60, 64, 67, 0.3), 0px 1px 3px 1px rgba(60, 64, 67, 0.15);\n",
              "      fill: #174EA6;\n",
              "    }\n",
              "\n",
              "    [theme=dark] .colab-df-convert {\n",
              "      background-color: #3B4455;\n",
              "      fill: #D2E3FC;\n",
              "    }\n",
              "\n",
              "    [theme=dark] .colab-df-convert:hover {\n",
              "      background-color: #434B5C;\n",
              "      box-shadow: 0px 1px 3px 1px rgba(0, 0, 0, 0.15);\n",
              "      filter: drop-shadow(0px 1px 2px rgba(0, 0, 0, 0.3));\n",
              "      fill: #FFFFFF;\n",
              "    }\n",
              "  </style>\n",
              "\n",
              "      <script>\n",
              "        const buttonEl =\n",
              "          document.querySelector('#df-08090604-cc27-412c-8465-a7607362f069 button.colab-df-convert');\n",
              "        buttonEl.style.display =\n",
              "          google.colab.kernel.accessAllowed ? 'block' : 'none';\n",
              "\n",
              "        async function convertToInteractive(key) {\n",
              "          const element = document.querySelector('#df-08090604-cc27-412c-8465-a7607362f069');\n",
              "          const dataTable =\n",
              "            await google.colab.kernel.invokeFunction('convertToInteractive',\n",
              "                                                     [key], {});\n",
              "          if (!dataTable) return;\n",
              "\n",
              "          const docLinkHtml = 'Like what you see? Visit the ' +\n",
              "            '<a target=\"_blank\" href=https://colab.research.google.com/notebooks/data_table.ipynb>data table notebook</a>'\n",
              "            + ' to learn more about interactive tables.';\n",
              "          element.innerHTML = '';\n",
              "          dataTable['output_type'] = 'display_data';\n",
              "          await google.colab.output.renderOutput(dataTable, element);\n",
              "          const docLink = document.createElement('div');\n",
              "          docLink.innerHTML = docLinkHtml;\n",
              "          element.appendChild(docLink);\n",
              "        }\n",
              "      </script>\n",
              "    </div>\n",
              "  </div>\n",
              "  "
            ]
          },
          "metadata": {},
          "execution_count": 3
        }
      ],
      "source": [
        "df.head(10)"
      ]
    },
    {
      "cell_type": "code",
      "execution_count": 4,
      "id": "33a6492d",
      "metadata": {
        "colab": {
          "base_uri": "https://localhost:8080/"
        },
        "id": "33a6492d",
        "outputId": "fb7a5dc0-97a2-4f11-d2a2-ce4d42b6b9dc"
      },
      "outputs": [
        {
          "output_type": "execute_result",
          "data": {
            "text/plain": [
              "(398, 9)"
            ]
          },
          "metadata": {},
          "execution_count": 4
        }
      ],
      "source": [
        "df.shape"
      ]
    },
    {
      "cell_type": "code",
      "execution_count": 5,
      "id": "83c29c99",
      "metadata": {
        "colab": {
          "base_uri": "https://localhost:8080/"
        },
        "id": "83c29c99",
        "outputId": "c4923bf1-a894-4472-896d-17a9f3507205"
      },
      "outputs": [
        {
          "output_type": "execute_result",
          "data": {
            "text/plain": [
              "Index(['mpg', 'cylinders', 'displacement', 'horsepower', 'weight',\n",
              "       'acceleration', 'model year', 'origin', 'car name'],\n",
              "      dtype='object')"
            ]
          },
          "metadata": {},
          "execution_count": 5
        }
      ],
      "source": [
        "df.columns"
      ]
    },
    {
      "cell_type": "code",
      "execution_count": 6,
      "id": "25a467dd",
      "metadata": {
        "colab": {
          "base_uri": "https://localhost:8080/"
        },
        "id": "25a467dd",
        "outputId": "9ccf9336-d76e-4fc4-c59e-8bcbd53bc2ba"
      },
      "outputs": [
        {
          "output_type": "stream",
          "name": "stdout",
          "text": [
            "<class 'pandas.core.frame.DataFrame'>\n",
            "RangeIndex: 398 entries, 0 to 397\n",
            "Data columns (total 9 columns):\n",
            " #   Column        Non-Null Count  Dtype  \n",
            "---  ------        --------------  -----  \n",
            " 0   mpg           398 non-null    float64\n",
            " 1   cylinders     398 non-null    int64  \n",
            " 2   displacement  398 non-null    float64\n",
            " 3   horsepower    398 non-null    int64  \n",
            " 4   weight        398 non-null    int64  \n",
            " 5   acceleration  398 non-null    float64\n",
            " 6   model year    398 non-null    int64  \n",
            " 7   origin        398 non-null    int64  \n",
            " 8   car name      398 non-null    object \n",
            "dtypes: float64(3), int64(5), object(1)\n",
            "memory usage: 28.1+ KB\n"
          ]
        }
      ],
      "source": [
        "df.info()"
      ]
    },
    {
      "cell_type": "code",
      "execution_count": 7,
      "id": "03f194e7",
      "metadata": {
        "colab": {
          "base_uri": "https://localhost:8080/"
        },
        "id": "03f194e7",
        "outputId": "17a3bb20-69e8-4d71-f729-17642245937a"
      },
      "outputs": [
        {
          "output_type": "execute_result",
          "data": {
            "text/plain": [
              "mpg             129\n",
              "cylinders         5\n",
              "displacement     82\n",
              "horsepower       93\n",
              "weight          351\n",
              "acceleration     95\n",
              "model year       13\n",
              "origin            3\n",
              "car name        305\n",
              "dtype: int64"
            ]
          },
          "metadata": {},
          "execution_count": 7
        }
      ],
      "source": [
        "df.nunique()"
      ]
    },
    {
      "cell_type": "code",
      "execution_count": 8,
      "id": "dd48c71c",
      "metadata": {
        "colab": {
          "base_uri": "https://localhost:8080/"
        },
        "id": "dd48c71c",
        "outputId": "5e4572e1-5362-4a49-ab7f-18d84da7e4d4"
      },
      "outputs": [
        {
          "output_type": "execute_result",
          "data": {
            "text/plain": [
              "array([1, 3, 2])"
            ]
          },
          "metadata": {},
          "execution_count": 8
        }
      ],
      "source": [
        "df.origin.unique()"
      ]
    },
    {
      "cell_type": "markdown",
      "id": "70ce0777",
      "metadata": {
        "id": "70ce0777"
      },
      "source": [
        "### Handiling the Missing Values"
      ]
    },
    {
      "cell_type": "code",
      "execution_count": 9,
      "id": "be04b914",
      "metadata": {
        "colab": {
          "base_uri": "https://localhost:8080/"
        },
        "id": "be04b914",
        "outputId": "708dc594-e6aa-4075-919e-0c87912bfa34"
      },
      "outputs": [
        {
          "output_type": "execute_result",
          "data": {
            "text/plain": [
              "mpg             0\n",
              "cylinders       0\n",
              "displacement    0\n",
              "horsepower      0\n",
              "weight          0\n",
              "acceleration    0\n",
              "model year      0\n",
              "origin          0\n",
              "car name        0\n",
              "dtype: int64"
            ]
          },
          "metadata": {},
          "execution_count": 9
        }
      ],
      "source": [
        "df.isna().sum()"
      ]
    },
    {
      "cell_type": "code",
      "execution_count": 10,
      "id": "8d4900c3",
      "metadata": {
        "id": "8d4900c3"
      },
      "outputs": [],
      "source": [
        "# There is no Null Value in the data set"
      ]
    },
    {
      "cell_type": "markdown",
      "id": "1f69086d",
      "metadata": {
        "id": "1f69086d"
      },
      "source": [
        "### Lable encoding"
      ]
    },
    {
      "cell_type": "code",
      "execution_count": 11,
      "id": "e0f03dc1",
      "metadata": {
        "id": "e0f03dc1"
      },
      "outputs": [],
      "source": [
        "# There is no Categorial value other than the car name (car name is not used for the performance predecting so we can drop the car name column), so we need not to do the label encoding"
      ]
    },
    {
      "cell_type": "markdown",
      "id": "173cd4ac",
      "metadata": {
        "id": "173cd4ac"
      },
      "source": [
        "### Droping the car name column"
      ]
    },
    {
      "cell_type": "code",
      "execution_count": 12,
      "id": "049b9700",
      "metadata": {
        "id": "049b9700"
      },
      "outputs": [],
      "source": [
        "df=df.iloc[:,:-1]"
      ]
    },
    {
      "cell_type": "code",
      "execution_count": 13,
      "id": "370652ea",
      "metadata": {
        "colab": {
          "base_uri": "https://localhost:8080/",
          "height": 0
        },
        "id": "370652ea",
        "outputId": "94a8ca7d-b245-4cf8-c1d1-4d9d2725c7ed"
      },
      "outputs": [
        {
          "output_type": "execute_result",
          "data": {
            "text/plain": [
              "    mpg  cylinders  displacement  horsepower  weight  acceleration  \\\n",
              "0  18.0          8         307.0         130    3504          12.0   \n",
              "1  15.0          8         350.0         165    3693          11.5   \n",
              "2  18.0          8         318.0         150    3436          11.0   \n",
              "3  16.0          8         304.0         150    3433          12.0   \n",
              "4  17.0          8         302.0         140    3449          10.5   \n",
              "\n",
              "   model year  origin  \n",
              "0          70       1  \n",
              "1          70       1  \n",
              "2          70       1  \n",
              "3          70       1  \n",
              "4          70       1  "
            ],
            "text/html": [
              "\n",
              "  <div id=\"df-1bdcb482-dc2c-4765-a81a-e59133bb3fb0\">\n",
              "    <div class=\"colab-df-container\">\n",
              "      <div>\n",
              "<style scoped>\n",
              "    .dataframe tbody tr th:only-of-type {\n",
              "        vertical-align: middle;\n",
              "    }\n",
              "\n",
              "    .dataframe tbody tr th {\n",
              "        vertical-align: top;\n",
              "    }\n",
              "\n",
              "    .dataframe thead th {\n",
              "        text-align: right;\n",
              "    }\n",
              "</style>\n",
              "<table border=\"1\" class=\"dataframe\">\n",
              "  <thead>\n",
              "    <tr style=\"text-align: right;\">\n",
              "      <th></th>\n",
              "      <th>mpg</th>\n",
              "      <th>cylinders</th>\n",
              "      <th>displacement</th>\n",
              "      <th>horsepower</th>\n",
              "      <th>weight</th>\n",
              "      <th>acceleration</th>\n",
              "      <th>model year</th>\n",
              "      <th>origin</th>\n",
              "    </tr>\n",
              "  </thead>\n",
              "  <tbody>\n",
              "    <tr>\n",
              "      <th>0</th>\n",
              "      <td>18.0</td>\n",
              "      <td>8</td>\n",
              "      <td>307.0</td>\n",
              "      <td>130</td>\n",
              "      <td>3504</td>\n",
              "      <td>12.0</td>\n",
              "      <td>70</td>\n",
              "      <td>1</td>\n",
              "    </tr>\n",
              "    <tr>\n",
              "      <th>1</th>\n",
              "      <td>15.0</td>\n",
              "      <td>8</td>\n",
              "      <td>350.0</td>\n",
              "      <td>165</td>\n",
              "      <td>3693</td>\n",
              "      <td>11.5</td>\n",
              "      <td>70</td>\n",
              "      <td>1</td>\n",
              "    </tr>\n",
              "    <tr>\n",
              "      <th>2</th>\n",
              "      <td>18.0</td>\n",
              "      <td>8</td>\n",
              "      <td>318.0</td>\n",
              "      <td>150</td>\n",
              "      <td>3436</td>\n",
              "      <td>11.0</td>\n",
              "      <td>70</td>\n",
              "      <td>1</td>\n",
              "    </tr>\n",
              "    <tr>\n",
              "      <th>3</th>\n",
              "      <td>16.0</td>\n",
              "      <td>8</td>\n",
              "      <td>304.0</td>\n",
              "      <td>150</td>\n",
              "      <td>3433</td>\n",
              "      <td>12.0</td>\n",
              "      <td>70</td>\n",
              "      <td>1</td>\n",
              "    </tr>\n",
              "    <tr>\n",
              "      <th>4</th>\n",
              "      <td>17.0</td>\n",
              "      <td>8</td>\n",
              "      <td>302.0</td>\n",
              "      <td>140</td>\n",
              "      <td>3449</td>\n",
              "      <td>10.5</td>\n",
              "      <td>70</td>\n",
              "      <td>1</td>\n",
              "    </tr>\n",
              "  </tbody>\n",
              "</table>\n",
              "</div>\n",
              "      <button class=\"colab-df-convert\" onclick=\"convertToInteractive('df-1bdcb482-dc2c-4765-a81a-e59133bb3fb0')\"\n",
              "              title=\"Convert this dataframe to an interactive table.\"\n",
              "              style=\"display:none;\">\n",
              "        \n",
              "  <svg xmlns=\"http://www.w3.org/2000/svg\" height=\"24px\"viewBox=\"0 0 24 24\"\n",
              "       width=\"24px\">\n",
              "    <path d=\"M0 0h24v24H0V0z\" fill=\"none\"/>\n",
              "    <path d=\"M18.56 5.44l.94 2.06.94-2.06 2.06-.94-2.06-.94-.94-2.06-.94 2.06-2.06.94zm-11 1L8.5 8.5l.94-2.06 2.06-.94-2.06-.94L8.5 2.5l-.94 2.06-2.06.94zm10 10l.94 2.06.94-2.06 2.06-.94-2.06-.94-.94-2.06-.94 2.06-2.06.94z\"/><path d=\"M17.41 7.96l-1.37-1.37c-.4-.4-.92-.59-1.43-.59-.52 0-1.04.2-1.43.59L10.3 9.45l-7.72 7.72c-.78.78-.78 2.05 0 2.83L4 21.41c.39.39.9.59 1.41.59.51 0 1.02-.2 1.41-.59l7.78-7.78 2.81-2.81c.8-.78.8-2.07 0-2.86zM5.41 20L4 18.59l7.72-7.72 1.47 1.35L5.41 20z\"/>\n",
              "  </svg>\n",
              "      </button>\n",
              "      \n",
              "  <style>\n",
              "    .colab-df-container {\n",
              "      display:flex;\n",
              "      flex-wrap:wrap;\n",
              "      gap: 12px;\n",
              "    }\n",
              "\n",
              "    .colab-df-convert {\n",
              "      background-color: #E8F0FE;\n",
              "      border: none;\n",
              "      border-radius: 50%;\n",
              "      cursor: pointer;\n",
              "      display: none;\n",
              "      fill: #1967D2;\n",
              "      height: 32px;\n",
              "      padding: 0 0 0 0;\n",
              "      width: 32px;\n",
              "    }\n",
              "\n",
              "    .colab-df-convert:hover {\n",
              "      background-color: #E2EBFA;\n",
              "      box-shadow: 0px 1px 2px rgba(60, 64, 67, 0.3), 0px 1px 3px 1px rgba(60, 64, 67, 0.15);\n",
              "      fill: #174EA6;\n",
              "    }\n",
              "\n",
              "    [theme=dark] .colab-df-convert {\n",
              "      background-color: #3B4455;\n",
              "      fill: #D2E3FC;\n",
              "    }\n",
              "\n",
              "    [theme=dark] .colab-df-convert:hover {\n",
              "      background-color: #434B5C;\n",
              "      box-shadow: 0px 1px 3px 1px rgba(0, 0, 0, 0.15);\n",
              "      filter: drop-shadow(0px 1px 2px rgba(0, 0, 0, 0.3));\n",
              "      fill: #FFFFFF;\n",
              "    }\n",
              "  </style>\n",
              "\n",
              "      <script>\n",
              "        const buttonEl =\n",
              "          document.querySelector('#df-1bdcb482-dc2c-4765-a81a-e59133bb3fb0 button.colab-df-convert');\n",
              "        buttonEl.style.display =\n",
              "          google.colab.kernel.accessAllowed ? 'block' : 'none';\n",
              "\n",
              "        async function convertToInteractive(key) {\n",
              "          const element = document.querySelector('#df-1bdcb482-dc2c-4765-a81a-e59133bb3fb0');\n",
              "          const dataTable =\n",
              "            await google.colab.kernel.invokeFunction('convertToInteractive',\n",
              "                                                     [key], {});\n",
              "          if (!dataTable) return;\n",
              "\n",
              "          const docLinkHtml = 'Like what you see? Visit the ' +\n",
              "            '<a target=\"_blank\" href=https://colab.research.google.com/notebooks/data_table.ipynb>data table notebook</a>'\n",
              "            + ' to learn more about interactive tables.';\n",
              "          element.innerHTML = '';\n",
              "          dataTable['output_type'] = 'display_data';\n",
              "          await google.colab.output.renderOutput(dataTable, element);\n",
              "          const docLink = document.createElement('div');\n",
              "          docLink.innerHTML = docLinkHtml;\n",
              "          element.appendChild(docLink);\n",
              "        }\n",
              "      </script>\n",
              "    </div>\n",
              "  </div>\n",
              "  "
            ]
          },
          "metadata": {},
          "execution_count": 13
        }
      ],
      "source": [
        "df.head()"
      ]
    },
    {
      "cell_type": "markdown",
      "id": "857be600",
      "metadata": {
        "id": "857be600"
      },
      "source": [
        "### Splitting the dataset into dependent and independent Variable"
      ]
    },
    {
      "cell_type": "code",
      "execution_count": 14,
      "id": "d9b48cc1",
      "metadata": {
        "id": "d9b48cc1"
      },
      "outputs": [],
      "source": [
        "x=df.iloc[:,1:]"
      ]
    },
    {
      "cell_type": "code",
      "execution_count": 15,
      "id": "3d9780d9",
      "metadata": {
        "id": "3d9780d9"
      },
      "outputs": [],
      "source": [
        "y=df.iloc[:,0]"
      ]
    },
    {
      "cell_type": "code",
      "execution_count": 16,
      "id": "b9c8b2ea",
      "metadata": {
        "colab": {
          "base_uri": "https://localhost:8080/",
          "height": 0
        },
        "id": "b9c8b2ea",
        "outputId": "03b04697-aaaa-4ffd-bf3d-6869a15deb1b"
      },
      "outputs": [
        {
          "output_type": "execute_result",
          "data": {
            "text/plain": [
              "   cylinders  displacement  horsepower  weight  acceleration  model year  \\\n",
              "0          8         307.0         130    3504          12.0          70   \n",
              "1          8         350.0         165    3693          11.5          70   \n",
              "2          8         318.0         150    3436          11.0          70   \n",
              "3          8         304.0         150    3433          12.0          70   \n",
              "4          8         302.0         140    3449          10.5          70   \n",
              "\n",
              "   origin  \n",
              "0       1  \n",
              "1       1  \n",
              "2       1  \n",
              "3       1  \n",
              "4       1  "
            ],
            "text/html": [
              "\n",
              "  <div id=\"df-2c437b05-133d-43e7-9ff3-6ace04ccca89\">\n",
              "    <div class=\"colab-df-container\">\n",
              "      <div>\n",
              "<style scoped>\n",
              "    .dataframe tbody tr th:only-of-type {\n",
              "        vertical-align: middle;\n",
              "    }\n",
              "\n",
              "    .dataframe tbody tr th {\n",
              "        vertical-align: top;\n",
              "    }\n",
              "\n",
              "    .dataframe thead th {\n",
              "        text-align: right;\n",
              "    }\n",
              "</style>\n",
              "<table border=\"1\" class=\"dataframe\">\n",
              "  <thead>\n",
              "    <tr style=\"text-align: right;\">\n",
              "      <th></th>\n",
              "      <th>cylinders</th>\n",
              "      <th>displacement</th>\n",
              "      <th>horsepower</th>\n",
              "      <th>weight</th>\n",
              "      <th>acceleration</th>\n",
              "      <th>model year</th>\n",
              "      <th>origin</th>\n",
              "    </tr>\n",
              "  </thead>\n",
              "  <tbody>\n",
              "    <tr>\n",
              "      <th>0</th>\n",
              "      <td>8</td>\n",
              "      <td>307.0</td>\n",
              "      <td>130</td>\n",
              "      <td>3504</td>\n",
              "      <td>12.0</td>\n",
              "      <td>70</td>\n",
              "      <td>1</td>\n",
              "    </tr>\n",
              "    <tr>\n",
              "      <th>1</th>\n",
              "      <td>8</td>\n",
              "      <td>350.0</td>\n",
              "      <td>165</td>\n",
              "      <td>3693</td>\n",
              "      <td>11.5</td>\n",
              "      <td>70</td>\n",
              "      <td>1</td>\n",
              "    </tr>\n",
              "    <tr>\n",
              "      <th>2</th>\n",
              "      <td>8</td>\n",
              "      <td>318.0</td>\n",
              "      <td>150</td>\n",
              "      <td>3436</td>\n",
              "      <td>11.0</td>\n",
              "      <td>70</td>\n",
              "      <td>1</td>\n",
              "    </tr>\n",
              "    <tr>\n",
              "      <th>3</th>\n",
              "      <td>8</td>\n",
              "      <td>304.0</td>\n",
              "      <td>150</td>\n",
              "      <td>3433</td>\n",
              "      <td>12.0</td>\n",
              "      <td>70</td>\n",
              "      <td>1</td>\n",
              "    </tr>\n",
              "    <tr>\n",
              "      <th>4</th>\n",
              "      <td>8</td>\n",
              "      <td>302.0</td>\n",
              "      <td>140</td>\n",
              "      <td>3449</td>\n",
              "      <td>10.5</td>\n",
              "      <td>70</td>\n",
              "      <td>1</td>\n",
              "    </tr>\n",
              "  </tbody>\n",
              "</table>\n",
              "</div>\n",
              "      <button class=\"colab-df-convert\" onclick=\"convertToInteractive('df-2c437b05-133d-43e7-9ff3-6ace04ccca89')\"\n",
              "              title=\"Convert this dataframe to an interactive table.\"\n",
              "              style=\"display:none;\">\n",
              "        \n",
              "  <svg xmlns=\"http://www.w3.org/2000/svg\" height=\"24px\"viewBox=\"0 0 24 24\"\n",
              "       width=\"24px\">\n",
              "    <path d=\"M0 0h24v24H0V0z\" fill=\"none\"/>\n",
              "    <path d=\"M18.56 5.44l.94 2.06.94-2.06 2.06-.94-2.06-.94-.94-2.06-.94 2.06-2.06.94zm-11 1L8.5 8.5l.94-2.06 2.06-.94-2.06-.94L8.5 2.5l-.94 2.06-2.06.94zm10 10l.94 2.06.94-2.06 2.06-.94-2.06-.94-.94-2.06-.94 2.06-2.06.94z\"/><path d=\"M17.41 7.96l-1.37-1.37c-.4-.4-.92-.59-1.43-.59-.52 0-1.04.2-1.43.59L10.3 9.45l-7.72 7.72c-.78.78-.78 2.05 0 2.83L4 21.41c.39.39.9.59 1.41.59.51 0 1.02-.2 1.41-.59l7.78-7.78 2.81-2.81c.8-.78.8-2.07 0-2.86zM5.41 20L4 18.59l7.72-7.72 1.47 1.35L5.41 20z\"/>\n",
              "  </svg>\n",
              "      </button>\n",
              "      \n",
              "  <style>\n",
              "    .colab-df-container {\n",
              "      display:flex;\n",
              "      flex-wrap:wrap;\n",
              "      gap: 12px;\n",
              "    }\n",
              "\n",
              "    .colab-df-convert {\n",
              "      background-color: #E8F0FE;\n",
              "      border: none;\n",
              "      border-radius: 50%;\n",
              "      cursor: pointer;\n",
              "      display: none;\n",
              "      fill: #1967D2;\n",
              "      height: 32px;\n",
              "      padding: 0 0 0 0;\n",
              "      width: 32px;\n",
              "    }\n",
              "\n",
              "    .colab-df-convert:hover {\n",
              "      background-color: #E2EBFA;\n",
              "      box-shadow: 0px 1px 2px rgba(60, 64, 67, 0.3), 0px 1px 3px 1px rgba(60, 64, 67, 0.15);\n",
              "      fill: #174EA6;\n",
              "    }\n",
              "\n",
              "    [theme=dark] .colab-df-convert {\n",
              "      background-color: #3B4455;\n",
              "      fill: #D2E3FC;\n",
              "    }\n",
              "\n",
              "    [theme=dark] .colab-df-convert:hover {\n",
              "      background-color: #434B5C;\n",
              "      box-shadow: 0px 1px 3px 1px rgba(0, 0, 0, 0.15);\n",
              "      filter: drop-shadow(0px 1px 2px rgba(0, 0, 0, 0.3));\n",
              "      fill: #FFFFFF;\n",
              "    }\n",
              "  </style>\n",
              "\n",
              "      <script>\n",
              "        const buttonEl =\n",
              "          document.querySelector('#df-2c437b05-133d-43e7-9ff3-6ace04ccca89 button.colab-df-convert');\n",
              "        buttonEl.style.display =\n",
              "          google.colab.kernel.accessAllowed ? 'block' : 'none';\n",
              "\n",
              "        async function convertToInteractive(key) {\n",
              "          const element = document.querySelector('#df-2c437b05-133d-43e7-9ff3-6ace04ccca89');\n",
              "          const dataTable =\n",
              "            await google.colab.kernel.invokeFunction('convertToInteractive',\n",
              "                                                     [key], {});\n",
              "          if (!dataTable) return;\n",
              "\n",
              "          const docLinkHtml = 'Like what you see? Visit the ' +\n",
              "            '<a target=\"_blank\" href=https://colab.research.google.com/notebooks/data_table.ipynb>data table notebook</a>'\n",
              "            + ' to learn more about interactive tables.';\n",
              "          element.innerHTML = '';\n",
              "          dataTable['output_type'] = 'display_data';\n",
              "          await google.colab.output.renderOutput(dataTable, element);\n",
              "          const docLink = document.createElement('div');\n",
              "          docLink.innerHTML = docLinkHtml;\n",
              "          element.appendChild(docLink);\n",
              "        }\n",
              "      </script>\n",
              "    </div>\n",
              "  </div>\n",
              "  "
            ]
          },
          "metadata": {},
          "execution_count": 16
        }
      ],
      "source": [
        "x.head()"
      ]
    },
    {
      "cell_type": "code",
      "execution_count": 17,
      "id": "160e129e",
      "metadata": {
        "colab": {
          "base_uri": "https://localhost:8080/"
        },
        "id": "160e129e",
        "outputId": "7886efaa-ca75-400b-fd8a-1fa30a266982"
      },
      "outputs": [
        {
          "output_type": "execute_result",
          "data": {
            "text/plain": [
              "0    18.0\n",
              "1    15.0\n",
              "2    18.0\n",
              "3    16.0\n",
              "4    17.0\n",
              "Name: mpg, dtype: float64"
            ]
          },
          "metadata": {},
          "execution_count": 17
        }
      ],
      "source": [
        "y.head()"
      ]
    },
    {
      "cell_type": "markdown",
      "id": "93ee36cb",
      "metadata": {
        "id": "93ee36cb"
      },
      "source": [
        "### Splitting the dataset into train and test"
      ]
    },
    {
      "cell_type": "code",
      "execution_count": 18,
      "id": "5a09ff55",
      "metadata": {
        "id": "5a09ff55"
      },
      "outputs": [],
      "source": [
        "from sklearn.model_selection import train_test_split\n",
        "x_train,x_test, y_train, y_test = train_test_split(x,y,test_size=0.2)"
      ]
    },
    {
      "cell_type": "code",
      "execution_count": 19,
      "id": "9f180e16",
      "metadata": {
        "colab": {
          "base_uri": "https://localhost:8080/"
        },
        "id": "9f180e16",
        "outputId": "3354435d-bd95-4e60-8488-270b9748d5dd"
      },
      "outputs": [
        {
          "output_type": "execute_result",
          "data": {
            "text/plain": [
              "((318, 7), (80, 7), (318,), (80,))"
            ]
          },
          "metadata": {},
          "execution_count": 19
        }
      ],
      "source": [
        "x_train.shape,x_test.shape,y_train.shape,y_test.shape"
      ]
    },
    {
      "cell_type": "markdown",
      "id": "2ce21e0d",
      "metadata": {
        "id": "2ce21e0d"
      },
      "source": [
        "### Normalizing the values"
      ]
    },
    {
      "cell_type": "code",
      "execution_count": 20,
      "id": "60802dee",
      "metadata": {
        "id": "60802dee"
      },
      "outputs": [],
      "source": [
        "from sklearn.preprocessing import StandardScaler\n",
        "sd = StandardScaler()\n",
        "x_train=sd.fit_transform(x_train)\n",
        "x_test=sd.fit_transform(x_test)"
      ]
    },
    {
      "cell_type": "code",
      "execution_count": 21,
      "id": "d8312c2b",
      "metadata": {
        "colab": {
          "base_uri": "https://localhost:8080/"
        },
        "id": "d8312c2b",
        "outputId": "a1535e2e-53ff-4fe4-eeba-405a4413dfcb"
      },
      "outputs": [
        {
          "output_type": "execute_result",
          "data": {
            "text/plain": [
              "array([[ 0.35840869, -0.32978799,  0.11041016, ..., -0.59611941,\n",
              "        -0.85287671, -0.74238164],\n",
              "       [ 1.53948602,  1.24281835,  1.2254386 , ..., -0.88608648,\n",
              "        -0.04808504, -0.74238164],\n",
              "       [-0.82266865, -0.88936571, -0.9268256 , ...,  0.85371594,\n",
              "         1.02497053,  1.66657102],\n",
              "       ...,\n",
              "       [-0.82266865, -0.88936571, -0.71937845, ...,  0.2737818 ,\n",
              "        -0.04808504,  1.66657102],\n",
              "       [-0.82266865, -0.94725306, -1.10834186, ...,  0.2737818 ,\n",
              "         0.48844275,  1.66657102],\n",
              "       [-0.82266865, -0.47450637, -0.27855325, ..., -0.26990645,\n",
              "        -0.04808504, -0.74238164]])"
            ]
          },
          "metadata": {},
          "execution_count": 21
        }
      ],
      "source": [
        "x_train"
      ]
    },
    {
      "cell_type": "markdown",
      "id": "22fbfbed",
      "metadata": {
        "id": "22fbfbed"
      },
      "source": [
        "# Model Building"
      ]
    },
    {
      "cell_type": "markdown",
      "id": "bb897ee8",
      "metadata": {
        "id": "bb897ee8"
      },
      "source": [
        "### Implementing the RandomForestRegression Algorithm"
      ]
    },
    {
      "cell_type": "code",
      "execution_count": 22,
      "id": "940067f4",
      "metadata": {
        "id": "940067f4"
      },
      "outputs": [],
      "source": [
        "from sklearn.ensemble import RandomForestRegressor"
      ]
    },
    {
      "cell_type": "code",
      "execution_count": 23,
      "id": "345e85f9",
      "metadata": {
        "id": "345e85f9"
      },
      "outputs": [],
      "source": [
        "rf = RandomForestRegressor(n_estimators=30,random_state=0)"
      ]
    },
    {
      "cell_type": "code",
      "execution_count": 24,
      "id": "4b85891d",
      "metadata": {
        "colab": {
          "base_uri": "https://localhost:8080/"
        },
        "id": "4b85891d",
        "outputId": "94161c2d-5f4f-4036-d7a8-ca65529b43ce"
      },
      "outputs": [
        {
          "output_type": "execute_result",
          "data": {
            "text/plain": [
              "RandomForestRegressor(n_estimators=30, random_state=0)"
            ]
          },
          "metadata": {},
          "execution_count": 24
        }
      ],
      "source": [
        "rf.fit(x_train,y_train)"
      ]
    },
    {
      "cell_type": "markdown",
      "id": "c2e1a409",
      "metadata": {
        "id": "c2e1a409"
      },
      "source": [
        "## Predicting the Value"
      ]
    },
    {
      "cell_type": "code",
      "execution_count": 25,
      "id": "117f768f",
      "metadata": {
        "id": "117f768f"
      },
      "outputs": [],
      "source": [
        "y_pred = rf.predict(x_test)"
      ]
    },
    {
      "cell_type": "code",
      "execution_count": 26,
      "id": "9380c9f9",
      "metadata": {
        "colab": {
          "base_uri": "https://localhost:8080/"
        },
        "id": "9380c9f9",
        "outputId": "d24785db-5431-4539-8ad0-feeaff6fa5aa"
      },
      "outputs": [
        {
          "output_type": "execute_result",
          "data": {
            "text/plain": [
              "array([14.56666667, 18.97333333, 27.88333333, 20.35      , 31.49333333,\n",
              "       29.62333333, 13.1       , 15.73333333, 37.92666667, 23.93      ,\n",
              "       13.97333333, 14.66666667, 25.8       , 17.07666667, 28.98333333,\n",
              "       27.85      , 29.72333333, 32.36      , 16.63      , 28.91666667,\n",
              "       20.82      , 14.33333333, 26.11333333, 34.64333333, 22.44      ,\n",
              "       28.23333333, 27.61666667, 21.22      , 29.93333333, 19.71333333,\n",
              "       26.44666667, 13.78333333, 17.05666667, 21.04666667, 24.04333333,\n",
              "       17.19666667, 28.86666667, 24.16      , 19.18666667, 15.13333333,\n",
              "       34.71666667, 13.98333333, 36.97666667, 18.09333333, 27.75      ,\n",
              "       42.46666667, 37.32666667, 18.16666667, 22.21666667, 21.90666667,\n",
              "       33.02666667, 35.81      , 28.86666667, 19.65      , 15.61      ,\n",
              "       32.96      , 19.64      , 13.85      , 13.86666667, 18.74      ,\n",
              "       29.77333333, 21.43333333, 13.9       , 39.45333333, 13.86666667,\n",
              "       20.48      , 26.26333333, 17.23      , 19.19      , 24.01666667,\n",
              "       20.2       , 35.32333333, 18.67      , 15.37333333, 28.21666667,\n",
              "       16.28333333, 23.69666667, 12.83333333, 31.19333333, 26.42333333])"
            ]
          },
          "metadata": {},
          "execution_count": 26
        }
      ],
      "source": [
        "y_pred"
      ]
    },
    {
      "cell_type": "markdown",
      "id": "5f2e617b",
      "metadata": {
        "id": "5f2e617b"
      },
      "source": [
        "## Model Evaluation"
      ]
    },
    {
      "cell_type": "code",
      "execution_count": 27,
      "id": "6c3d0871",
      "metadata": {
        "id": "6c3d0871"
      },
      "outputs": [],
      "source": [
        "from sklearn.metrics import r2_score,mean_squared_error"
      ]
    },
    {
      "cell_type": "code",
      "execution_count": 28,
      "id": "00fed86a",
      "metadata": {
        "id": "00fed86a"
      },
      "outputs": [],
      "source": [
        "acc = r2_score(y_test, y_pred)"
      ]
    },
    {
      "cell_type": "code",
      "execution_count": 29,
      "id": "9a7e36b9",
      "metadata": {
        "colab": {
          "base_uri": "https://localhost:8080/"
        },
        "id": "9a7e36b9",
        "outputId": "74c8481d-db4b-4dc4-d487-adb595bce0b3"
      },
      "outputs": [
        {
          "output_type": "execute_result",
          "data": {
            "text/plain": [
              "0.8328648682960262"
            ]
          },
          "metadata": {},
          "execution_count": 29
        }
      ],
      "source": [
        "acc"
      ]
    },
    {
      "cell_type": "code",
      "execution_count": 30,
      "id": "47601493",
      "metadata": {
        "id": "47601493"
      },
      "outputs": [],
      "source": [
        "err=np.sqrt(mean_squared_error(y_test,y_pred))"
      ]
    },
    {
      "cell_type": "code",
      "execution_count": 31,
      "id": "b18974de",
      "metadata": {
        "colab": {
          "base_uri": "https://localhost:8080/"
        },
        "id": "b18974de",
        "outputId": "eddd0639-12b0-4c04-8bcf-de95cb8ea9e2"
      },
      "outputs": [
        {
          "output_type": "execute_result",
          "data": {
            "text/plain": [
              "2.9324706828126272"
            ]
          },
          "metadata": {},
          "execution_count": 31
        }
      ],
      "source": [
        "err"
      ]
    },
    {
      "cell_type": "markdown",
      "id": "236238a4",
      "metadata": {
        "id": "236238a4"
      },
      "source": [
        "### Exporting the model"
      ]
    },
    {
      "cell_type": "code",
      "execution_count": 32,
      "id": "2039ef17",
      "metadata": {
        "id": "2039ef17"
      },
      "outputs": [],
      "source": [
        "import pickle"
      ]
    },
    {
      "cell_type": "code",
      "execution_count": 33,
      "id": "d5f83379",
      "metadata": {
        "id": "d5f83379"
      },
      "outputs": [],
      "source": [
        "pickle.dump(rf,open('RFregression.pkl','wb'))"
      ]
    },
    {
      "cell_type": "raw",
      "id": "b61b956b",
      "metadata": {
        "id": "b61b956b"
      },
      "source": []
    },
    {
      "cell_type": "code",
      "execution_count": 33,
      "id": "6a65bac0",
      "metadata": {
        "id": "6a65bac0"
      },
      "outputs": [],
      "source": []
    },
    {
      "cell_type": "code",
      "execution_count": 33,
      "id": "6b24376f",
      "metadata": {
        "id": "6b24376f"
      },
      "outputs": [],
      "source": []
    },
    {
      "cell_type": "code",
      "execution_count": 33,
      "id": "296ee452",
      "metadata": {
        "id": "296ee452"
      },
      "outputs": [],
      "source": []
    }
  ],
  "metadata": {
    "kernelspec": {
      "display_name": "Python 3 (ipykernel)",
      "language": "python",
      "name": "python3"
    },
    "language_info": {
      "codemirror_mode": {
        "name": "ipython",
        "version": 3
      },
      "file_extension": ".py",
      "mimetype": "text/x-python",
      "name": "python",
      "nbconvert_exporter": "python",
      "pygments_lexer": "ipython3",
      "version": "3.10.6"
    },
    "colab": {
      "provenance": []
    }
  },
  "nbformat": 4,
  "nbformat_minor": 5
}